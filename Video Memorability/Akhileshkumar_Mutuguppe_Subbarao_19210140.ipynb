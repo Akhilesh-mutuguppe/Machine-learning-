{
  "nbformat": 4,
  "nbformat_minor": 0,
  "metadata": {
    "colab": {
      "name": "19210140_sourcecode.ipynb",
      "provenance": [],
      "collapsed_sections": []
    },
    "kernelspec": {
      "display_name": "Python 3",
      "language": "python",
      "name": "python3"
    },
    "language_info": {
      "codemirror_mode": {
        "name": "ipython",
        "version": 3
      },
      "file_extension": ".py",
      "mimetype": "text/x-python",
      "name": "python",
      "nbconvert_exporter": "python",
      "pygments_lexer": "ipython3",
      "version": "3.7.4"
    }
  },
  "cells": [
    {
      "cell_type": "code",
      "metadata": {
        "colab_type": "code",
        "id": "hX3mEHfmpsYt",
        "outputId": "4a44af72-7fc6-46a3-f972-206e11deabda",
        "colab": {
          "base_uri": "https://localhost:8080/",
          "height": 66
        }
      },
      "source": [
        "import numpy as np\n",
        "import pandas as pd\n",
        "import matplotlib.pyplot as plt\n",
        "import glob\n",
        "import os\n",
        "import re\n",
        "import nltk\n",
        "from sklearn.feature_extraction.text import CountVectorizer\n",
        "from sklearn.feature_extraction.text import TfidfVectorizer\n",
        "from sklearn.model_selection import train_test_split\n",
        "from sklearn.linear_model import LinearRegression\n",
        "nltk.download('stopwords')\n",
        "from nltk.corpus import stopwords\n",
        "from keras import regularizers\n",
        "from keras.preprocessing.text import Tokenizer\n",
        "from sklearn.model_selection import train_test_split\n",
        "from collections import Counter\n",
        "from keras.preprocessing.text import Tokenizer\n",
        "from __future__ import print_function\n",
        "from keras.preprocessing import sequence\n",
        "from keras.models import Sequential\n",
        "from keras.layers import Dense, Embedding,ConvLSTM2D\n",
        "from keras import layers"
      ],
      "execution_count": 0,
      "outputs": [
        {
          "output_type": "stream",
          "text": [
            "[nltk_data] Downloading package stopwords to /root/nltk_data...\n",
            "[nltk_data]   Unzipping corpora/stopwords.zip.\n"
          ],
          "name": "stdout"
        },
        {
          "output_type": "stream",
          "text": [
            "Using TensorFlow backend.\n"
          ],
          "name": "stderr"
        }
      ]
    },
    {
      "cell_type": "code",
      "metadata": {
        "colab_type": "code",
        "id": "cHtpqHvCp3kf",
        "outputId": "165387bd-e932-4148-ffc9-af23feb3d25f",
        "colab": {
          "base_uri": "https://localhost:8080/",
          "height": 334
        }
      },
      "source": [
        "!pip install --force https://github.com/chengs/tqdm/archive/colab.zip\n",
        "from tqdm import tqdm_notebook as tqdm"
      ],
      "execution_count": 0,
      "outputs": [
        {
          "output_type": "stream",
          "text": [
            "Collecting https://github.com/chengs/tqdm/archive/colab.zip\n",
            "\u001b[?25l  Downloading https://github.com/chengs/tqdm/archive/colab.zip\n",
            "\u001b[K     / 368kB 1.5MB/s\n",
            "\u001b[?25hBuilding wheels for collected packages: tqdm\n",
            "  Building wheel for tqdm (setup.py) ... \u001b[?25l\u001b[?25hdone\n",
            "  Created wheel for tqdm: filename=tqdm-4.28.1-py2.py3-none-any.whl size=47867 sha256=bf04fa5f60ec1136fb7280bab1c15b70991c47cedc3338a0037c5501a8050934\n",
            "  Stored in directory: /tmp/pip-ephem-wheel-cache-iq5kvy4m/wheels/41/18/ee/d5dd158441b27965855b1bbae03fa2d8a91fe645c01b419896\n",
            "Successfully built tqdm\n",
            "\u001b[31mERROR: spacy 2.2.4 has requirement tqdm<5.0.0,>=4.38.0, but you'll have tqdm 4.28.1 which is incompatible.\u001b[0m\n",
            "Installing collected packages: tqdm\n",
            "  Found existing installation: tqdm 4.38.0\n",
            "    Uninstalling tqdm-4.38.0:\n",
            "      Successfully uninstalled tqdm-4.38.0\n",
            "Successfully installed tqdm-4.28.1\n"
          ],
          "name": "stdout"
        },
        {
          "output_type": "display_data",
          "data": {
            "application/vnd.colab-display-data+json": {
              "pip_warning": {
                "packages": [
                  "tqdm"
                ]
              }
            }
          },
          "metadata": {
            "tags": []
          }
        }
      ]
    },
    {
      "cell_type": "markdown",
      "metadata": {
        "colab_type": "text",
        "id": "X9OTT60nnQEi"
      },
      "source": [
        "#### Connecting to Google drive"
      ]
    },
    {
      "cell_type": "code",
      "metadata": {
        "colab_type": "code",
        "id": "G9AAp-Y9p57Y",
        "outputId": "8d821791-38a9-4ac6-f1d9-20f0dd8d4b44",
        "scrolled": true,
        "colab": {
          "base_uri": "https://localhost:8080/",
          "height": 120
        }
      },
      "source": [
        "from google.colab import drive\n",
        "drive.mount('/content/drive/', force_remount=True)"
      ],
      "execution_count": 0,
      "outputs": [
        {
          "output_type": "stream",
          "text": [
            "Go to this URL in a browser: https://accounts.google.com/o/oauth2/auth?client_id=947318989803-6bn6qk8qdgf4n4g3pfee6491hc0brc4i.apps.googleusercontent.com&redirect_uri=urn%3aietf%3awg%3aoauth%3a2.0%3aoob&response_type=code&scope=email%20https%3a%2f%2fwww.googleapis.com%2fauth%2fdocs.test%20https%3a%2f%2fwww.googleapis.com%2fauth%2fdrive%20https%3a%2f%2fwww.googleapis.com%2fauth%2fdrive.photos.readonly%20https%3a%2f%2fwww.googleapis.com%2fauth%2fpeopleapi.readonly\n",
            "\n",
            "Enter your authorization code:\n",
            "··········\n",
            "Mounted at /content/drive/\n"
          ],
          "name": "stdout"
        }
      ]
    },
    {
      "cell_type": "code",
      "metadata": {
        "colab_type": "code",
        "id": "1m2olcD-qET0",
        "colab": {}
      },
      "source": [
        "os.chdir(\"/content/drive/My Drive/CA684_Assignment/Dev-set\")"
      ],
      "execution_count": 0,
      "outputs": []
    },
    {
      "cell_type": "markdown",
      "metadata": {
        "colab_type": "text",
        "id": "QfSStt0ZnXN7"
      },
      "source": [
        "#### Input dev set Ground Truth file"
      ]
    },
    {
      "cell_type": "code",
      "metadata": {
        "colab_type": "code",
        "id": "h9-Fl5YoqHBb",
        "colab": {}
      },
      "source": [
        "ground_truth= pd.read_csv(\"Ground-truth/ground-truth.csv\")"
      ],
      "execution_count": 0,
      "outputs": []
    },
    {
      "cell_type": "code",
      "metadata": {
        "colab_type": "code",
        "id": "wFAatl7uqSpT",
        "outputId": "7e0abd8b-7a6d-4b54-bbd5-2ecfc08c7d03",
        "colab": {
          "base_uri": "https://localhost:8080/",
          "height": 197
        }
      },
      "source": [
        "ground_truth.head()"
      ],
      "execution_count": 0,
      "outputs": [
        {
          "output_type": "execute_result",
          "data": {
            "text/html": [
              "<div>\n",
              "<style scoped>\n",
              "    .dataframe tbody tr th:only-of-type {\n",
              "        vertical-align: middle;\n",
              "    }\n",
              "\n",
              "    .dataframe tbody tr th {\n",
              "        vertical-align: top;\n",
              "    }\n",
              "\n",
              "    .dataframe thead th {\n",
              "        text-align: right;\n",
              "    }\n",
              "</style>\n",
              "<table border=\"1\" class=\"dataframe\">\n",
              "  <thead>\n",
              "    <tr style=\"text-align: right;\">\n",
              "      <th></th>\n",
              "      <th>video</th>\n",
              "      <th>short-term_memorability</th>\n",
              "      <th>nb_short-term_annotations</th>\n",
              "      <th>long-term_memorability</th>\n",
              "      <th>nb_long-term_annotations</th>\n",
              "    </tr>\n",
              "  </thead>\n",
              "  <tbody>\n",
              "    <tr>\n",
              "      <th>0</th>\n",
              "      <td>video3.webm</td>\n",
              "      <td>0.924</td>\n",
              "      <td>34</td>\n",
              "      <td>0.846</td>\n",
              "      <td>13</td>\n",
              "    </tr>\n",
              "    <tr>\n",
              "      <th>1</th>\n",
              "      <td>video4.webm</td>\n",
              "      <td>0.923</td>\n",
              "      <td>33</td>\n",
              "      <td>0.667</td>\n",
              "      <td>12</td>\n",
              "    </tr>\n",
              "    <tr>\n",
              "      <th>2</th>\n",
              "      <td>video6.webm</td>\n",
              "      <td>0.863</td>\n",
              "      <td>33</td>\n",
              "      <td>0.700</td>\n",
              "      <td>10</td>\n",
              "    </tr>\n",
              "    <tr>\n",
              "      <th>3</th>\n",
              "      <td>video8.webm</td>\n",
              "      <td>0.922</td>\n",
              "      <td>33</td>\n",
              "      <td>0.818</td>\n",
              "      <td>11</td>\n",
              "    </tr>\n",
              "    <tr>\n",
              "      <th>4</th>\n",
              "      <td>video10.webm</td>\n",
              "      <td>0.950</td>\n",
              "      <td>34</td>\n",
              "      <td>0.900</td>\n",
              "      <td>10</td>\n",
              "    </tr>\n",
              "  </tbody>\n",
              "</table>\n",
              "</div>"
            ],
            "text/plain": [
              "          video  ...  nb_long-term_annotations\n",
              "0   video3.webm  ...                        13\n",
              "1   video4.webm  ...                        12\n",
              "2   video6.webm  ...                        10\n",
              "3   video8.webm  ...                        11\n",
              "4  video10.webm  ...                        10\n",
              "\n",
              "[5 rows x 5 columns]"
            ]
          },
          "metadata": {
            "tags": []
          },
          "execution_count": 6
        }
      ]
    },
    {
      "cell_type": "code",
      "metadata": {
        "colab_type": "code",
        "id": "4MsdD47oqXTI",
        "outputId": "7aec86fd-f59f-4a74-dccd-fc2fac9e08cd",
        "colab": {
          "base_uri": "https://localhost:8080/",
          "height": 197
        }
      },
      "source": [
        "ground_truth = ground_truth.drop(['nb_short-term_annotations', 'nb_long-term_annotations'],axis=1)\n",
        "ground_truth.head()"
      ],
      "execution_count": 0,
      "outputs": [
        {
          "output_type": "execute_result",
          "data": {
            "text/html": [
              "<div>\n",
              "<style scoped>\n",
              "    .dataframe tbody tr th:only-of-type {\n",
              "        vertical-align: middle;\n",
              "    }\n",
              "\n",
              "    .dataframe tbody tr th {\n",
              "        vertical-align: top;\n",
              "    }\n",
              "\n",
              "    .dataframe thead th {\n",
              "        text-align: right;\n",
              "    }\n",
              "</style>\n",
              "<table border=\"1\" class=\"dataframe\">\n",
              "  <thead>\n",
              "    <tr style=\"text-align: right;\">\n",
              "      <th></th>\n",
              "      <th>video</th>\n",
              "      <th>short-term_memorability</th>\n",
              "      <th>long-term_memorability</th>\n",
              "    </tr>\n",
              "  </thead>\n",
              "  <tbody>\n",
              "    <tr>\n",
              "      <th>0</th>\n",
              "      <td>video3.webm</td>\n",
              "      <td>0.924</td>\n",
              "      <td>0.846</td>\n",
              "    </tr>\n",
              "    <tr>\n",
              "      <th>1</th>\n",
              "      <td>video4.webm</td>\n",
              "      <td>0.923</td>\n",
              "      <td>0.667</td>\n",
              "    </tr>\n",
              "    <tr>\n",
              "      <th>2</th>\n",
              "      <td>video6.webm</td>\n",
              "      <td>0.863</td>\n",
              "      <td>0.700</td>\n",
              "    </tr>\n",
              "    <tr>\n",
              "      <th>3</th>\n",
              "      <td>video8.webm</td>\n",
              "      <td>0.922</td>\n",
              "      <td>0.818</td>\n",
              "    </tr>\n",
              "    <tr>\n",
              "      <th>4</th>\n",
              "      <td>video10.webm</td>\n",
              "      <td>0.950</td>\n",
              "      <td>0.900</td>\n",
              "    </tr>\n",
              "  </tbody>\n",
              "</table>\n",
              "</div>"
            ],
            "text/plain": [
              "          video  short-term_memorability  long-term_memorability\n",
              "0   video3.webm                    0.924                   0.846\n",
              "1   video4.webm                    0.923                   0.667\n",
              "2   video6.webm                    0.863                   0.700\n",
              "3   video8.webm                    0.922                   0.818\n",
              "4  video10.webm                    0.950                   0.900"
            ]
          },
          "metadata": {
            "tags": []
          },
          "execution_count": 7
        }
      ]
    },
    {
      "cell_type": "markdown",
      "metadata": {
        "colab_type": "text",
        "id": "RHpUw14ItmX9"
      },
      "source": [
        "### Captions"
      ]
    },
    {
      "cell_type": "code",
      "metadata": {
        "colab_type": "code",
        "id": "xAeFQtKiqcKz",
        "outputId": "a723d4fa-5862-4b81-e391-c49f68494e2d",
        "colab": {
          "base_uri": "https://localhost:8080/",
          "height": 197
        }
      },
      "source": [
        "captions = pd.read_csv(\"Captions/dev-set_video-captions.txt\",delimiter='\\t',names=('video','caption'))\n",
        "captions.head()"
      ],
      "execution_count": 0,
      "outputs": [
        {
          "output_type": "execute_result",
          "data": {
            "text/html": [
              "<div>\n",
              "<style scoped>\n",
              "    .dataframe tbody tr th:only-of-type {\n",
              "        vertical-align: middle;\n",
              "    }\n",
              "\n",
              "    .dataframe tbody tr th {\n",
              "        vertical-align: top;\n",
              "    }\n",
              "\n",
              "    .dataframe thead th {\n",
              "        text-align: right;\n",
              "    }\n",
              "</style>\n",
              "<table border=\"1\" class=\"dataframe\">\n",
              "  <thead>\n",
              "    <tr style=\"text-align: right;\">\n",
              "      <th></th>\n",
              "      <th>video</th>\n",
              "      <th>caption</th>\n",
              "    </tr>\n",
              "  </thead>\n",
              "  <tbody>\n",
              "    <tr>\n",
              "      <th>0</th>\n",
              "      <td>video3.webm</td>\n",
              "      <td>blonde-woman-is-massaged-tilt-down</td>\n",
              "    </tr>\n",
              "    <tr>\n",
              "      <th>1</th>\n",
              "      <td>video4.webm</td>\n",
              "      <td>roulette-table-spinning-with-ball-in-closeup-shot</td>\n",
              "    </tr>\n",
              "    <tr>\n",
              "      <th>2</th>\n",
              "      <td>video6.webm</td>\n",
              "      <td>khr-gangsters</td>\n",
              "    </tr>\n",
              "    <tr>\n",
              "      <th>3</th>\n",
              "      <td>video8.webm</td>\n",
              "      <td>medical-helicopter-hovers-at-airport</td>\n",
              "    </tr>\n",
              "    <tr>\n",
              "      <th>4</th>\n",
              "      <td>video10.webm</td>\n",
              "      <td>couple-relaxing-on-picnic-crane-shot</td>\n",
              "    </tr>\n",
              "  </tbody>\n",
              "</table>\n",
              "</div>"
            ],
            "text/plain": [
              "          video                                            caption\n",
              "0   video3.webm                 blonde-woman-is-massaged-tilt-down\n",
              "1   video4.webm  roulette-table-spinning-with-ball-in-closeup-shot\n",
              "2   video6.webm                                      khr-gangsters\n",
              "3   video8.webm               medical-helicopter-hovers-at-airport\n",
              "4  video10.webm               couple-relaxing-on-picnic-crane-shot"
            ]
          },
          "metadata": {
            "tags": []
          },
          "execution_count": 116
        }
      ]
    },
    {
      "cell_type": "markdown",
      "metadata": {
        "colab_type": "text",
        "id": "Vqf0_zlanpMe"
      },
      "source": [
        "#### Histogram to check the skewness of data - Short term are more memorable than long term"
      ]
    },
    {
      "cell_type": "code",
      "metadata": {
        "colab_type": "code",
        "id": "Fdxs6UEfm7CZ",
        "outputId": "f021656f-5269-46ba-d9c5-1cb9e7ce9b19",
        "colab": {
          "base_uri": "https://localhost:8080/",
          "height": 281
        }
      },
      "source": [
        "ground_truth['short-term_memorability'].hist()"
      ],
      "execution_count": 0,
      "outputs": [
        {
          "output_type": "execute_result",
          "data": {
            "text/plain": [
              "<matplotlib.axes._subplots.AxesSubplot at 0x7fbfe2a6cf28>"
            ]
          },
          "metadata": {
            "tags": []
          },
          "execution_count": 396
        },
        {
          "output_type": "display_data",
          "data": {
            "image/png": "[encoded data removed]",
            "text/plain": [
              "<Figure size 432x288 with 1 Axes>"
            ]
          },
          "metadata": {
            "tags": [],
            "needs_background": "light"
          }
        }
      ]
    },
    {
      "cell_type": "code",
      "metadata": {
        "colab_type": "code",
        "id": "glkdvaDxnGTi",
        "outputId": "cb342c0c-07c5-4d9f-ac4c-c0e16f6edcb5",
        "colab": {
          "base_uri": "https://localhost:8080/",
          "height": 281
        }
      },
      "source": [
        "ground_truth['long-term_memorability'].hist()"
      ],
      "execution_count": 0,
      "outputs": [
        {
          "output_type": "execute_result",
          "data": {
            "text/plain": [
              "<matplotlib.axes._subplots.AxesSubplot at 0x7fbfd9b4ec18>"
            ]
          },
          "metadata": {
            "tags": []
          },
          "execution_count": 397
        },
        {
          "output_type": "display_data",
          "data": {
            "image/png": "[encoded data removed]",
            "text/plain": [
              "<Figure size 432x288 with 1 Axes>"
            ]
          },
          "metadata": {
            "tags": [],
            "needs_background": "light"
          }
        }
      ]
    },
    {
      "cell_type": "code",
      "metadata": {
        "colab_type": "code",
        "id": "JunjUwfSqh9_",
        "colab": {}
      },
      "source": [
        "df = pd.merge(ground_truth, captions, on = 'video')"
      ],
      "execution_count": 0,
      "outputs": []
    },
    {
      "cell_type": "markdown",
      "metadata": {
        "colab_type": "text",
        "id": "3KmexzKxn-gn"
      },
      "source": [
        "Cleaning the captions - removing special characters, numbers and converting all caption to lower case "
      ]
    },
    {
      "cell_type": "code",
      "metadata": {
        "colab_type": "code",
        "id": "V3p_n2QyqrM1",
        "colab": {}
      },
      "source": [
        "captions_clean = []\n",
        "for i in range(0, 6000):\n",
        "    captions_tmp = re.sub('[\\W^0-9]', ' ', captions['caption'][i])\n",
        "    captions_tmp = captions_tmp.lower().split()\n",
        "    captions_tmp = [word for word in captions_tmp if not word in set(stopwords.words('english'))]\n",
        "    captions_clean.append(' '.join(captions_tmp))"
      ],
      "execution_count": 0,
      "outputs": []
    },
    {
      "cell_type": "markdown",
      "metadata": {
        "colab_type": "text",
        "id": "pjvgX4ZxoSg3"
      },
      "source": [
        "#### Weights are given to certain words based on their positive and negative coefficients (R. Gupta et al. paper 2018) Higher weight to positive coefficient words (weights range between 0.51 to 0.66) Lower weigh to negative coefficient words (weights range from 0.1 to 0.23)"
      ]
    },
    {
      "cell_type": "code",
      "metadata": {
        "colab_type": "code",
        "id": "Wxeo36ZktStF",
        "outputId": "053bb0bd-a6f6-41d2-b9a3-f44c0d17d222",
        "colab": {
          "base_uri": "https://localhost:8080/",
          "height": 33
        }
      },
      "source": [
        "neg_words = {'mountains':0.10,'sunset':0.11,'trees':0.12,'mountain':0.13,'clouds':0.14,\n",
        "                     'river':0.15,'aerialof':0.16,'lake':0.17,'forest':0.18,'kenya':0.19,'landscape':0.20,\n",
        "                     'valley':0.21,'leaves':0.22,'sun':0.23}\n",
        "pos_words = {'woman':0.51,'eating':0.52,'putting':0.53,'lying':0.54,'girl':0.55,'selfie':0.56,'relaxing':0.57,\n",
        "                    'jellyfish':0.58,'cat':0.59,'super':0.60,'slow':0.61,\n",
        "                    'super':0.62,'american':0.63,'potrait':0.64,'pregnant':0.65,'couple':0.66}\n",
        "positive = []\n",
        "list1=[]\n",
        "negetive = []\n",
        "for i in range(0, 6000):\n",
        "    pw=0\n",
        "    nw=0\n",
        "    text = re.sub('[^a-zA-Z]', ' ', captions['caption'][i])\n",
        "    text = text.lower()\n",
        "    text = text.split()\n",
        "    text = [word for word in text if not word in set(stopwords.words('english'))]\n",
        "#     print(text)\n",
        "    for word in text:\n",
        "        if(word in set(pos_words.keys())):\n",
        "                pw = pw + pos_words[word]\n",
        "        if(word in set(neg_words.keys())):\n",
        "                nw = pw + neg_words[word]\n",
        "    positive.append(pw)\n",
        "    negetive.append(nw)\n",
        "\n",
        "words_df = pd.DataFrame(\n",
        "    {'pos_weights': positive,\n",
        "     'neg_weights': negetive\n",
        "    })\n",
        "words_df.shape"
      ],
      "execution_count": 0,
      "outputs": [
        {
          "output_type": "execute_result",
          "data": {
            "text/plain": [
              "(6000, 2)"
            ]
          },
          "metadata": {
            "tags": []
          },
          "execution_count": 119
        }
      ]
    },
    {
      "cell_type": "markdown",
      "metadata": {
        "colab_type": "text",
        "id": "csJqiv5Qo2ro"
      },
      "source": [
        "#### Vectorizing the caption data "
      ]
    },
    {
      "cell_type": "code",
      "metadata": {
        "colab_type": "code",
        "id": "dI3RjELEv6hL",
        "colab": {}
      },
      "source": [
        "df = captions_clean\n",
        "counts = Counter()\n",
        "for i, cap in enumerate(df):\n",
        "    counts.update(cap.split())\n",
        "vect = TfidfVectorizer(ngram_range = (1,4)).fit(df)\n",
        "vect_transformed_X_train = vect.transform(df)\n",
        "len_token = len(vect.get_feature_names())\n",
        "len_token = len(counts)\n",
        "len_token1=len_token+2\n",
        "tokenizer = Tokenizer(num_words=len_token)\n",
        "tokenizer.fit_on_texts(list(vect.get_feature_names()))\n",
        "features=tokenizer.texts_to_matrix(list(df),mode='binary')"
      ],
      "execution_count": 0,
      "outputs": []
    },
    {
      "cell_type": "code",
      "metadata": {
        "colab_type": "code",
        "id": "Fervq2OG6EWN",
        "outputId": "fa0c5f28-d922-493f-e80e-9f9ae52333d6",
        "colab": {
          "base_uri": "https://localhost:8080/",
          "height": 33
        }
      },
      "source": [
        "len_token"
      ],
      "execution_count": 0,
      "outputs": [
        {
          "output_type": "execute_result",
          "data": {
            "text/plain": [
              "5098"
            ]
          },
          "metadata": {
            "tags": []
          },
          "execution_count": 121
        }
      ]
    },
    {
      "cell_type": "code",
      "metadata": {
        "colab_type": "code",
        "id": "sM6yCRgEwAcC",
        "colab": {}
      },
      "source": [
        "caparr = np.concatenate((features, words_df), axis=1)"
      ],
      "execution_count": 0,
      "outputs": []
    },
    {
      "cell_type": "code",
      "metadata": {
        "colab_type": "code",
        "id": "o7Oa48ug2ikb",
        "outputId": "2fbefe2b-57a4-42d7-a091-855cf9f0a564",
        "colab": {
          "base_uri": "https://localhost:8080/",
          "height": 33
        }
      },
      "source": [
        "caparr.shape"
      ],
      "execution_count": 0,
      "outputs": [
        {
          "output_type": "execute_result",
          "data": {
            "text/plain": [
              "(6000, 5100)"
            ]
          },
          "metadata": {
            "tags": []
          },
          "execution_count": 122
        }
      ]
    },
    {
      "cell_type": "code",
      "metadata": {
        "colab_type": "code",
        "id": "aRBsygjywixS",
        "colab": {}
      },
      "source": [
        "# len(caparr\n",
        "# len_token"
      ],
      "execution_count": 0,
      "outputs": []
    },
    {
      "cell_type": "code",
      "metadata": {
        "colab_type": "code",
        "id": "mKidDr6sx2gH",
        "colab": {}
      },
      "source": [
        "caption_data = caparr\n",
        "gt = ground_truth[['short-term_memorability','long-term_memorability']].values"
      ],
      "execution_count": 0,
      "outputs": []
    },
    {
      "cell_type": "markdown",
      "metadata": {
        "colab_type": "text",
        "id": "gzlTauJNpIK3"
      },
      "source": [
        "#### Split data into test and training "
      ]
    },
    {
      "cell_type": "code",
      "metadata": {
        "colab_type": "code",
        "id": "ttrmUPrmyAjU",
        "colab": {}
      },
      "source": [
        "cap_train, cap_test, gt_train, gt_test = train_test_split(caption_data, gt, test_size = 0.20,random_state=42)"
      ],
      "execution_count": 0,
      "outputs": []
    },
    {
      "cell_type": "code",
      "metadata": {
        "colab_type": "code",
        "id": "-2shJWLB0_FS",
        "outputId": "a05d3238-d40b-4b80-8cc7-bd879e219bd0",
        "colab": {
          "base_uri": "https://localhost:8080/",
          "height": 33
        }
      },
      "source": [
        "cap_train.shape"
      ],
      "execution_count": 0,
      "outputs": [
        {
          "output_type": "execute_result",
          "data": {
            "text/plain": [
              "(4800, 5100)"
            ]
          },
          "metadata": {
            "tags": []
          },
          "execution_count": 125
        }
      ]
    },
    {
      "cell_type": "markdown",
      "metadata": {
        "colab_type": "text",
        "id": "D-nOUAnqo75k"
      },
      "source": [
        "#### Function to calculate Spearman's coefficient"
      ]
    },
    {
      "cell_type": "code",
      "metadata": {
        "colab_type": "code",
        "id": "Fp-9EOpey79A",
        "colab": {}
      },
      "source": [
        "def Get_score(Y_pred,Y_true):   \n",
        "    '''Calculate the Spearmann\"s correlation coefficient'''\n",
        "    Y_pred = np.squeeze(Y_pred)\n",
        "    Y_true = np.squeeze(Y_true)\n",
        "    if Y_pred.shape != Y_true.shape:\n",
        "        print('Input shapes don\\'t match!')\n",
        "    else:\n",
        "        if len(Y_pred.shape) == 1:\n",
        "            Res = pd.DataFrame({'Y_true':Y_true,'Y_pred':Y_pred})\n",
        "            score_mat = Res[['Y_true','Y_pred']].corr(method='spearman',min_periods=1)\n",
        "            print('The Spearman\\'s correlation coefficient is: %.3f' % score_mat.iloc[1][0])\n",
        "        else:\n",
        "            for ii in range(Y_pred.shape[1]):\n",
        "                Get_score(Y_pred[:,ii],Y_true[:,ii])"
      ],
      "execution_count": 0,
      "outputs": []
    },
    {
      "cell_type": "markdown",
      "metadata": {
        "colab_type": "text",
        "id": "BM4mGMiryimO"
      },
      "source": [
        "## Building Model"
      ]
    },
    {
      "cell_type": "markdown",
      "metadata": {
        "colab_type": "text",
        "id": "J68c0sVaylU9"
      },
      "source": [
        "### RNN"
      ]
    },
    {
      "cell_type": "code",
      "metadata": {
        "colab_type": "code",
        "id": "opZg0wvWyoBf",
        "colab": {}
      },
      "source": [
        "# model = Sequential()\n",
        "# model.add(layers.Dense(200,activation='sigmoid',kernel_regularizer=None,input_shape=(len_token1,)))\n",
        "# model.add(layers.Dropout(0.1))\n",
        "# model.add(layers.Dense(2,activation='relu'))\n",
        "      \n",
        "# # compile the model \n",
        "# model.compile(optimizer='adam',loss='mean_absolute_error',metrics=['accuracy'])\n",
        "\n",
        "# # training the model \n",
        "# history = model.fit(cap_train,gt_train,epochs=20,validation_data=(cap_test,gt_test))"
      ],
      "execution_count": 0,
      "outputs": []
    },
    {
      "cell_type": "code",
      "metadata": {
        "colab_type": "code",
        "id": "uDmpeYbK_Md_",
        "outputId": "d1046b1a-06ac-46a5-debf-bac01572ec11",
        "colab": {
          "base_uri": "https://localhost:8080/",
          "height": 700
        }
      },
      "source": [
        "model = Sequential()\n",
        "model.add(layers.Dense(200,activation='softmax',kernel_regularizer=None,input_shape=(len_token1,)))\n",
        "model.add(layers.Dropout(0.1))\n",
        "model.add(layers.Dense(2,activation='relu'))\n",
        "      \n",
        "# compile the model \n",
        "model.compile(optimizer='Adamax',loss='mean_absolute_error',metrics=['cosine_proximity','accuracy','mae'])\n",
        "\n",
        "# training the model \n",
        "history = model.fit(cap_train,gt_train,epochs=20,validation_data=(cap_test,gt_test))"
      ],
      "execution_count": 0,
      "outputs": [
        {
          "output_type": "stream",
          "text": [
            "Train on 4800 samples, validate on 1200 samples\n",
            "Epoch 1/20\n",
            "4800/4800 [==============================] - 2s 461us/step - loss: 0.5386 - cosine_proximity: 0.9852 - accuracy: 0.6748 - mae: 0.5386 - val_loss: 0.2520 - val_cosine_proximity: 0.9942 - val_accuracy: 0.7100 - val_mae: 0.2520\n",
            "Epoch 2/20\n",
            "4800/4800 [==============================] - 2s 439us/step - loss: 0.1233 - cosine_proximity: 0.9952 - accuracy: 0.7035 - mae: 0.1233 - val_loss: 0.0881 - val_cosine_proximity: 0.9952 - val_accuracy: 0.7100 - val_mae: 0.0881\n",
            "Epoch 3/20\n",
            "4800/4800 [==============================] - 2s 428us/step - loss: 0.0881 - cosine_proximity: 0.9954 - accuracy: 0.7035 - mae: 0.0881 - val_loss: 0.0877 - val_cosine_proximity: 0.9951 - val_accuracy: 0.7100 - val_mae: 0.0877\n",
            "Epoch 4/20\n",
            "4800/4800 [==============================] - 2s 430us/step - loss: 0.0873 - cosine_proximity: 0.9954 - accuracy: 0.7035 - mae: 0.0873 - val_loss: 0.0875 - val_cosine_proximity: 0.9952 - val_accuracy: 0.7100 - val_mae: 0.0875\n",
            "Epoch 5/20\n",
            "4800/4800 [==============================] - 2s 428us/step - loss: 0.0870 - cosine_proximity: 0.9954 - accuracy: 0.7035 - mae: 0.0870 - val_loss: 0.0874 - val_cosine_proximity: 0.9952 - val_accuracy: 0.7100 - val_mae: 0.0874\n",
            "Epoch 6/20\n",
            "4800/4800 [==============================] - 2s 440us/step - loss: 0.0865 - cosine_proximity: 0.9954 - accuracy: 0.7035 - mae: 0.0865 - val_loss: 0.0872 - val_cosine_proximity: 0.9952 - val_accuracy: 0.7100 - val_mae: 0.0872\n",
            "Epoch 7/20\n",
            "4800/4800 [==============================] - 2s 432us/step - loss: 0.0859 - cosine_proximity: 0.9954 - accuracy: 0.7035 - mae: 0.0859 - val_loss: 0.0868 - val_cosine_proximity: 0.9951 - val_accuracy: 0.7100 - val_mae: 0.0868\n",
            "Epoch 8/20\n",
            "4800/4800 [==============================] - 2s 427us/step - loss: 0.0853 - cosine_proximity: 0.9954 - accuracy: 0.7035 - mae: 0.0853 - val_loss: 0.0867 - val_cosine_proximity: 0.9952 - val_accuracy: 0.7100 - val_mae: 0.0867\n",
            "Epoch 9/20\n",
            "4800/4800 [==============================] - 2s 437us/step - loss: 0.0847 - cosine_proximity: 0.9955 - accuracy: 0.7035 - mae: 0.0847 - val_loss: 0.0863 - val_cosine_proximity: 0.9951 - val_accuracy: 0.7100 - val_mae: 0.0863\n",
            "Epoch 10/20\n",
            "4800/4800 [==============================] - 2s 444us/step - loss: 0.0840 - cosine_proximity: 0.9955 - accuracy: 0.7035 - mae: 0.0840 - val_loss: 0.0861 - val_cosine_proximity: 0.9951 - val_accuracy: 0.7100 - val_mae: 0.0861\n",
            "Epoch 11/20\n",
            "4800/4800 [==============================] - 2s 441us/step - loss: 0.0833 - cosine_proximity: 0.9955 - accuracy: 0.7035 - mae: 0.0833 - val_loss: 0.0860 - val_cosine_proximity: 0.9952 - val_accuracy: 0.7100 - val_mae: 0.0860\n",
            "Epoch 12/20\n",
            "4800/4800 [==============================] - 2s 421us/step - loss: 0.0827 - cosine_proximity: 0.9955 - accuracy: 0.7035 - mae: 0.0827 - val_loss: 0.0858 - val_cosine_proximity: 0.9952 - val_accuracy: 0.7100 - val_mae: 0.0858\n",
            "Epoch 13/20\n",
            "4800/4800 [==============================] - 2s 429us/step - loss: 0.0819 - cosine_proximity: 0.9956 - accuracy: 0.7038 - mae: 0.0819 - val_loss: 0.0857 - val_cosine_proximity: 0.9952 - val_accuracy: 0.7100 - val_mae: 0.0857\n",
            "Epoch 14/20\n",
            "4800/4800 [==============================] - 2s 442us/step - loss: 0.0811 - cosine_proximity: 0.9956 - accuracy: 0.7038 - mae: 0.0811 - val_loss: 0.0856 - val_cosine_proximity: 0.9952 - val_accuracy: 0.7100 - val_mae: 0.0856\n",
            "Epoch 15/20\n",
            "4800/4800 [==============================] - 2s 423us/step - loss: 0.0802 - cosine_proximity: 0.9956 - accuracy: 0.7038 - mae: 0.0802 - val_loss: 0.0855 - val_cosine_proximity: 0.9952 - val_accuracy: 0.7100 - val_mae: 0.0855\n",
            "Epoch 16/20\n",
            "4800/4800 [==============================] - 2s 417us/step - loss: 0.0795 - cosine_proximity: 0.9956 - accuracy: 0.7044 - mae: 0.0795 - val_loss: 0.0855 - val_cosine_proximity: 0.9952 - val_accuracy: 0.7100 - val_mae: 0.0855\n",
            "Epoch 17/20\n",
            "4800/4800 [==============================] - 2s 418us/step - loss: 0.0788 - cosine_proximity: 0.9957 - accuracy: 0.7048 - mae: 0.0788 - val_loss: 0.0855 - val_cosine_proximity: 0.9951 - val_accuracy: 0.7100 - val_mae: 0.0855\n",
            "Epoch 18/20\n",
            "4800/4800 [==============================] - 2s 426us/step - loss: 0.0780 - cosine_proximity: 0.9957 - accuracy: 0.7054 - mae: 0.0780 - val_loss: 0.0856 - val_cosine_proximity: 0.9951 - val_accuracy: 0.7092 - val_mae: 0.0856\n",
            "Epoch 19/20\n",
            "4800/4800 [==============================] - 2s 421us/step - loss: 0.0772 - cosine_proximity: 0.9957 - accuracy: 0.7079 - mae: 0.0772 - val_loss: 0.0856 - val_cosine_proximity: 0.9950 - val_accuracy: 0.7100 - val_mae: 0.0856\n",
            "Epoch 20/20\n",
            "4800/4800 [==============================] - 2s 413us/step - loss: 0.0765 - cosine_proximity: 0.9958 - accuracy: 0.7071 - mae: 0.0765 - val_loss: 0.0857 - val_cosine_proximity: 0.9951 - val_accuracy: 0.7092 - val_mae: 0.0857\n"
          ],
          "name": "stdout"
        }
      ]
    },
    {
      "cell_type": "code",
      "metadata": {
        "colab_type": "code",
        "id": "EJi3QNJJ_oa7",
        "outputId": "6bdc1c94-5558-4407-97b2-b72807b4a98a",
        "colab": {
          "base_uri": "https://localhost:8080/",
          "height": 133
        }
      },
      "source": [
        "predictions_caption_RNN = model.predict(cap_test)\n",
        "predictions_caption_RNN"
      ],
      "execution_count": 0,
      "outputs": [
        {
          "output_type": "execute_result",
          "data": {
            "text/plain": [
              "array([[0.8924968 , 0.78578794],\n",
              "       [0.8553598 , 0.80166745],\n",
              "       [0.876129  , 0.8110055 ],\n",
              "       ...,\n",
              "       [0.8764062 , 0.8096849 ],\n",
              "       [0.8685574 , 0.792549  ],\n",
              "       [0.86773473, 0.7702991 ]], dtype=float32)"
            ]
          },
          "metadata": {
            "tags": []
          },
          "execution_count": 128
        }
      ]
    },
    {
      "cell_type": "code",
      "metadata": {
        "colab_type": "code",
        "id": "4SMgRcLV8PCH",
        "outputId": "0f9574f6-4c12-4cb4-c252-e86f07e5657b",
        "colab": {
          "base_uri": "https://localhost:8080/",
          "height": 50
        }
      },
      "source": [
        "Get_score(predictions_caption_RNN, gt_test)"
      ],
      "execution_count": 0,
      "outputs": [
        {
          "output_type": "stream",
          "text": [
            "The Spearman's correlation coefficient is: 0.440\n",
            "The Spearman's correlation coefficient is: 0.174\n"
          ],
          "name": "stdout"
        }
      ]
    },
    {
      "cell_type": "markdown",
      "metadata": {
        "colab_type": "text",
        "id": "uE-jDTwoPhZ6"
      },
      "source": [
        "### DecisionTree"
      ]
    },
    {
      "cell_type": "code",
      "metadata": {
        "colab_type": "code",
        "id": "BIsBOv-vPNYp",
        "outputId": "b52ca037-17e8-42d1-86f8-d6d5fb28a2e9",
        "colab": {
          "base_uri": "https://localhost:8080/",
          "height": 116
        }
      },
      "source": [
        "from sklearn.tree import DecisionTreeRegressor\n",
        "DTregressor = DecisionTreeRegressor()\n",
        "DTregressor.fit(cap_train, gt_train)"
      ],
      "execution_count": 0,
      "outputs": [
        {
          "output_type": "execute_result",
          "data": {
            "text/plain": [
              "DecisionTreeRegressor(ccp_alpha=0.0, criterion='mse', max_depth=None,\n",
              "                      max_features=None, max_leaf_nodes=None,\n",
              "                      min_impurity_decrease=0.0, min_impurity_split=None,\n",
              "                      min_samples_leaf=1, min_samples_split=2,\n",
              "                      min_weight_fraction_leaf=0.0, presort='deprecated',\n",
              "                      random_state=None, splitter='best')"
            ]
          },
          "metadata": {
            "tags": []
          },
          "execution_count": 131
        }
      ]
    },
    {
      "cell_type": "code",
      "metadata": {
        "colab_type": "code",
        "id": "NingzHKmPggL",
        "outputId": "181c94c0-4fc7-4c6c-922e-75f5d6eee237",
        "colab": {
          "base_uri": "https://localhost:8080/",
          "height": 50
        }
      },
      "source": [
        "predictions_caption_DT = DTregressor.predict(cap_test)\n",
        "Get_score(predictions_caption_DT, gt_test)"
      ],
      "execution_count": 0,
      "outputs": [
        {
          "output_type": "stream",
          "text": [
            "The Spearman's correlation coefficient is: 0.275\n",
            "The Spearman's correlation coefficient is: 0.132\n"
          ],
          "name": "stdout"
        }
      ]
    },
    {
      "cell_type": "markdown",
      "metadata": {
        "colab_type": "text",
        "id": "tISitHa7P1mX"
      },
      "source": [
        "### SVR"
      ]
    },
    {
      "cell_type": "code",
      "metadata": {
        "colab_type": "code",
        "id": "7Xc0SwhMQibb",
        "colab": {}
      },
      "source": [
        "gt_short = ground_truth[['short-term_memorability']].values\n",
        "cap_train, cap_test, gt_train_short, gt_test_short = train_test_split(caption_data,gt_short, test_size=0.2, random_state=42)"
      ],
      "execution_count": 0,
      "outputs": []
    },
    {
      "cell_type": "code",
      "metadata": {
        "colab_type": "code",
        "id": "f0lh4BUzP4CW",
        "outputId": "b6d907a0-333c-4dc4-e597-9a7983745272",
        "colab": {
          "base_uri": "https://localhost:8080/",
          "height": 50
        }
      },
      "source": [
        "from sklearn.svm import SVR\n",
        "model = SVR(C=100).fit(cap_train,gt_train_short)"
      ],
      "execution_count": 0,
      "outputs": [
        {
          "output_type": "stream",
          "text": [
            "/usr/local/lib/python3.6/dist-packages/sklearn/utils/validation.py:760: DataConversionWarning: A column-vector y was passed when a 1d array was expected. Please change the shape of y to (n_samples, ), for example using ravel().\n",
            "  y = column_or_1d(y, warn=True)\n"
          ],
          "name": "stderr"
        }
      ]
    },
    {
      "cell_type": "code",
      "metadata": {
        "colab_type": "code",
        "id": "yQkEqauRTE-_",
        "outputId": "70917891-c12d-4f5e-a2e1-b4c03f81a762",
        "colab": {
          "base_uri": "https://localhost:8080/",
          "height": 33
        }
      },
      "source": [
        "predictions_caption_svm_short = model.predict(cap_test)\n",
        "Get_score(predictions_caption_svm_short,gt_test_short)"
      ],
      "execution_count": 0,
      "outputs": [
        {
          "output_type": "stream",
          "text": [
            "The Spearman's correlation coefficient is: 0.428\n"
          ],
          "name": "stdout"
        }
      ]
    },
    {
      "cell_type": "code",
      "metadata": {
        "colab_type": "code",
        "id": "V5ImHw0fTf7-",
        "outputId": "9cfa3ca0-0118-48c2-8041-8f19de7ebf4e",
        "colab": {
          "base_uri": "https://localhost:8080/",
          "height": 50
        }
      },
      "source": [
        "gt_long = ground_truth[['long-term_memorability']].values\n",
        "cap_train, cap_test, gt_train_long, gt_test_long = train_test_split(caption_data,gt_long, test_size=0.2, random_state=42)\n",
        "from sklearn.svm import SVR\n",
        "model = SVR(C=100).fit(cap_train,gt_train_long)\n"
      ],
      "execution_count": 0,
      "outputs": [
        {
          "output_type": "stream",
          "text": [
            "/usr/local/lib/python3.6/dist-packages/sklearn/utils/validation.py:760: DataConversionWarning: A column-vector y was passed when a 1d array was expected. Please change the shape of y to (n_samples, ), for example using ravel().\n",
            "  y = column_or_1d(y, warn=True)\n"
          ],
          "name": "stderr"
        }
      ]
    },
    {
      "cell_type": "code",
      "metadata": {
        "colab_type": "code",
        "id": "BKgr2t1iUw5j",
        "outputId": "2d154d3c-1deb-4217-f4c0-fa565ac1df6e",
        "colab": {
          "base_uri": "https://localhost:8080/",
          "height": 33
        }
      },
      "source": [
        "predictions_caption_svm_long = model.predict(cap_test)\n",
        "Get_score(predictions_caption_svm_long,gt_test_long)"
      ],
      "execution_count": 0,
      "outputs": [
        {
          "output_type": "stream",
          "text": [
            "The Spearman's correlation coefficient is: 0.179\n"
          ],
          "name": "stdout"
        }
      ]
    },
    {
      "cell_type": "code",
      "metadata": {
        "colab_type": "code",
        "id": "ad228XRY0w8y",
        "colab": {}
      },
      "source": [
        "# prediction_svm=np.append(predictions_caption_svm_short,predictions_caption_svm_long)\n",
        "# np.vstack(predictions_caption_svm_short)\n",
        "# np.vstack(predictions_caption_svm_long)\n",
        "prediction_caption_SVR=np.column_stack((predictions_caption_svm_short,predictions_caption_svm_long))"
      ],
      "execution_count": 0,
      "outputs": []
    },
    {
      "cell_type": "code",
      "metadata": {
        "colab_type": "code",
        "id": "iqbl6i7I-IpH",
        "outputId": "39b98e80-376a-4d4a-ae31-964d81dc8d4c",
        "colab": {
          "base_uri": "https://localhost:8080/",
          "height": 33
        }
      },
      "source": [
        "prediction_caption_SVR.shape"
      ],
      "execution_count": 0,
      "outputs": [
        {
          "output_type": "execute_result",
          "data": {
            "text/plain": [
              "(1200, 2)"
            ]
          },
          "metadata": {
            "tags": []
          },
          "execution_count": 256
        }
      ]
    },
    {
      "cell_type": "code",
      "metadata": {
        "colab_type": "code",
        "id": "C_zRIvGJ3j5a",
        "outputId": "4fd80285-4cdc-47f3-b3f3-566990e67960",
        "colab": {
          "base_uri": "https://localhost:8080/",
          "height": 50
        }
      },
      "source": [
        "Get_score(prediction_caption_SVR,gt_test)"
      ],
      "execution_count": 0,
      "outputs": [
        {
          "output_type": "stream",
          "text": [
            "The Spearman's correlation coefficient is: 0.428\n",
            "The Spearman's correlation coefficient is: 0.179\n"
          ],
          "name": "stdout"
        }
      ]
    },
    {
      "cell_type": "markdown",
      "metadata": {
        "colab_type": "text",
        "id": "bqZdFP6lVl3Q"
      },
      "source": [
        "### Random Forest"
      ]
    },
    {
      "cell_type": "code",
      "metadata": {
        "colab_type": "code",
        "id": "jzPv5aswV4cW",
        "outputId": "87610929-fea5-46fc-9c09-199d29d6792e",
        "colab": {
          "base_uri": "https://localhost:8080/",
          "height": 133
        }
      },
      "source": [
        "from sklearn.ensemble import RandomForestRegressor\n",
        "RFregressor = RandomForestRegressor(n_estimators = 150)\n",
        "RFregressor.fit(cap_train, gt_train)"
      ],
      "execution_count": 0,
      "outputs": [
        {
          "output_type": "execute_result",
          "data": {
            "text/plain": [
              "RandomForestRegressor(bootstrap=True, ccp_alpha=0.0, criterion='mse',\n",
              "                      max_depth=None, max_features='auto', max_leaf_nodes=None,\n",
              "                      max_samples=None, min_impurity_decrease=0.0,\n",
              "                      min_impurity_split=None, min_samples_leaf=1,\n",
              "                      min_samples_split=2, min_weight_fraction_leaf=0.0,\n",
              "                      n_estimators=150, n_jobs=None, oob_score=False,\n",
              "                      random_state=None, verbose=0, warm_start=False)"
            ]
          },
          "metadata": {
            "tags": []
          },
          "execution_count": 227
        }
      ]
    },
    {
      "cell_type": "code",
      "metadata": {
        "colab_type": "code",
        "id": "ZtGdr_U0WSHi",
        "outputId": "10cf3ba3-b6cc-45a5-b78a-171c056279b8",
        "colab": {
          "base_uri": "https://localhost:8080/",
          "height": 50
        }
      },
      "source": [
        "predictions_caption_RF=RFregressor.predict(cap_test)\n",
        "Get_score(predictions_caption_RF,gt_test)"
      ],
      "execution_count": 0,
      "outputs": [
        {
          "output_type": "stream",
          "text": [
            "The Spearman's correlation coefficient is: 0.422\n",
            "The Spearman's correlation coefficient is: 0.166\n"
          ],
          "name": "stdout"
        }
      ]
    },
    {
      "cell_type": "markdown",
      "metadata": {
        "colab_type": "text",
        "id": "QQ3nyVQ9c6fj"
      },
      "source": [
        "### C3D features"
      ]
    },
    {
      "cell_type": "markdown",
      "metadata": {
        "colab_type": "text",
        "id": "spUncDOShu6H"
      },
      "source": [
        "Function to read C3D features and files from directory"
      ]
    },
    {
      "cell_type": "code",
      "metadata": {
        "colab_type": "code",
        "id": "hy1fo4CfgKpO",
        "colab": {}
      },
      "source": [
        "def read_C3D(fname):\n",
        "    \"\"\"Scan vectors from file\"\"\"\n",
        "    with open(fname) as f:\n",
        "        for line in f:\n",
        "            C3D =[float(item) for item in line.split()]\n",
        "    return C3D\n",
        "\n",
        "def vname2ID(vnames):\n",
        "    \"\"\"Parse video digital id from its name\n",
        "    vnames: a list contains file names\"\"\"\n",
        "    vid = [ os.path.splitext(vn)[0]+'.webm' for vn in vnames]\n",
        "    return vid"
      ],
      "execution_count": 0,
      "outputs": []
    },
    {
      "cell_type": "code",
      "metadata": {
        "colab_type": "code",
        "id": "-XDzh7XAgXYC",
        "colab": {}
      },
      "source": [
        "os.chdir(\"/content/drive/My Drive/CA684_Assignment/Dev-set/\")"
      ],
      "execution_count": 0,
      "outputs": []
    },
    {
      "cell_type": "code",
      "metadata": {
        "colab_type": "code",
        "id": "IMn9EyPuNaQK",
        "outputId": "8ff9d519-a086-4b75-c5e8-93918f7f6c1e",
        "colab": {
          "base_uri": "https://localhost:8080/",
          "height": 33
        }
      },
      "source": [
        "!pwd"
      ],
      "execution_count": 0,
      "outputs": [
        {
          "output_type": "stream",
          "text": [
            "/content/drive/.shortcut-targets-by-id/1UWIdExqb5P94RLqkaiODcwFC2v7g3lB2/CA684_Assignment/Dev-set\n"
          ],
          "name": "stdout"
        }
      ]
    },
    {
      "cell_type": "code",
      "metadata": {
        "colab_type": "code",
        "id": "mmS-2bnxgsCr",
        "colab": {}
      },
      "source": [
        "C3D_Feat_path = '/content/drive/My Drive/CA684_Assignment/Dev-set/'\n",
        "# Load video related features first\n",
        "# it helps with the organization of the video names\n",
        "\n",
        "\n",
        "vid = ground_truth.video.values\n",
        "\n",
        "C3D_Features = pd.DataFrame({'video': vid,\n",
        "                   'C3D': [read_C3D(C3D_Feat_path+'C3D'+'/'+os.path.splitext(item)[0]+'.txt') for item in vid],\n",
        "                       })\n"
      ],
      "execution_count": 0,
      "outputs": []
    },
    {
      "cell_type": "code",
      "metadata": {
        "colab_type": "code",
        "id": "MDsXjoI1ivnS",
        "outputId": "809ef0e4-ccea-4830-de68-c586b5dee5fe",
        "colab": {
          "base_uri": "https://localhost:8080/",
          "height": 250
        }
      },
      "source": [
        "C3D_Features.head"
      ],
      "execution_count": 0,
      "outputs": [
        {
          "output_type": "execute_result",
          "data": {
            "text/plain": [
              "<bound method NDFrame.head of                video                                                C3D\n",
              "0        video3.webm  [0.02024942, 0.0015778, 0.00082625, 0.00094509...\n",
              "1        video4.webm  [0.000118, 0.00089075, 0.00018769, 4.543e-05, ...\n",
              "2        video6.webm  [0.01176522, 0.00074577, 0.00078353, 1.328e-05...\n",
              "3        video8.webm  [0.00022343, 0.00016499, 7.35e-06, 1.615e-05, ...\n",
              "4       video10.webm  [9.006e-05, 0.00061494, 0.00343634, 0.00128092...\n",
              "...              ...                                                ...\n",
              "5995  video7488.webm  [0.35724622, 0.07598178, 0.00302532, 2.772e-05...\n",
              "5996  video7489.webm  [0.19280288, 0.00093812, 0.00506054, 1.35e-06,...\n",
              "5997  video7491.webm  [2.589e-05, 0.00012192, 2.781e-05, 2.608e-05, ...\n",
              "5998  video7492.webm  [0.26509121, 0.09653918, 5.971e-05, 0.00022735...\n",
              "5999  video7493.webm  [0.02058949, 0.00122141, 0.00206607, 0.0023161...\n",
              "\n",
              "[6000 rows x 2 columns]>"
            ]
          },
          "metadata": {
            "tags": []
          },
          "execution_count": 401
        }
      ]
    },
    {
      "cell_type": "code",
      "metadata": {
        "colab_type": "code",
        "id": "vttgOkHIjU4t",
        "colab": {}
      },
      "source": [
        "C3Darr = np.stack(C3D_Features['C3D'].values)\n",
        "gt = ground_truth[['short-term_memorability','long-term_memorability']].values\n",
        "\n",
        "C3D_train, C3D_test, gt_train, gt_test = train_test_split(C3Darr,gt, test_size=0.2, random_state=42)"
      ],
      "execution_count": 0,
      "outputs": []
    },
    {
      "cell_type": "markdown",
      "metadata": {
        "colab_type": "text",
        "id": "6T7N2ADxmFKo"
      },
      "source": [
        "### RNN"
      ]
    },
    {
      "cell_type": "code",
      "metadata": {
        "colab_type": "code",
        "id": "m0bzO06-mHIY",
        "outputId": "dceced5f-94d6-4afc-f0f4-4c0f92738e59",
        "colab": {
          "base_uri": "https://localhost:8080/",
          "height": 700
        }
      },
      "source": [
        "model = Sequential()\n",
        "model.add(layers.Dense(200,activation='softmax',kernel_regularizer=None,input_shape=(C3Darr.shape[1],)))\n",
        "model.add(layers.Dropout(0.1))\n",
        "model.add(layers.Dense(2,activation='relu'))\n",
        "      \n",
        "# compile the model \n",
        "model.compile(optimizer='Adamax',loss='mean_absolute_error',metrics=['cosine_proximity','accuracy','mae'])\n",
        "\n",
        "# training the model \n",
        "history = model.fit(C3D_train,gt_train,epochs=20,validation_data=(C3D_test,gt_test))"
      ],
      "execution_count": 0,
      "outputs": [
        {
          "output_type": "stream",
          "text": [
            "Train on 4800 samples, validate on 1200 samples\n",
            "Epoch 1/20\n",
            "4800/4800 [==============================] - 0s 88us/step - loss: 0.5822 - cosine_proximity: 0.9163 - accuracy: 0.7035 - mae: 0.5822 - val_loss: 0.2951 - val_cosine_proximity: 0.9931 - val_accuracy: 0.7100 - val_mae: 0.2951\n",
            "Epoch 2/20\n",
            "4800/4800 [==============================] - 0s 57us/step - loss: 0.1375 - cosine_proximity: 0.9947 - accuracy: 0.7035 - mae: 0.1375 - val_loss: 0.0892 - val_cosine_proximity: 0.9952 - val_accuracy: 0.7100 - val_mae: 0.0892\n",
            "Epoch 3/20\n",
            "4800/4800 [==============================] - 0s 57us/step - loss: 0.0886 - cosine_proximity: 0.9954 - accuracy: 0.7035 - mae: 0.0886 - val_loss: 0.0890 - val_cosine_proximity: 0.9951 - val_accuracy: 0.7100 - val_mae: 0.0890\n",
            "Epoch 4/20\n",
            "4800/4800 [==============================] - 0s 62us/step - loss: 0.0881 - cosine_proximity: 0.9954 - accuracy: 0.7035 - mae: 0.0881 - val_loss: 0.0890 - val_cosine_proximity: 0.9952 - val_accuracy: 0.7100 - val_mae: 0.0890\n",
            "Epoch 5/20\n",
            "4800/4800 [==============================] - 0s 56us/step - loss: 0.0882 - cosine_proximity: 0.9954 - accuracy: 0.7035 - mae: 0.0882 - val_loss: 0.0888 - val_cosine_proximity: 0.9952 - val_accuracy: 0.7100 - val_mae: 0.0888\n",
            "Epoch 6/20\n",
            "4800/4800 [==============================] - 0s 61us/step - loss: 0.0880 - cosine_proximity: 0.9954 - accuracy: 0.7035 - mae: 0.0880 - val_loss: 0.0885 - val_cosine_proximity: 0.9951 - val_accuracy: 0.7100 - val_mae: 0.0885\n",
            "Epoch 7/20\n",
            "4800/4800 [==============================] - 0s 74us/step - loss: 0.0881 - cosine_proximity: 0.9954 - accuracy: 0.7035 - mae: 0.0881 - val_loss: 0.0885 - val_cosine_proximity: 0.9951 - val_accuracy: 0.7100 - val_mae: 0.0885\n",
            "Epoch 8/20\n",
            "4800/4800 [==============================] - 0s 84us/step - loss: 0.0880 - cosine_proximity: 0.9954 - accuracy: 0.7035 - mae: 0.0880 - val_loss: 0.0883 - val_cosine_proximity: 0.9951 - val_accuracy: 0.7100 - val_mae: 0.0883\n",
            "Epoch 9/20\n",
            "4800/4800 [==============================] - 0s 80us/step - loss: 0.0878 - cosine_proximity: 0.9954 - accuracy: 0.7035 - mae: 0.0878 - val_loss: 0.0882 - val_cosine_proximity: 0.9952 - val_accuracy: 0.7100 - val_mae: 0.0882\n",
            "Epoch 10/20\n",
            "4800/4800 [==============================] - 0s 70us/step - loss: 0.0876 - cosine_proximity: 0.9954 - accuracy: 0.7035 - mae: 0.0876 - val_loss: 0.0881 - val_cosine_proximity: 0.9952 - val_accuracy: 0.7100 - val_mae: 0.0881\n",
            "Epoch 11/20\n",
            "4800/4800 [==============================] - 0s 68us/step - loss: 0.0875 - cosine_proximity: 0.9954 - accuracy: 0.7035 - mae: 0.0875 - val_loss: 0.0880 - val_cosine_proximity: 0.9952 - val_accuracy: 0.7100 - val_mae: 0.0880\n",
            "Epoch 12/20\n",
            "4800/4800 [==============================] - 0s 62us/step - loss: 0.0873 - cosine_proximity: 0.9954 - accuracy: 0.7035 - mae: 0.0873 - val_loss: 0.0880 - val_cosine_proximity: 0.9952 - val_accuracy: 0.7100 - val_mae: 0.0880\n",
            "Epoch 13/20\n",
            "4800/4800 [==============================] - 0s 61us/step - loss: 0.0874 - cosine_proximity: 0.9954 - accuracy: 0.7035 - mae: 0.0874 - val_loss: 0.0878 - val_cosine_proximity: 0.9951 - val_accuracy: 0.7100 - val_mae: 0.0878\n",
            "Epoch 14/20\n",
            "4800/4800 [==============================] - 0s 63us/step - loss: 0.0873 - cosine_proximity: 0.9954 - accuracy: 0.7035 - mae: 0.0873 - val_loss: 0.0877 - val_cosine_proximity: 0.9951 - val_accuracy: 0.7100 - val_mae: 0.0877\n",
            "Epoch 15/20\n",
            "4800/4800 [==============================] - 0s 65us/step - loss: 0.0871 - cosine_proximity: 0.9954 - accuracy: 0.7035 - mae: 0.0871 - val_loss: 0.0876 - val_cosine_proximity: 0.9952 - val_accuracy: 0.7100 - val_mae: 0.0876\n",
            "Epoch 16/20\n",
            "4800/4800 [==============================] - 0s 66us/step - loss: 0.0872 - cosine_proximity: 0.9954 - accuracy: 0.7035 - mae: 0.0872 - val_loss: 0.0877 - val_cosine_proximity: 0.9952 - val_accuracy: 0.7100 - val_mae: 0.0877\n",
            "Epoch 17/20\n",
            "4800/4800 [==============================] - 0s 64us/step - loss: 0.0872 - cosine_proximity: 0.9954 - accuracy: 0.7035 - mae: 0.0872 - val_loss: 0.0875 - val_cosine_proximity: 0.9952 - val_accuracy: 0.7100 - val_mae: 0.0875\n",
            "Epoch 18/20\n",
            "4800/4800 [==============================] - 0s 64us/step - loss: 0.0871 - cosine_proximity: 0.9954 - accuracy: 0.7035 - mae: 0.0871 - val_loss: 0.0875 - val_cosine_proximity: 0.9951 - val_accuracy: 0.7100 - val_mae: 0.0875\n",
            "Epoch 19/20\n",
            "4800/4800 [==============================] - 0s 62us/step - loss: 0.0868 - cosine_proximity: 0.9954 - accuracy: 0.7035 - mae: 0.0868 - val_loss: 0.0874 - val_cosine_proximity: 0.9952 - val_accuracy: 0.7100 - val_mae: 0.0874\n",
            "Epoch 20/20\n",
            "4800/4800 [==============================] - 0s 61us/step - loss: 0.0867 - cosine_proximity: 0.9954 - accuracy: 0.7035 - mae: 0.0867 - val_loss: 0.0874 - val_cosine_proximity: 0.9952 - val_accuracy: 0.7100 - val_mae: 0.0874\n"
          ],
          "name": "stdout"
        }
      ]
    },
    {
      "cell_type": "code",
      "metadata": {
        "colab_type": "code",
        "id": "8OD0nYUlmmS9",
        "outputId": "deb57371-65e2-48d1-8c22-ba9bc432a058",
        "colab": {
          "base_uri": "https://localhost:8080/",
          "height": 133
        }
      },
      "source": [
        "predictions_RNN = model.predict(C3D_test)\n",
        "predictions_RNN"
      ],
      "execution_count": 0,
      "outputs": [
        {
          "output_type": "execute_result",
          "data": {
            "text/plain": [
              "array([[0.8826228 , 0.7971159 ],\n",
              "       [0.85601586, 0.7786517 ],\n",
              "       [0.8918224 , 0.8034682 ],\n",
              "       ...,\n",
              "       [0.8930155 , 0.80535364],\n",
              "       [0.90880275, 0.815766  ],\n",
              "       [0.8890915 , 0.80073535]], dtype=float32)"
            ]
          },
          "metadata": {
            "tags": []
          },
          "execution_count": 404
        }
      ]
    },
    {
      "cell_type": "code",
      "metadata": {
        "colab_type": "code",
        "id": "joisBf2dmqT0",
        "outputId": "604d7715-a9ba-4c2c-82c3-59dd8319af9f",
        "colab": {
          "base_uri": "https://localhost:8080/",
          "height": 50
        }
      },
      "source": [
        "Get_score(predictions_RNN, gt_test)"
      ],
      "execution_count": 0,
      "outputs": [
        {
          "output_type": "stream",
          "text": [
            "The Spearman's correlation coefficient is: 0.278\n",
            "The Spearman's correlation coefficient is: 0.132\n"
          ],
          "name": "stdout"
        }
      ]
    },
    {
      "cell_type": "markdown",
      "metadata": {
        "colab_type": "text",
        "id": "tCdzcI9_nDss"
      },
      "source": [
        "### Decision Tree"
      ]
    },
    {
      "cell_type": "code",
      "metadata": {
        "colab_type": "code",
        "id": "9Xv-wdR7m2bn",
        "outputId": "8e008fc4-5357-4347-c8ca-884991c00ee0",
        "colab": {
          "base_uri": "https://localhost:8080/",
          "height": 116
        }
      },
      "source": [
        "DTregressor = DecisionTreeRegressor()\n",
        "DTregressor.fit(cap_train, gt_train)"
      ],
      "execution_count": 0,
      "outputs": [
        {
          "output_type": "execute_result",
          "data": {
            "text/plain": [
              "DecisionTreeRegressor(ccp_alpha=0.0, criterion='mse', max_depth=None,\n",
              "                      max_features=None, max_leaf_nodes=None,\n",
              "                      min_impurity_decrease=0.0, min_impurity_split=None,\n",
              "                      min_samples_leaf=1, min_samples_split=2,\n",
              "                      min_weight_fraction_leaf=0.0, presort='deprecated',\n",
              "                      random_state=None, splitter='best')"
            ]
          },
          "metadata": {
            "tags": []
          },
          "execution_count": 406
        }
      ]
    },
    {
      "cell_type": "code",
      "metadata": {
        "colab_type": "code",
        "id": "gg4Db-hEnNJU",
        "outputId": "591113c2-c21d-4176-8561-5b9a02c6dea4",
        "colab": {
          "base_uri": "https://localhost:8080/",
          "height": 50
        }
      },
      "source": [
        "predictions = DTregressor.predict(cap_test)\n",
        "Get_score(predictions, gt_test)"
      ],
      "execution_count": 0,
      "outputs": [
        {
          "output_type": "stream",
          "text": [
            "The Spearman's correlation coefficient is: 0.268\n",
            "The Spearman's correlation coefficient is: 0.133\n"
          ],
          "name": "stdout"
        }
      ]
    },
    {
      "cell_type": "markdown",
      "metadata": {
        "colab_type": "text",
        "id": "1-YQ9SXunkuS"
      },
      "source": [
        "### SVR"
      ]
    },
    {
      "cell_type": "code",
      "metadata": {
        "colab_type": "code",
        "id": "l9HAv8NIn5hO",
        "colab": {}
      },
      "source": [
        "gt_short = ground_truth[['short-term_memorability']].values\n",
        "C3D_train, C3D_test, gt_train_short, gt_test_short = train_test_split(C3Darr,gt_short, test_size=0.2, random_state=42)"
      ],
      "execution_count": 0,
      "outputs": []
    },
    {
      "cell_type": "code",
      "metadata": {
        "colab_type": "code",
        "id": "aDMDAwc9nq_e",
        "outputId": "6c21cb28-2d41-40e9-c326-f4d111091566",
        "colab": {
          "base_uri": "https://localhost:8080/",
          "height": 50
        }
      },
      "source": [
        "from sklearn.svm import SVR\n",
        "model = SVR(C=100).fit(C3D_train,gt_train_short)"
      ],
      "execution_count": 0,
      "outputs": [
        {
          "output_type": "stream",
          "text": [
            "/usr/local/lib/python3.6/dist-packages/sklearn/utils/validation.py:760: DataConversionWarning: A column-vector y was passed when a 1d array was expected. Please change the shape of y to (n_samples, ), for example using ravel().\n",
            "  y = column_or_1d(y, warn=True)\n"
          ],
          "name": "stderr"
        }
      ]
    },
    {
      "cell_type": "code",
      "metadata": {
        "colab_type": "code",
        "id": "8LyPq50HoSuX",
        "outputId": "6d533fa6-10ef-439d-a703-99dc6d672526",
        "colab": {
          "base_uri": "https://localhost:8080/",
          "height": 33
        }
      },
      "source": [
        "predictions = model.predict(C3D_test)\n",
        "Get_score(predictions,gt_test_short)"
      ],
      "execution_count": 0,
      "outputs": [
        {
          "output_type": "stream",
          "text": [
            "The Spearman's correlation coefficient is: 0.161\n"
          ],
          "name": "stdout"
        }
      ]
    },
    {
      "cell_type": "code",
      "metadata": {
        "colab_type": "code",
        "id": "uKOScUTqomPi",
        "colab": {}
      },
      "source": [
        "gt_long = ground_truth[['long-term_memorability']].values\n",
        "C3D_train, C3D_test, gt_train_long, gt_test_long = train_test_split(C3Darr,gt_long, test_size=0.2, random_state=42)"
      ],
      "execution_count": 0,
      "outputs": []
    },
    {
      "cell_type": "code",
      "metadata": {
        "colab_type": "code",
        "id": "tRhSAI9aoukQ",
        "outputId": "b03fc109-ae10-4fcb-c182-e95718340d3c",
        "colab": {
          "base_uri": "https://localhost:8080/",
          "height": 33
        }
      },
      "source": [
        "predictions = model.predict(C3D_test)\n",
        "Get_score(predictions,gt_test_long)"
      ],
      "execution_count": 0,
      "outputs": [
        {
          "output_type": "stream",
          "text": [
            "The Spearman's correlation coefficient is: 0.092\n"
          ],
          "name": "stdout"
        }
      ]
    },
    {
      "cell_type": "markdown",
      "metadata": {
        "colab_type": "text",
        "id": "-QaFAEjoo3RX"
      },
      "source": [
        "### Random Forest "
      ]
    },
    {
      "cell_type": "code",
      "metadata": {
        "colab_type": "code",
        "id": "3mAz0Nd8o5qU",
        "outputId": "303744cb-f7a6-4604-ff9f-828768bebf63",
        "colab": {
          "base_uri": "https://localhost:8080/",
          "height": 133
        }
      },
      "source": [
        "from sklearn.ensemble import RandomForestRegressor\n",
        "RFregressor = RandomForestRegressor(n_estimators = 150)\n",
        "RFregressor.fit(C3D_train, gt_train)"
      ],
      "execution_count": 0,
      "outputs": [
        {
          "output_type": "execute_result",
          "data": {
            "text/plain": [
              "RandomForestRegressor(bootstrap=True, ccp_alpha=0.0, criterion='mse',\n",
              "                      max_depth=None, max_features='auto', max_leaf_nodes=None,\n",
              "                      max_samples=None, min_impurity_decrease=0.0,\n",
              "                      min_impurity_split=None, min_samples_leaf=1,\n",
              "                      min_samples_split=2, min_weight_fraction_leaf=0.0,\n",
              "                      n_estimators=150, n_jobs=None, oob_score=False,\n",
              "                      random_state=None, verbose=0, warm_start=False)"
            ]
          },
          "metadata": {
            "tags": []
          },
          "execution_count": 413
        }
      ]
    },
    {
      "cell_type": "code",
      "metadata": {
        "colab_type": "code",
        "id": "xVbM3sBSpCSe",
        "outputId": "bdc61345-2bd3-40ae-ecdc-0e46ac2c8275",
        "colab": {
          "base_uri": "https://localhost:8080/",
          "height": 50
        }
      },
      "source": [
        "predictions_RF=RFregressor.predict(C3D_test)\n",
        "Get_score(predictions_RF,gt_test)"
      ],
      "execution_count": 0,
      "outputs": [
        {
          "output_type": "stream",
          "text": [
            "The Spearman's correlation coefficient is: 0.316\n",
            "The Spearman's correlation coefficient is: 0.100\n"
          ],
          "name": "stdout"
        }
      ]
    },
    {
      "cell_type": "markdown",
      "metadata": {
        "colab_type": "text",
        "id": "GiKGkP_f2uYb"
      },
      "source": [
        "### Aesthetic Features"
      ]
    },
    {
      "cell_type": "code",
      "metadata": {
        "colab_type": "code",
        "id": "8uT3ORcNpcig",
        "colab": {}
      },
      "source": [
        "def aes_fea_read(df, filename):\n",
        "  df1 = pd.read_csv(filename, header=None)\n",
        "  df1['video'] = filename[filename.find('video'):filename.find('.txt')] + '.webm'\n",
        "  df = df.append(df1, ignore_index=True)\n",
        "  return df\n",
        "\n",
        "def reading_file_names(path):\n",
        "  files = []\n",
        "  file_number=0\n",
        "  # r=root, d=directories, f = files\n",
        "  for r, d, f in os.walk(path):\n",
        "      for file in f:\n",
        "          if '.txt' in file:\n",
        "              files.append(os.path.join(r, file))\n",
        "              file_number = file_number + 1\n",
        "  print(\"total files read = \" + str(file_number))\n",
        "  return files"
      ],
      "execution_count": 0,
      "outputs": []
    },
    {
      "cell_type": "code",
      "metadata": {
        "colab_type": "code",
        "id": "G0v0MGLVyg1L",
        "outputId": "67c26370-0984-44fc-9aef-0649cadf501d",
        "colab": {
          "base_uri": "https://localhost:8080/",
          "height": 263
        }
      },
      "source": [
        "asthetic_Feat_path = '/content/drive/My Drive/aesthetic-features/dev-set_aesthetic-features/features/aesthetic_visual_features/aesthetic_feat_dev-set_median/'\n",
        "files = reading_file_names(asthetic_Feat_path)\n",
        "dataframe_aes = pd.DataFrame()\n",
        "for filename in files:\n",
        "    dataframe_aes = aes_fea_read(dataframe_aes, filename)\n",
        "   \n",
        "dataframe_aes.head()"
      ],
      "execution_count": 0,
      "outputs": [
        {
          "output_type": "stream",
          "text": [
            "total files read = 6000\n"
          ],
          "name": "stdout"
        },
        {
          "output_type": "execute_result",
          "data": {
            "text/html": [
              "<div>\n",
              "<style scoped>\n",
              "    .dataframe tbody tr th:only-of-type {\n",
              "        vertical-align: middle;\n",
              "    }\n",
              "\n",
              "    .dataframe tbody tr th {\n",
              "        vertical-align: top;\n",
              "    }\n",
              "\n",
              "    .dataframe thead th {\n",
              "        text-align: right;\n",
              "    }\n",
              "</style>\n",
              "<table border=\"1\" class=\"dataframe\">\n",
              "  <thead>\n",
              "    <tr style=\"text-align: right;\">\n",
              "      <th></th>\n",
              "      <th>0</th>\n",
              "      <th>1</th>\n",
              "      <th>2</th>\n",
              "      <th>3</th>\n",
              "      <th>4</th>\n",
              "      <th>5</th>\n",
              "      <th>6</th>\n",
              "      <th>7</th>\n",
              "      <th>8</th>\n",
              "      <th>9</th>\n",
              "      <th>10</th>\n",
              "      <th>11</th>\n",
              "      <th>12</th>\n",
              "      <th>13</th>\n",
              "      <th>14</th>\n",
              "      <th>15</th>\n",
              "      <th>16</th>\n",
              "      <th>17</th>\n",
              "      <th>18</th>\n",
              "      <th>19</th>\n",
              "      <th>20</th>\n",
              "      <th>21</th>\n",
              "      <th>22</th>\n",
              "      <th>23</th>\n",
              "      <th>24</th>\n",
              "      <th>25</th>\n",
              "      <th>26</th>\n",
              "      <th>27</th>\n",
              "      <th>28</th>\n",
              "      <th>29</th>\n",
              "      <th>30</th>\n",
              "      <th>31</th>\n",
              "      <th>32</th>\n",
              "      <th>33</th>\n",
              "      <th>34</th>\n",
              "      <th>35</th>\n",
              "      <th>36</th>\n",
              "      <th>37</th>\n",
              "      <th>38</th>\n",
              "      <th>39</th>\n",
              "      <th>...</th>\n",
              "      <th>70</th>\n",
              "      <th>71</th>\n",
              "      <th>72</th>\n",
              "      <th>73</th>\n",
              "      <th>74</th>\n",
              "      <th>75</th>\n",
              "      <th>76</th>\n",
              "      <th>77</th>\n",
              "      <th>78</th>\n",
              "      <th>79</th>\n",
              "      <th>80</th>\n",
              "      <th>81</th>\n",
              "      <th>82</th>\n",
              "      <th>83</th>\n",
              "      <th>84</th>\n",
              "      <th>85</th>\n",
              "      <th>86</th>\n",
              "      <th>87</th>\n",
              "      <th>88</th>\n",
              "      <th>89</th>\n",
              "      <th>90</th>\n",
              "      <th>91</th>\n",
              "      <th>92</th>\n",
              "      <th>93</th>\n",
              "      <th>94</th>\n",
              "      <th>95</th>\n",
              "      <th>96</th>\n",
              "      <th>97</th>\n",
              "      <th>98</th>\n",
              "      <th>99</th>\n",
              "      <th>100</th>\n",
              "      <th>101</th>\n",
              "      <th>102</th>\n",
              "      <th>103</th>\n",
              "      <th>104</th>\n",
              "      <th>105</th>\n",
              "      <th>106</th>\n",
              "      <th>107</th>\n",
              "      <th>108</th>\n",
              "      <th>video</th>\n",
              "    </tr>\n",
              "  </thead>\n",
              "  <tbody>\n",
              "    <tr>\n",
              "      <th>0</th>\n",
              "      <td>0.353007</td>\n",
              "      <td>0.308923</td>\n",
              "      <td>0.284553</td>\n",
              "      <td>0.225039</td>\n",
              "      <td>0.253096</td>\n",
              "      <td>0.514355</td>\n",
              "      <td>55.062002</td>\n",
              "      <td>0.083333</td>\n",
              "      <td>0.004221</td>\n",
              "      <td>1.0</td>\n",
              "      <td>15.0</td>\n",
              "      <td>0.00</td>\n",
              "      <td>0.5</td>\n",
              "      <td>0.844876</td>\n",
              "      <td>13.0</td>\n",
              "      <td>0.966736</td>\n",
              "      <td>3.158975</td>\n",
              "      <td>7.799011</td>\n",
              "      <td>9.382395</td>\n",
              "      <td>7.113285</td>\n",
              "      <td>22.907121</td>\n",
              "      <td>11.712100</td>\n",
              "      <td>15.726967</td>\n",
              "      <td>43.853436</td>\n",
              "      <td>5.0</td>\n",
              "      <td>0.253197</td>\n",
              "      <td>0.166731</td>\n",
              "      <td>73.0</td>\n",
              "      <td>190.0</td>\n",
              "      <td>0.636582</td>\n",
              "      <td>0.0</td>\n",
              "      <td>0.0</td>\n",
              "      <td>0.030422</td>\n",
              "      <td>0.029239</td>\n",
              "      <td>0.010675</td>\n",
              "      <td>7.360682</td>\n",
              "      <td>7.276642</td>\n",
              "      <td>7.192997</td>\n",
              "      <td>-0.008309</td>\n",
              "      <td>0.012207</td>\n",
              "      <td>...</td>\n",
              "      <td>0.259818</td>\n",
              "      <td>0.414993</td>\n",
              "      <td>0.328159</td>\n",
              "      <td>0.384097</td>\n",
              "      <td>0.414476</td>\n",
              "      <td>0.245120</td>\n",
              "      <td>0.465370</td>\n",
              "      <td>0.141276</td>\n",
              "      <td>0.101100</td>\n",
              "      <td>0.104613</td>\n",
              "      <td>0.481928</td>\n",
              "      <td>0.103862</td>\n",
              "      <td>0.410256</td>\n",
              "      <td>0.450861</td>\n",
              "      <td>0.264921</td>\n",
              "      <td>1.259652</td>\n",
              "      <td>0.258827</td>\n",
              "      <td>1.800927</td>\n",
              "      <td>1.800927</td>\n",
              "      <td>0.353435</td>\n",
              "      <td>0.601387</td>\n",
              "      <td>0.544208</td>\n",
              "      <td>0.816366</td>\n",
              "      <td>0.657737</td>\n",
              "      <td>0.419518</td>\n",
              "      <td>0.058438</td>\n",
              "      <td>0.088509</td>\n",
              "      <td>0.121265</td>\n",
              "      <td>0.002881</td>\n",
              "      <td>-0.002206</td>\n",
              "      <td>-0.003555</td>\n",
              "      <td>0.386096</td>\n",
              "      <td>0.180473</td>\n",
              "      <td>0.365270</td>\n",
              "      <td>1.043706</td>\n",
              "      <td>0.0</td>\n",
              "      <td>-0.409691</td>\n",
              "      <td>-0.468646</td>\n",
              "      <td>0.735105</td>\n",
              "      <td>video6632.webm</td>\n",
              "    </tr>\n",
              "    <tr>\n",
              "      <th>1</th>\n",
              "      <td>0.168417</td>\n",
              "      <td>0.089344</td>\n",
              "      <td>0.541439</td>\n",
              "      <td>0.153814</td>\n",
              "      <td>0.518419</td>\n",
              "      <td>0.240795</td>\n",
              "      <td>50.625188</td>\n",
              "      <td>0.125000</td>\n",
              "      <td>0.000553</td>\n",
              "      <td>2.0</td>\n",
              "      <td>17.0</td>\n",
              "      <td>0.05</td>\n",
              "      <td>0.5</td>\n",
              "      <td>0.901786</td>\n",
              "      <td>17.0</td>\n",
              "      <td>0.172053</td>\n",
              "      <td>0.397873</td>\n",
              "      <td>0.736124</td>\n",
              "      <td>2.634164</td>\n",
              "      <td>2.302000</td>\n",
              "      <td>0.810022</td>\n",
              "      <td>1.935664</td>\n",
              "      <td>2.644606</td>\n",
              "      <td>3.099307</td>\n",
              "      <td>9.0</td>\n",
              "      <td>0.522239</td>\n",
              "      <td>0.462534</td>\n",
              "      <td>79.0</td>\n",
              "      <td>202.0</td>\n",
              "      <td>0.650309</td>\n",
              "      <td>0.0</td>\n",
              "      <td>0.0</td>\n",
              "      <td>0.045983</td>\n",
              "      <td>0.022741</td>\n",
              "      <td>0.008003</td>\n",
              "      <td>7.224600</td>\n",
              "      <td>7.294450</td>\n",
              "      <td>7.324708</td>\n",
              "      <td>0.011352</td>\n",
              "      <td>-0.011723</td>\n",
              "      <td>...</td>\n",
              "      <td>0.133063</td>\n",
              "      <td>0.302486</td>\n",
              "      <td>0.266077</td>\n",
              "      <td>0.143957</td>\n",
              "      <td>0.097494</td>\n",
              "      <td>0.080860</td>\n",
              "      <td>0.054758</td>\n",
              "      <td>0.078787</td>\n",
              "      <td>0.076744</td>\n",
              "      <td>0.320708</td>\n",
              "      <td>0.800914</td>\n",
              "      <td>0.659215</td>\n",
              "      <td>0.654679</td>\n",
              "      <td>0.649544</td>\n",
              "      <td>0.924679</td>\n",
              "      <td>2.324563</td>\n",
              "      <td>1.923246</td>\n",
              "      <td>1.860414</td>\n",
              "      <td>1.860414</td>\n",
              "      <td>0.696142</td>\n",
              "      <td>0.258678</td>\n",
              "      <td>0.932650</td>\n",
              "      <td>0.419849</td>\n",
              "      <td>0.602226</td>\n",
              "      <td>0.914479</td>\n",
              "      <td>0.124725</td>\n",
              "      <td>0.090859</td>\n",
              "      <td>0.001478</td>\n",
              "      <td>0.003772</td>\n",
              "      <td>-0.004476</td>\n",
              "      <td>-0.000000</td>\n",
              "      <td>0.000000</td>\n",
              "      <td>0.169706</td>\n",
              "      <td>0.044193</td>\n",
              "      <td>1.401191</td>\n",
              "      <td>0.0</td>\n",
              "      <td>0.299827</td>\n",
              "      <td>0.181719</td>\n",
              "      <td>0.402697</td>\n",
              "      <td>video6634.webm</td>\n",
              "    </tr>\n",
              "    <tr>\n",
              "      <th>2</th>\n",
              "      <td>0.581810</td>\n",
              "      <td>0.194872</td>\n",
              "      <td>0.531678</td>\n",
              "      <td>0.125891</td>\n",
              "      <td>0.480966</td>\n",
              "      <td>0.358678</td>\n",
              "      <td>52.473407</td>\n",
              "      <td>0.604938</td>\n",
              "      <td>0.000302</td>\n",
              "      <td>2.0</td>\n",
              "      <td>18.0</td>\n",
              "      <td>0.05</td>\n",
              "      <td>0.5</td>\n",
              "      <td>0.772727</td>\n",
              "      <td>18.0</td>\n",
              "      <td>0.276161</td>\n",
              "      <td>0.949043</td>\n",
              "      <td>0.786576</td>\n",
              "      <td>0.864610</td>\n",
              "      <td>1.459549</td>\n",
              "      <td>2.037820</td>\n",
              "      <td>2.010496</td>\n",
              "      <td>3.439723</td>\n",
              "      <td>5.247894</td>\n",
              "      <td>9.0</td>\n",
              "      <td>0.476793</td>\n",
              "      <td>0.391343</td>\n",
              "      <td>99.0</td>\n",
              "      <td>154.0</td>\n",
              "      <td>0.352407</td>\n",
              "      <td>0.0</td>\n",
              "      <td>0.0</td>\n",
              "      <td>0.020502</td>\n",
              "      <td>0.014638</td>\n",
              "      <td>0.005407</td>\n",
              "      <td>5.300602</td>\n",
              "      <td>4.868283</td>\n",
              "      <td>4.798607</td>\n",
              "      <td>-0.010021</td>\n",
              "      <td>-0.034828</td>\n",
              "      <td>...</td>\n",
              "      <td>0.381004</td>\n",
              "      <td>0.340933</td>\n",
              "      <td>0.602290</td>\n",
              "      <td>0.574308</td>\n",
              "      <td>0.190684</td>\n",
              "      <td>0.242257</td>\n",
              "      <td>0.262524</td>\n",
              "      <td>0.089257</td>\n",
              "      <td>0.117701</td>\n",
              "      <td>0.594114</td>\n",
              "      <td>0.045198</td>\n",
              "      <td>0.073597</td>\n",
              "      <td>0.484025</td>\n",
              "      <td>0.442133</td>\n",
              "      <td>1.597913</td>\n",
              "      <td>0.119987</td>\n",
              "      <td>0.192165</td>\n",
              "      <td>3.103221</td>\n",
              "      <td>3.103221</td>\n",
              "      <td>0.473655</td>\n",
              "      <td>0.694643</td>\n",
              "      <td>0.952657</td>\n",
              "      <td>0.505598</td>\n",
              "      <td>0.481609</td>\n",
              "      <td>0.039222</td>\n",
              "      <td>0.176849</td>\n",
              "      <td>0.040903</td>\n",
              "      <td>0.001147</td>\n",
              "      <td>0.002180</td>\n",
              "      <td>-0.001669</td>\n",
              "      <td>-0.000008</td>\n",
              "      <td>0.877948</td>\n",
              "      <td>0.280758</td>\n",
              "      <td>0.229451</td>\n",
              "      <td>1.477636</td>\n",
              "      <td>0.0</td>\n",
              "      <td>0.391471</td>\n",
              "      <td>0.060211</td>\n",
              "      <td>0.338636</td>\n",
              "      <td>video6633.webm</td>\n",
              "    </tr>\n",
              "    <tr>\n",
              "      <th>3</th>\n",
              "      <td>0.604572</td>\n",
              "      <td>0.657199</td>\n",
              "      <td>0.465797</td>\n",
              "      <td>0.526192</td>\n",
              "      <td>0.323581</td>\n",
              "      <td>0.476609</td>\n",
              "      <td>56.950678</td>\n",
              "      <td>0.600000</td>\n",
              "      <td>0.025879</td>\n",
              "      <td>2.0</td>\n",
              "      <td>17.0</td>\n",
              "      <td>0.05</td>\n",
              "      <td>0.5</td>\n",
              "      <td>0.606219</td>\n",
              "      <td>18.0</td>\n",
              "      <td>0.000084</td>\n",
              "      <td>0.000349</td>\n",
              "      <td>0.000888</td>\n",
              "      <td>0.133072</td>\n",
              "      <td>0.000521</td>\n",
              "      <td>0.000877</td>\n",
              "      <td>0.153781</td>\n",
              "      <td>0.154507</td>\n",
              "      <td>0.154557</td>\n",
              "      <td>9.0</td>\n",
              "      <td>0.314131</td>\n",
              "      <td>0.280397</td>\n",
              "      <td>66.0</td>\n",
              "      <td>173.0</td>\n",
              "      <td>0.676752</td>\n",
              "      <td>0.0</td>\n",
              "      <td>0.0</td>\n",
              "      <td>0.032379</td>\n",
              "      <td>0.014033</td>\n",
              "      <td>0.005080</td>\n",
              "      <td>6.138215</td>\n",
              "      <td>6.817259</td>\n",
              "      <td>7.249521</td>\n",
              "      <td>-0.032182</td>\n",
              "      <td>-0.030379</td>\n",
              "      <td>...</td>\n",
              "      <td>0.596026</td>\n",
              "      <td>0.602340</td>\n",
              "      <td>0.589654</td>\n",
              "      <td>0.592583</td>\n",
              "      <td>0.739536</td>\n",
              "      <td>0.272226</td>\n",
              "      <td>0.559406</td>\n",
              "      <td>0.297302</td>\n",
              "      <td>0.327257</td>\n",
              "      <td>0.403357</td>\n",
              "      <td>0.644141</td>\n",
              "      <td>0.670140</td>\n",
              "      <td>0.676132</td>\n",
              "      <td>0.672393</td>\n",
              "      <td>0.727653</td>\n",
              "      <td>1.673944</td>\n",
              "      <td>1.639132</td>\n",
              "      <td>0.460414</td>\n",
              "      <td>0.460414</td>\n",
              "      <td>0.505202</td>\n",
              "      <td>0.569160</td>\n",
              "      <td>0.704965</td>\n",
              "      <td>0.505761</td>\n",
              "      <td>0.204184</td>\n",
              "      <td>0.675914</td>\n",
              "      <td>0.169505</td>\n",
              "      <td>0.019740</td>\n",
              "      <td>0.025946</td>\n",
              "      <td>0.000249</td>\n",
              "      <td>0.000074</td>\n",
              "      <td>-0.000005</td>\n",
              "      <td>0.103966</td>\n",
              "      <td>0.046547</td>\n",
              "      <td>0.519998</td>\n",
              "      <td>1.098700</td>\n",
              "      <td>0.0</td>\n",
              "      <td>0.265116</td>\n",
              "      <td>0.340027</td>\n",
              "      <td>0.035195</td>\n",
              "      <td>video6635.webm</td>\n",
              "    </tr>\n",
              "    <tr>\n",
              "      <th>4</th>\n",
              "      <td>0.141382</td>\n",
              "      <td>0.218025</td>\n",
              "      <td>0.341507</td>\n",
              "      <td>0.124468</td>\n",
              "      <td>0.306108</td>\n",
              "      <td>0.481848</td>\n",
              "      <td>51.203502</td>\n",
              "      <td>0.166667</td>\n",
              "      <td>0.000389</td>\n",
              "      <td>3.0</td>\n",
              "      <td>16.0</td>\n",
              "      <td>0.10</td>\n",
              "      <td>0.5</td>\n",
              "      <td>0.528233</td>\n",
              "      <td>17.0</td>\n",
              "      <td>0.211523</td>\n",
              "      <td>0.150342</td>\n",
              "      <td>0.366948</td>\n",
              "      <td>1.259084</td>\n",
              "      <td>1.238053</td>\n",
              "      <td>0.520253</td>\n",
              "      <td>1.227052</td>\n",
              "      <td>1.323680</td>\n",
              "      <td>1.774546</td>\n",
              "      <td>9.0</td>\n",
              "      <td>0.311975</td>\n",
              "      <td>0.299320</td>\n",
              "      <td>55.0</td>\n",
              "      <td>104.0</td>\n",
              "      <td>0.519861</td>\n",
              "      <td>0.0</td>\n",
              "      <td>0.0</td>\n",
              "      <td>0.034262</td>\n",
              "      <td>0.017544</td>\n",
              "      <td>0.006136</td>\n",
              "      <td>6.350336</td>\n",
              "      <td>6.256131</td>\n",
              "      <td>6.203816</td>\n",
              "      <td>0.010258</td>\n",
              "      <td>-0.002904</td>\n",
              "      <td>...</td>\n",
              "      <td>0.164098</td>\n",
              "      <td>0.113424</td>\n",
              "      <td>0.124538</td>\n",
              "      <td>0.154363</td>\n",
              "      <td>0.204238</td>\n",
              "      <td>0.261588</td>\n",
              "      <td>0.137761</td>\n",
              "      <td>0.281860</td>\n",
              "      <td>0.325721</td>\n",
              "      <td>0.387833</td>\n",
              "      <td>0.223612</td>\n",
              "      <td>0.389716</td>\n",
              "      <td>0.271048</td>\n",
              "      <td>0.233768</td>\n",
              "      <td>1.064785</td>\n",
              "      <td>0.604303</td>\n",
              "      <td>1.090317</td>\n",
              "      <td>0.537341</td>\n",
              "      <td>0.537341</td>\n",
              "      <td>0.586517</td>\n",
              "      <td>0.342995</td>\n",
              "      <td>0.446831</td>\n",
              "      <td>0.599706</td>\n",
              "      <td>0.279681</td>\n",
              "      <td>0.105633</td>\n",
              "      <td>0.164282</td>\n",
              "      <td>0.060408</td>\n",
              "      <td>0.010828</td>\n",
              "      <td>-0.023740</td>\n",
              "      <td>0.001264</td>\n",
              "      <td>0.000184</td>\n",
              "      <td>0.046312</td>\n",
              "      <td>0.050476</td>\n",
              "      <td>0.189169</td>\n",
              "      <td>0.487030</td>\n",
              "      <td>0.0</td>\n",
              "      <td>0.273047</td>\n",
              "      <td>0.151776</td>\n",
              "      <td>0.441400</td>\n",
              "      <td>video6637.webm</td>\n",
              "    </tr>\n",
              "  </tbody>\n",
              "</table>\n",
              "<p>5 rows × 110 columns</p>\n",
              "</div>"
            ],
            "text/plain": [
              "          0         1         2  ...       107       108           video\n",
              "0  0.353007  0.308923  0.284553  ... -0.468646  0.735105  video6632.webm\n",
              "1  0.168417  0.089344  0.541439  ...  0.181719  0.402697  video6634.webm\n",
              "2  0.581810  0.194872  0.531678  ...  0.060211  0.338636  video6633.webm\n",
              "3  0.604572  0.657199  0.465797  ...  0.340027  0.035195  video6635.webm\n",
              "4  0.141382  0.218025  0.341507  ...  0.151776  0.441400  video6637.webm\n",
              "\n",
              "[5 rows x 110 columns]"
            ]
          },
          "metadata": {
            "tags": []
          },
          "execution_count": 81
        }
      ]
    },
    {
      "cell_type": "code",
      "metadata": {
        "colab_type": "code",
        "id": "jeseuXzYrcVq",
        "colab": {}
      },
      "source": [
        "aes_grtruth_merge = pd.merge(ground_truth, dataframe_aes, on='video')"
      ],
      "execution_count": 0,
      "outputs": []
    },
    {
      "cell_type": "code",
      "metadata": {
        "colab_type": "code",
        "id": "pDXe4cHdrh61",
        "outputId": "7ba78e42-33e0-460e-b335-54333d0742a6",
        "colab": {
          "base_uri": "https://localhost:8080/",
          "height": 263
        }
      },
      "source": [
        "aes_grtruth_merge.head()"
      ],
      "execution_count": 0,
      "outputs": [
        {
          "output_type": "execute_result",
          "data": {
            "text/html": [
              "<div>\n",
              "<style scoped>\n",
              "    .dataframe tbody tr th:only-of-type {\n",
              "        vertical-align: middle;\n",
              "    }\n",
              "\n",
              "    .dataframe tbody tr th {\n",
              "        vertical-align: top;\n",
              "    }\n",
              "\n",
              "    .dataframe thead th {\n",
              "        text-align: right;\n",
              "    }\n",
              "</style>\n",
              "<table border=\"1\" class=\"dataframe\">\n",
              "  <thead>\n",
              "    <tr style=\"text-align: right;\">\n",
              "      <th></th>\n",
              "      <th>video</th>\n",
              "      <th>short-term_memorability</th>\n",
              "      <th>long-term_memorability</th>\n",
              "      <th>0</th>\n",
              "      <th>1</th>\n",
              "      <th>2</th>\n",
              "      <th>3</th>\n",
              "      <th>4</th>\n",
              "      <th>5</th>\n",
              "      <th>6</th>\n",
              "      <th>7</th>\n",
              "      <th>8</th>\n",
              "      <th>9</th>\n",
              "      <th>10</th>\n",
              "      <th>11</th>\n",
              "      <th>12</th>\n",
              "      <th>13</th>\n",
              "      <th>14</th>\n",
              "      <th>15</th>\n",
              "      <th>16</th>\n",
              "      <th>17</th>\n",
              "      <th>18</th>\n",
              "      <th>19</th>\n",
              "      <th>20</th>\n",
              "      <th>21</th>\n",
              "      <th>22</th>\n",
              "      <th>23</th>\n",
              "      <th>24</th>\n",
              "      <th>25</th>\n",
              "      <th>26</th>\n",
              "      <th>27</th>\n",
              "      <th>28</th>\n",
              "      <th>29</th>\n",
              "      <th>30</th>\n",
              "      <th>31</th>\n",
              "      <th>32</th>\n",
              "      <th>33</th>\n",
              "      <th>34</th>\n",
              "      <th>35</th>\n",
              "      <th>36</th>\n",
              "      <th>...</th>\n",
              "      <th>69</th>\n",
              "      <th>70</th>\n",
              "      <th>71</th>\n",
              "      <th>72</th>\n",
              "      <th>73</th>\n",
              "      <th>74</th>\n",
              "      <th>75</th>\n",
              "      <th>76</th>\n",
              "      <th>77</th>\n",
              "      <th>78</th>\n",
              "      <th>79</th>\n",
              "      <th>80</th>\n",
              "      <th>81</th>\n",
              "      <th>82</th>\n",
              "      <th>83</th>\n",
              "      <th>84</th>\n",
              "      <th>85</th>\n",
              "      <th>86</th>\n",
              "      <th>87</th>\n",
              "      <th>88</th>\n",
              "      <th>89</th>\n",
              "      <th>90</th>\n",
              "      <th>91</th>\n",
              "      <th>92</th>\n",
              "      <th>93</th>\n",
              "      <th>94</th>\n",
              "      <th>95</th>\n",
              "      <th>96</th>\n",
              "      <th>97</th>\n",
              "      <th>98</th>\n",
              "      <th>99</th>\n",
              "      <th>100</th>\n",
              "      <th>101</th>\n",
              "      <th>102</th>\n",
              "      <th>103</th>\n",
              "      <th>104</th>\n",
              "      <th>105</th>\n",
              "      <th>106</th>\n",
              "      <th>107</th>\n",
              "      <th>108</th>\n",
              "    </tr>\n",
              "  </thead>\n",
              "  <tbody>\n",
              "    <tr>\n",
              "      <th>0</th>\n",
              "      <td>video3.webm</td>\n",
              "      <td>0.924</td>\n",
              "      <td>0.846</td>\n",
              "      <td>0.180874</td>\n",
              "      <td>0.715626</td>\n",
              "      <td>0.198930</td>\n",
              "      <td>0.610453</td>\n",
              "      <td>0.121610</td>\n",
              "      <td>0.692880</td>\n",
              "      <td>55.008914</td>\n",
              "      <td>0.103175</td>\n",
              "      <td>0.001049</td>\n",
              "      <td>2.0</td>\n",
              "      <td>17.0</td>\n",
              "      <td>0.05</td>\n",
              "      <td>0.5</td>\n",
              "      <td>0.519604</td>\n",
              "      <td>17.0</td>\n",
              "      <td>0.005960</td>\n",
              "      <td>0.008102</td>\n",
              "      <td>0.020343</td>\n",
              "      <td>0.770542</td>\n",
              "      <td>2.004125</td>\n",
              "      <td>0.021858</td>\n",
              "      <td>1.988820</td>\n",
              "      <td>2.013504</td>\n",
              "      <td>2.019222</td>\n",
              "      <td>9.0</td>\n",
              "      <td>0.120265</td>\n",
              "      <td>0.080634</td>\n",
              "      <td>40.0</td>\n",
              "      <td>119.0</td>\n",
              "      <td>0.735895</td>\n",
              "      <td>0.0</td>\n",
              "      <td>0.0</td>\n",
              "      <td>0.018776</td>\n",
              "      <td>0.019295</td>\n",
              "      <td>0.007748</td>\n",
              "      <td>6.274252</td>\n",
              "      <td>5.379075</td>\n",
              "      <td>...</td>\n",
              "      <td>0.213352</td>\n",
              "      <td>0.095509</td>\n",
              "      <td>0.087230</td>\n",
              "      <td>0.033329</td>\n",
              "      <td>0.056038</td>\n",
              "      <td>0.662861</td>\n",
              "      <td>0.771214</td>\n",
              "      <td>0.829652</td>\n",
              "      <td>0.924071</td>\n",
              "      <td>0.927459</td>\n",
              "      <td>0.077285</td>\n",
              "      <td>0.360043</td>\n",
              "      <td>0.328821</td>\n",
              "      <td>0.143918</td>\n",
              "      <td>0.189463</td>\n",
              "      <td>0.120016</td>\n",
              "      <td>0.679751</td>\n",
              "      <td>0.598540</td>\n",
              "      <td>2.230930</td>\n",
              "      <td>2.230930</td>\n",
              "      <td>0.369616</td>\n",
              "      <td>0.704061</td>\n",
              "      <td>0.598133</td>\n",
              "      <td>0.495474</td>\n",
              "      <td>0.609570</td>\n",
              "      <td>0.048284</td>\n",
              "      <td>0.136023</td>\n",
              "      <td>0.080460</td>\n",
              "      <td>0.069851</td>\n",
              "      <td>0.009017</td>\n",
              "      <td>-0.002154</td>\n",
              "      <td>-0.000850</td>\n",
              "      <td>0.000000</td>\n",
              "      <td>0.260845</td>\n",
              "      <td>0.294153</td>\n",
              "      <td>0.575061</td>\n",
              "      <td>0.0</td>\n",
              "      <td>0.129661</td>\n",
              "      <td>0.412381</td>\n",
              "      <td>0.788761</td>\n",
              "    </tr>\n",
              "    <tr>\n",
              "      <th>1</th>\n",
              "      <td>video4.webm</td>\n",
              "      <td>0.923</td>\n",
              "      <td>0.667</td>\n",
              "      <td>0.146076</td>\n",
              "      <td>0.550070</td>\n",
              "      <td>0.460729</td>\n",
              "      <td>0.424397</td>\n",
              "      <td>0.341807</td>\n",
              "      <td>0.398212</td>\n",
              "      <td>47.307755</td>\n",
              "      <td>0.119048</td>\n",
              "      <td>0.001859</td>\n",
              "      <td>2.0</td>\n",
              "      <td>16.0</td>\n",
              "      <td>0.05</td>\n",
              "      <td>0.5</td>\n",
              "      <td>0.826721</td>\n",
              "      <td>17.0</td>\n",
              "      <td>0.574806</td>\n",
              "      <td>0.143842</td>\n",
              "      <td>2.256436</td>\n",
              "      <td>2.756384</td>\n",
              "      <td>1.086561</td>\n",
              "      <td>5.479923</td>\n",
              "      <td>2.133483</td>\n",
              "      <td>1.732435</td>\n",
              "      <td>9.536329</td>\n",
              "      <td>9.0</td>\n",
              "      <td>0.353469</td>\n",
              "      <td>0.293591</td>\n",
              "      <td>93.0</td>\n",
              "      <td>237.0</td>\n",
              "      <td>0.604444</td>\n",
              "      <td>0.0</td>\n",
              "      <td>0.0</td>\n",
              "      <td>0.026247</td>\n",
              "      <td>0.023164</td>\n",
              "      <td>0.008719</td>\n",
              "      <td>7.564623</td>\n",
              "      <td>7.510288</td>\n",
              "      <td>...</td>\n",
              "      <td>0.117375</td>\n",
              "      <td>0.251914</td>\n",
              "      <td>0.313148</td>\n",
              "      <td>0.154196</td>\n",
              "      <td>0.159286</td>\n",
              "      <td>0.569429</td>\n",
              "      <td>0.512815</td>\n",
              "      <td>0.251813</td>\n",
              "      <td>0.315495</td>\n",
              "      <td>0.621390</td>\n",
              "      <td>0.506164</td>\n",
              "      <td>0.243233</td>\n",
              "      <td>0.236492</td>\n",
              "      <td>0.225829</td>\n",
              "      <td>0.175110</td>\n",
              "      <td>1.155411</td>\n",
              "      <td>0.626569</td>\n",
              "      <td>0.629879</td>\n",
              "      <td>3.518818</td>\n",
              "      <td>3.518818</td>\n",
              "      <td>0.516974</td>\n",
              "      <td>0.499703</td>\n",
              "      <td>0.529186</td>\n",
              "      <td>0.508357</td>\n",
              "      <td>0.452106</td>\n",
              "      <td>0.088257</td>\n",
              "      <td>0.156600</td>\n",
              "      <td>0.005414</td>\n",
              "      <td>0.011766</td>\n",
              "      <td>0.001006</td>\n",
              "      <td>0.000007</td>\n",
              "      <td>-0.000399</td>\n",
              "      <td>0.920270</td>\n",
              "      <td>0.337932</td>\n",
              "      <td>0.382134</td>\n",
              "      <td>0.943198</td>\n",
              "      <td>0.0</td>\n",
              "      <td>0.692224</td>\n",
              "      <td>0.762354</td>\n",
              "      <td>-0.561793</td>\n",
              "    </tr>\n",
              "    <tr>\n",
              "      <th>2</th>\n",
              "      <td>video6.webm</td>\n",
              "      <td>0.863</td>\n",
              "      <td>0.700</td>\n",
              "      <td>0.063898</td>\n",
              "      <td>0.827439</td>\n",
              "      <td>0.211925</td>\n",
              "      <td>0.720297</td>\n",
              "      <td>0.129499</td>\n",
              "      <td>0.722464</td>\n",
              "      <td>60.535453</td>\n",
              "      <td>0.069048</td>\n",
              "      <td>0.000423</td>\n",
              "      <td>1.0</td>\n",
              "      <td>18.0</td>\n",
              "      <td>0.00</td>\n",
              "      <td>0.5</td>\n",
              "      <td>0.925215</td>\n",
              "      <td>18.0</td>\n",
              "      <td>0.001088</td>\n",
              "      <td>0.007850</td>\n",
              "      <td>0.012946</td>\n",
              "      <td>0.503774</td>\n",
              "      <td>0.500744</td>\n",
              "      <td>0.011369</td>\n",
              "      <td>0.495924</td>\n",
              "      <td>0.504864</td>\n",
              "      <td>0.511403</td>\n",
              "      <td>9.0</td>\n",
              "      <td>0.122787</td>\n",
              "      <td>0.078270</td>\n",
              "      <td>30.0</td>\n",
              "      <td>114.0</td>\n",
              "      <td>0.752917</td>\n",
              "      <td>0.0</td>\n",
              "      <td>0.0</td>\n",
              "      <td>0.011631</td>\n",
              "      <td>0.010970</td>\n",
              "      <td>0.004174</td>\n",
              "      <td>6.816686</td>\n",
              "      <td>5.902598</td>\n",
              "      <td>...</td>\n",
              "      <td>0.061944</td>\n",
              "      <td>0.064526</td>\n",
              "      <td>0.068016</td>\n",
              "      <td>0.063560</td>\n",
              "      <td>0.067906</td>\n",
              "      <td>0.782612</td>\n",
              "      <td>0.915448</td>\n",
              "      <td>0.742627</td>\n",
              "      <td>0.929079</td>\n",
              "      <td>0.819570</td>\n",
              "      <td>0.325139</td>\n",
              "      <td>0.053818</td>\n",
              "      <td>0.292247</td>\n",
              "      <td>0.062686</td>\n",
              "      <td>0.096624</td>\n",
              "      <td>0.567694</td>\n",
              "      <td>0.083037</td>\n",
              "      <td>0.532664</td>\n",
              "      <td>0.172798</td>\n",
              "      <td>0.172798</td>\n",
              "      <td>0.444921</td>\n",
              "      <td>0.491387</td>\n",
              "      <td>0.482771</td>\n",
              "      <td>0.297088</td>\n",
              "      <td>0.630684</td>\n",
              "      <td>0.874500</td>\n",
              "      <td>0.098737</td>\n",
              "      <td>0.093660</td>\n",
              "      <td>0.086411</td>\n",
              "      <td>0.006172</td>\n",
              "      <td>0.002896</td>\n",
              "      <td>0.002309</td>\n",
              "      <td>0.374684</td>\n",
              "      <td>0.019155</td>\n",
              "      <td>0.187358</td>\n",
              "      <td>0.512601</td>\n",
              "      <td>0.0</td>\n",
              "      <td>0.438261</td>\n",
              "      <td>-0.219560</td>\n",
              "      <td>0.276687</td>\n",
              "    </tr>\n",
              "    <tr>\n",
              "      <th>3</th>\n",
              "      <td>video8.webm</td>\n",
              "      <td>0.922</td>\n",
              "      <td>0.818</td>\n",
              "      <td>0.380539</td>\n",
              "      <td>0.134683</td>\n",
              "      <td>0.746891</td>\n",
              "      <td>0.171604</td>\n",
              "      <td>0.697045</td>\n",
              "      <td>0.452995</td>\n",
              "      <td>47.827289</td>\n",
              "      <td>0.580247</td>\n",
              "      <td>0.008550</td>\n",
              "      <td>2.0</td>\n",
              "      <td>14.0</td>\n",
              "      <td>0.45</td>\n",
              "      <td>0.5</td>\n",
              "      <td>0.584303</td>\n",
              "      <td>16.0</td>\n",
              "      <td>6.821453</td>\n",
              "      <td>0.211897</td>\n",
              "      <td>20.599044</td>\n",
              "      <td>20.597047</td>\n",
              "      <td>1.675345</td>\n",
              "      <td>36.579662</td>\n",
              "      <td>8.624648</td>\n",
              "      <td>1.997418</td>\n",
              "      <td>60.334606</td>\n",
              "      <td>8.0</td>\n",
              "      <td>0.700016</td>\n",
              "      <td>0.691673</td>\n",
              "      <td>61.0</td>\n",
              "      <td>162.0</td>\n",
              "      <td>0.469074</td>\n",
              "      <td>0.0</td>\n",
              "      <td>0.0</td>\n",
              "      <td>0.034828</td>\n",
              "      <td>0.014983</td>\n",
              "      <td>0.005811</td>\n",
              "      <td>5.478771</td>\n",
              "      <td>5.776676</td>\n",
              "      <td>...</td>\n",
              "      <td>0.529747</td>\n",
              "      <td>0.097027</td>\n",
              "      <td>0.134220</td>\n",
              "      <td>0.117635</td>\n",
              "      <td>0.103768</td>\n",
              "      <td>0.103688</td>\n",
              "      <td>0.097834</td>\n",
              "      <td>0.355580</td>\n",
              "      <td>0.288330</td>\n",
              "      <td>0.208370</td>\n",
              "      <td>0.767993</td>\n",
              "      <td>0.706242</td>\n",
              "      <td>0.697557</td>\n",
              "      <td>0.698124</td>\n",
              "      <td>0.669603</td>\n",
              "      <td>2.198174</td>\n",
              "      <td>1.995827</td>\n",
              "      <td>1.771978</td>\n",
              "      <td>3.649645</td>\n",
              "      <td>3.649645</td>\n",
              "      <td>0.327396</td>\n",
              "      <td>0.825431</td>\n",
              "      <td>0.583132</td>\n",
              "      <td>0.503702</td>\n",
              "      <td>0.495120</td>\n",
              "      <td>0.495396</td>\n",
              "      <td>0.121759</td>\n",
              "      <td>0.087158</td>\n",
              "      <td>0.083780</td>\n",
              "      <td>-0.000375</td>\n",
              "      <td>0.000568</td>\n",
              "      <td>0.000514</td>\n",
              "      <td>0.970656</td>\n",
              "      <td>0.435550</td>\n",
              "      <td>0.431595</td>\n",
              "      <td>1.142377</td>\n",
              "      <td>0.0</td>\n",
              "      <td>0.424483</td>\n",
              "      <td>0.326030</td>\n",
              "      <td>0.688481</td>\n",
              "    </tr>\n",
              "    <tr>\n",
              "      <th>4</th>\n",
              "      <td>video10.webm</td>\n",
              "      <td>0.950</td>\n",
              "      <td>0.900</td>\n",
              "      <td>0.427258</td>\n",
              "      <td>0.381448</td>\n",
              "      <td>0.582746</td>\n",
              "      <td>0.409475</td>\n",
              "      <td>0.489531</td>\n",
              "      <td>0.198180</td>\n",
              "      <td>39.394310</td>\n",
              "      <td>0.583333</td>\n",
              "      <td>0.039983</td>\n",
              "      <td>7.0</td>\n",
              "      <td>8.0</td>\n",
              "      <td>0.50</td>\n",
              "      <td>0.5</td>\n",
              "      <td>0.235256</td>\n",
              "      <td>9.0</td>\n",
              "      <td>3.353624</td>\n",
              "      <td>1.457271</td>\n",
              "      <td>9.106350</td>\n",
              "      <td>9.757566</td>\n",
              "      <td>6.015925</td>\n",
              "      <td>23.798947</td>\n",
              "      <td>8.782157</td>\n",
              "      <td>10.694530</td>\n",
              "      <td>42.722976</td>\n",
              "      <td>7.0</td>\n",
              "      <td>0.480419</td>\n",
              "      <td>0.391819</td>\n",
              "      <td>95.0</td>\n",
              "      <td>250.0</td>\n",
              "      <td>0.639182</td>\n",
              "      <td>0.0</td>\n",
              "      <td>0.0</td>\n",
              "      <td>0.047711</td>\n",
              "      <td>0.051303</td>\n",
              "      <td>0.019465</td>\n",
              "      <td>7.648013</td>\n",
              "      <td>7.741015</td>\n",
              "      <td>...</td>\n",
              "      <td>0.350875</td>\n",
              "      <td>0.599704</td>\n",
              "      <td>0.724789</td>\n",
              "      <td>0.625646</td>\n",
              "      <td>0.501627</td>\n",
              "      <td>0.327160</td>\n",
              "      <td>0.598499</td>\n",
              "      <td>0.529061</td>\n",
              "      <td>0.531380</td>\n",
              "      <td>0.509560</td>\n",
              "      <td>0.671278</td>\n",
              "      <td>0.379598</td>\n",
              "      <td>0.262728</td>\n",
              "      <td>0.237663</td>\n",
              "      <td>0.244884</td>\n",
              "      <td>1.682174</td>\n",
              "      <td>0.814582</td>\n",
              "      <td>0.617273</td>\n",
              "      <td>5.050162</td>\n",
              "      <td>4.715430</td>\n",
              "      <td>0.581783</td>\n",
              "      <td>0.267555</td>\n",
              "      <td>0.548738</td>\n",
              "      <td>0.524388</td>\n",
              "      <td>0.302570</td>\n",
              "      <td>0.714883</td>\n",
              "      <td>0.157093</td>\n",
              "      <td>0.058108</td>\n",
              "      <td>0.008797</td>\n",
              "      <td>-0.006392</td>\n",
              "      <td>0.005307</td>\n",
              "      <td>0.000065</td>\n",
              "      <td>0.000000</td>\n",
              "      <td>0.442575</td>\n",
              "      <td>0.347355</td>\n",
              "      <td>1.285838</td>\n",
              "      <td>0.0</td>\n",
              "      <td>-0.279630</td>\n",
              "      <td>-0.012414</td>\n",
              "      <td>0.197281</td>\n",
              "    </tr>\n",
              "  </tbody>\n",
              "</table>\n",
              "<p>5 rows × 112 columns</p>\n",
              "</div>"
            ],
            "text/plain": [
              "          video  short-term_memorability  ...       107       108\n",
              "0   video3.webm                    0.924  ...  0.412381  0.788761\n",
              "1   video4.webm                    0.923  ...  0.762354 -0.561793\n",
              "2   video6.webm                    0.863  ... -0.219560  0.276687\n",
              "3   video8.webm                    0.922  ...  0.326030  0.688481\n",
              "4  video10.webm                    0.950  ... -0.012414  0.197281\n",
              "\n",
              "[5 rows x 112 columns]"
            ]
          },
          "metadata": {
            "tags": []
          },
          "execution_count": 91
        }
      ]
    },
    {
      "cell_type": "code",
      "metadata": {
        "colab_type": "code",
        "id": "nScXf694134B",
        "colab": {}
      },
      "source": [
        "aes_feature = aes_grtruth_merge.iloc[:,3:112].values"
      ],
      "execution_count": 0,
      "outputs": []
    },
    {
      "cell_type": "code",
      "metadata": {
        "colab_type": "code",
        "id": "BmplDKKn4kNX",
        "outputId": "43402d81-4dcf-4f05-9738-ff58aa46e972",
        "colab": {
          "base_uri": "https://localhost:8080/",
          "height": 233
        }
      },
      "source": [
        "aes_feature"
      ],
      "execution_count": 0,
      "outputs": [
        {
          "output_type": "execute_result",
          "data": {
            "text/plain": [
              "array([[ 0.180874,  0.715626,  0.19893 , ...,  0.129661,  0.412381,\n",
              "         0.788761],\n",
              "       [ 0.146076,  0.55007 ,  0.460729, ...,  0.692224,  0.762354,\n",
              "        -0.561793],\n",
              "       [ 0.063898,  0.827439,  0.211925, ...,  0.438261, -0.21956 ,\n",
              "         0.276687],\n",
              "       ...,\n",
              "       [ 0.177078,  0.221348,  0.67387 , ...,  0.38719 ,  0.244293,\n",
              "         0.341741],\n",
              "       [ 0.113838,  0.585274,  0.496719, ...,  0.00308 ,  0.365075,\n",
              "        -1.04308 ],\n",
              "       [ 0.554715,  0.132732,  0.691821, ...,  0.783961,  0.621886,\n",
              "        -0.569049]])"
            ]
          },
          "metadata": {
            "tags": []
          },
          "execution_count": 93
        }
      ]
    },
    {
      "cell_type": "code",
      "metadata": {
        "colab_type": "code",
        "id": "Mr_bzhBG2Euh",
        "colab": {}
      },
      "source": [
        "AESarr = aes_feature\n",
        "gt = ground_truth[['short-term_memorability','long-term_memorability']].values\n",
        "\n",
        "AES_train, AES_test, gt_train, gt_test = train_test_split(AESarr,gt, test_size=0.2, random_state=1)"
      ],
      "execution_count": 0,
      "outputs": []
    },
    {
      "cell_type": "markdown",
      "metadata": {
        "colab_type": "text",
        "id": "_wLciWEyiSFW"
      },
      "source": [
        "### RNN"
      ]
    },
    {
      "cell_type": "code",
      "metadata": {
        "colab_type": "code",
        "id": "nPOY-1RT2WER",
        "outputId": "c66b4f3c-9a65-4dfb-b3a4-a68c01e3821d",
        "colab": {
          "base_uri": "https://localhost:8080/",
          "height": 700
        }
      },
      "source": [
        "model = Sequential()\n",
        "model.add(layers.Dense(200,activation='softmax',kernel_regularizer=None,input_shape=(AESarr.shape[1],)))\n",
        "model.add(layers.Dropout(0.1))\n",
        "model.add(layers.Dense(2,activation='relu'))\n",
        "      \n",
        "# compile the model \n",
        "model.compile(optimizer='Adamax',loss='mean_absolute_error',metrics=['cosine_proximity','accuracy','mae'])\n",
        "\n",
        "# training the model \n",
        "history = model.fit(AES_train,gt_train,epochs=20,validation_data=(AES_test,gt_test))"
      ],
      "execution_count": 0,
      "outputs": [
        {
          "output_type": "stream",
          "text": [
            "Train on 4800 samples, validate on 1200 samples\n",
            "Epoch 1/20\n",
            "4800/4800 [==============================] - 0s 78us/step - loss: 0.4976 - cosine_proximity: 0.9668 - accuracy: 0.6981 - mae: 0.4976 - val_loss: 0.2200 - val_cosine_proximity: 0.9956 - val_accuracy: 0.7233 - val_mae: 0.2200\n",
            "Epoch 2/20\n",
            "4800/4800 [==============================] - 0s 55us/step - loss: 0.1424 - cosine_proximity: 0.9953 - accuracy: 0.7002 - mae: 0.1424 - val_loss: 0.0939 - val_cosine_proximity: 0.9955 - val_accuracy: 0.7233 - val_mae: 0.0939\n",
            "Epoch 3/20\n",
            "4800/4800 [==============================] - 0s 56us/step - loss: 0.1224 - cosine_proximity: 0.9953 - accuracy: 0.7002 - mae: 0.1224 - val_loss: 0.0935 - val_cosine_proximity: 0.9955 - val_accuracy: 0.7233 - val_mae: 0.0935\n",
            "Epoch 4/20\n",
            "4800/4800 [==============================] - 0s 55us/step - loss: 0.1203 - cosine_proximity: 0.9953 - accuracy: 0.7002 - mae: 0.1203 - val_loss: 0.0923 - val_cosine_proximity: 0.9955 - val_accuracy: 0.7233 - val_mae: 0.0923\n",
            "Epoch 5/20\n",
            "4800/4800 [==============================] - 0s 56us/step - loss: 0.1180 - cosine_proximity: 0.9953 - accuracy: 0.7002 - mae: 0.1180 - val_loss: 0.0920 - val_cosine_proximity: 0.9955 - val_accuracy: 0.7233 - val_mae: 0.0920\n",
            "Epoch 6/20\n",
            "4800/4800 [==============================] - 0s 58us/step - loss: 0.1150 - cosine_proximity: 0.9952 - accuracy: 0.7002 - mae: 0.1150 - val_loss: 0.0911 - val_cosine_proximity: 0.9955 - val_accuracy: 0.7233 - val_mae: 0.0911\n",
            "Epoch 7/20\n",
            "4800/4800 [==============================] - 0s 55us/step - loss: 0.1107 - cosine_proximity: 0.9952 - accuracy: 0.7002 - mae: 0.1107 - val_loss: 0.0910 - val_cosine_proximity: 0.9954 - val_accuracy: 0.7233 - val_mae: 0.0910\n",
            "Epoch 8/20\n",
            "4800/4800 [==============================] - 0s 55us/step - loss: 0.1076 - cosine_proximity: 0.9952 - accuracy: 0.7002 - mae: 0.1076 - val_loss: 0.0895 - val_cosine_proximity: 0.9955 - val_accuracy: 0.7233 - val_mae: 0.0895\n",
            "Epoch 9/20\n",
            "4800/4800 [==============================] - 0s 57us/step - loss: 0.1060 - cosine_proximity: 0.9953 - accuracy: 0.7002 - mae: 0.1060 - val_loss: 0.0905 - val_cosine_proximity: 0.9953 - val_accuracy: 0.7233 - val_mae: 0.0905\n",
            "Epoch 10/20\n",
            "4800/4800 [==============================] - 0s 55us/step - loss: 0.1025 - cosine_proximity: 0.9953 - accuracy: 0.7002 - mae: 0.1025 - val_loss: 0.0898 - val_cosine_proximity: 0.9954 - val_accuracy: 0.7233 - val_mae: 0.0898\n",
            "Epoch 11/20\n",
            "4800/4800 [==============================] - 0s 55us/step - loss: 0.1014 - cosine_proximity: 0.9953 - accuracy: 0.7002 - mae: 0.1014 - val_loss: 0.0891 - val_cosine_proximity: 0.9954 - val_accuracy: 0.7233 - val_mae: 0.0891\n",
            "Epoch 12/20\n",
            "4800/4800 [==============================] - 0s 57us/step - loss: 0.0978 - cosine_proximity: 0.9953 - accuracy: 0.7002 - mae: 0.0978 - val_loss: 0.0884 - val_cosine_proximity: 0.9954 - val_accuracy: 0.7233 - val_mae: 0.0884\n",
            "Epoch 13/20\n",
            "4800/4800 [==============================] - 0s 56us/step - loss: 0.0958 - cosine_proximity: 0.9953 - accuracy: 0.7002 - mae: 0.0958 - val_loss: 0.0885 - val_cosine_proximity: 0.9955 - val_accuracy: 0.7233 - val_mae: 0.0885\n",
            "Epoch 14/20\n",
            "4800/4800 [==============================] - 0s 57us/step - loss: 0.0933 - cosine_proximity: 0.9953 - accuracy: 0.7002 - mae: 0.0933 - val_loss: 0.0881 - val_cosine_proximity: 0.9955 - val_accuracy: 0.7233 - val_mae: 0.0881\n",
            "Epoch 15/20\n",
            "4800/4800 [==============================] - 0s 54us/step - loss: 0.0923 - cosine_proximity: 0.9953 - accuracy: 0.7002 - mae: 0.0923 - val_loss: 0.0883 - val_cosine_proximity: 0.9955 - val_accuracy: 0.7233 - val_mae: 0.0883\n",
            "Epoch 16/20\n",
            "4800/4800 [==============================] - 0s 59us/step - loss: 0.0909 - cosine_proximity: 0.9953 - accuracy: 0.7002 - mae: 0.0909 - val_loss: 0.0880 - val_cosine_proximity: 0.9955 - val_accuracy: 0.7233 - val_mae: 0.0880\n",
            "Epoch 17/20\n",
            "4800/4800 [==============================] - 0s 55us/step - loss: 0.0899 - cosine_proximity: 0.9953 - accuracy: 0.7002 - mae: 0.0899 - val_loss: 0.0879 - val_cosine_proximity: 0.9955 - val_accuracy: 0.7233 - val_mae: 0.0879\n",
            "Epoch 18/20\n",
            "4800/4800 [==============================] - 0s 55us/step - loss: 0.0896 - cosine_proximity: 0.9953 - accuracy: 0.7002 - mae: 0.0896 - val_loss: 0.0880 - val_cosine_proximity: 0.9953 - val_accuracy: 0.7233 - val_mae: 0.0880\n",
            "Epoch 19/20\n",
            "4800/4800 [==============================] - 0s 60us/step - loss: 0.0891 - cosine_proximity: 0.9953 - accuracy: 0.7000 - mae: 0.0891 - val_loss: 0.0880 - val_cosine_proximity: 0.9955 - val_accuracy: 0.7233 - val_mae: 0.0880\n",
            "Epoch 20/20\n",
            "4800/4800 [==============================] - 0s 57us/step - loss: 0.0889 - cosine_proximity: 0.9953 - accuracy: 0.7000 - mae: 0.0889 - val_loss: 0.0879 - val_cosine_proximity: 0.9954 - val_accuracy: 0.7233 - val_mae: 0.0879\n"
          ],
          "name": "stdout"
        }
      ]
    },
    {
      "cell_type": "code",
      "metadata": {
        "colab_type": "code",
        "id": "tb0Qqfjv4voQ",
        "outputId": "5d586ab2-21c5-46ae-8102-fd2127464bfc",
        "colab": {
          "base_uri": "https://localhost:8080/",
          "height": 133
        }
      },
      "source": [
        "predictions_RNN = model.predict(AES_test)\n",
        "predictions_RNN"
      ],
      "execution_count": 0,
      "outputs": [
        {
          "output_type": "execute_result",
          "data": {
            "text/plain": [
              "array([[0.86557794, 0.80182403],\n",
              "       [0.86557794, 0.80182403],\n",
              "       [0.86557794, 0.80182403],\n",
              "       ...,\n",
              "       [0.86557794, 0.80182403],\n",
              "       [0.86557794, 0.80182403],\n",
              "       [0.86557794, 0.80182403]], dtype=float32)"
            ]
          },
          "metadata": {
            "tags": []
          },
          "execution_count": 97
        }
      ]
    },
    {
      "cell_type": "code",
      "metadata": {
        "colab_type": "code",
        "id": "OzFwzwtx43Q0",
        "outputId": "b743d1bf-80cb-4447-e045-692f95a485d0",
        "colab": {
          "base_uri": "https://localhost:8080/",
          "height": 50
        }
      },
      "source": [
        "Get_score(predictions_RNN, gt_test)"
      ],
      "execution_count": 0,
      "outputs": [
        {
          "output_type": "stream",
          "text": [
            "The Spearman's correlation coefficient is: -0.050\n",
            "The Spearman's correlation coefficient is: 0.002\n"
          ],
          "name": "stdout"
        }
      ]
    },
    {
      "cell_type": "markdown",
      "metadata": {
        "colab_type": "text",
        "id": "hBS_hexU4-8y"
      },
      "source": [
        "### Descion Tree"
      ]
    },
    {
      "cell_type": "code",
      "metadata": {
        "colab_type": "code",
        "id": "oMRBf3vu5DuI",
        "outputId": "16fdcbc4-d081-4add-c814-ad9004aad085",
        "colab": {
          "base_uri": "https://localhost:8080/",
          "height": 116
        }
      },
      "source": [
        "from sklearn.tree import DecisionTreeRegressor\n",
        "DTregressor = DecisionTreeRegressor()\n",
        "DTregressor.fit(AES_train, gt_train)"
      ],
      "execution_count": 0,
      "outputs": [
        {
          "output_type": "execute_result",
          "data": {
            "text/plain": [
              "DecisionTreeRegressor(ccp_alpha=0.0, criterion='mse', max_depth=None,\n",
              "                      max_features=None, max_leaf_nodes=None,\n",
              "                      min_impurity_decrease=0.0, min_impurity_split=None,\n",
              "                      min_samples_leaf=1, min_samples_split=2,\n",
              "                      min_weight_fraction_leaf=0.0, presort='deprecated',\n",
              "                      random_state=None, splitter='best')"
            ]
          },
          "metadata": {
            "tags": []
          },
          "execution_count": 107
        }
      ]
    },
    {
      "cell_type": "code",
      "metadata": {
        "colab_type": "code",
        "id": "TgjN697H5X5Y",
        "outputId": "ee966b30-0282-4f09-b046-2f130b0840f1",
        "colab": {
          "base_uri": "https://localhost:8080/",
          "height": 50
        }
      },
      "source": [
        "predictions = DTregressor.predict(AES_test)\n",
        "Get_score(predictions, gt_test)"
      ],
      "execution_count": 0,
      "outputs": [
        {
          "output_type": "stream",
          "text": [
            "The Spearman's correlation coefficient is: 0.141\n",
            "The Spearman's correlation coefficient is: 0.032\n"
          ],
          "name": "stdout"
        }
      ]
    },
    {
      "cell_type": "markdown",
      "metadata": {
        "colab_type": "text",
        "id": "gLNDm7n45gd3"
      },
      "source": [
        "### SVR"
      ]
    },
    {
      "cell_type": "code",
      "metadata": {
        "colab_type": "code",
        "id": "BsWhlu435kpc",
        "colab": {}
      },
      "source": [
        "gt_short = ground_truth[['short-term_memorability']].values\n",
        "AES_train, AES_test, gt_train_short, gt_test_short = train_test_split(AESarr,gt_short, test_size=0.2, random_state=1)"
      ],
      "execution_count": 0,
      "outputs": []
    },
    {
      "cell_type": "code",
      "metadata": {
        "colab_type": "code",
        "id": "8FGQ4xlM5vCR",
        "outputId": "87ad60fb-7ca5-416a-d602-44445b3d5524",
        "colab": {
          "base_uri": "https://localhost:8080/",
          "height": 50
        }
      },
      "source": [
        "from sklearn.svm import SVR\n",
        "model = SVR(C=100).fit(AES_train,gt_train_short)"
      ],
      "execution_count": 0,
      "outputs": [
        {
          "output_type": "stream",
          "text": [
            "/usr/local/lib/python3.6/dist-packages/sklearn/utils/validation.py:760: DataConversionWarning: A column-vector y was passed when a 1d array was expected. Please change the shape of y to (n_samples, ), for example using ravel().\n",
            "  y = column_or_1d(y, warn=True)\n"
          ],
          "name": "stderr"
        }
      ]
    },
    {
      "cell_type": "code",
      "metadata": {
        "colab_type": "code",
        "id": "UgNQ2Qog51Na",
        "outputId": "055c3b0a-5224-416f-d30f-ada96174fbc0",
        "colab": {
          "base_uri": "https://localhost:8080/",
          "height": 33
        }
      },
      "source": [
        "predictions = model.predict(AES_test)\n",
        "Get_score(predictions,gt_test_short)"
      ],
      "execution_count": 0,
      "outputs": [
        {
          "output_type": "stream",
          "text": [
            "The Spearman's correlation coefficient is: 0.263\n"
          ],
          "name": "stdout"
        }
      ]
    },
    {
      "cell_type": "code",
      "metadata": {
        "colab_type": "code",
        "id": "HDVS1JHo5641",
        "colab": {}
      },
      "source": [
        "gt_long = ground_truth[['short-term_memorability']].values\n",
        "AES_train, AES_test, gt_train_long, gt_test_long = train_test_split(AESarr,gt_long, test_size=0.2, random_state=42)"
      ],
      "execution_count": 0,
      "outputs": []
    },
    {
      "cell_type": "code",
      "metadata": {
        "colab_type": "code",
        "id": "Lmu8Utz_6k-y",
        "outputId": "33c16efe-fc83-422f-f59a-966fdf311ba8",
        "colab": {
          "base_uri": "https://localhost:8080/",
          "height": 33
        }
      },
      "source": [
        "predictions = model.predict(AES_test)\n",
        "Get_score(predictions,gt_test_short)"
      ],
      "execution_count": 0,
      "outputs": [
        {
          "output_type": "stream",
          "text": [
            "The Spearman's correlation coefficient is: -0.053\n"
          ],
          "name": "stdout"
        }
      ]
    },
    {
      "cell_type": "markdown",
      "metadata": {
        "colab_type": "text",
        "id": "IEiiSQ2L6uCF"
      },
      "source": [
        "### Random forest"
      ]
    },
    {
      "cell_type": "code",
      "metadata": {
        "colab_type": "code",
        "id": "jiukqrek6wqj",
        "outputId": "a705d7ce-c543-4e91-a14f-f4609f100742",
        "colab": {
          "base_uri": "https://localhost:8080/",
          "height": 133
        }
      },
      "source": [
        "from sklearn.ensemble import RandomForestRegressor\n",
        "RFregressor = RandomForestRegressor(n_estimators = 150)\n",
        "RFregressor.fit(AES_train, gt_train)"
      ],
      "execution_count": 0,
      "outputs": [
        {
          "output_type": "execute_result",
          "data": {
            "text/plain": [
              "RandomForestRegressor(bootstrap=True, ccp_alpha=0.0, criterion='mse',\n",
              "                      max_depth=None, max_features='auto', max_leaf_nodes=None,\n",
              "                      max_samples=None, min_impurity_decrease=0.0,\n",
              "                      min_impurity_split=None, min_samples_leaf=1,\n",
              "                      min_samples_split=2, min_weight_fraction_leaf=0.0,\n",
              "                      n_estimators=150, n_jobs=None, oob_score=False,\n",
              "                      random_state=None, verbose=0, warm_start=False)"
            ]
          },
          "metadata": {
            "tags": []
          },
          "execution_count": 114
        }
      ]
    },
    {
      "cell_type": "code",
      "metadata": {
        "colab_type": "code",
        "id": "6RlKPzAU64yh",
        "outputId": "d2f8607b-604d-43c9-c1bc-12473835700a",
        "colab": {
          "base_uri": "https://localhost:8080/",
          "height": 50
        }
      },
      "source": [
        "predictions_RF=RFregressor.predict(AES_test)\n",
        "Get_score(predictions_RF,gt_test)"
      ],
      "execution_count": 0,
      "outputs": [
        {
          "output_type": "stream",
          "text": [
            "The Spearman's correlation coefficient is: -0.006\n",
            "The Spearman's correlation coefficient is: 0.027\n"
          ],
          "name": "stdout"
        }
      ]
    },
    {
      "cell_type": "markdown",
      "metadata": {
        "colab_type": "text",
        "id": "p-fziXW_tUOe"
      },
      "source": [
        "###Ensembled approach (caption)"
      ]
    },
    {
      "cell_type": "markdown",
      "metadata": {
        "colab_type": "text",
        "id": "v7dHwTqliaLk"
      },
      "source": [
        "Weighted average ensemble approach to increase the accuracy [60% of RNN , 30% of SVR and 10% of Random forest model]"
      ]
    },
    {
      "cell_type": "code",
      "metadata": {
        "colab_type": "code",
        "id": "UiqeJVYxBozJ",
        "colab": {}
      },
      "source": [
        "prediction_final = 0.60*predictions_caption_RNN + 0.30*prediction_caption_SVR+ 0.10*predictions_caption_RF"
      ],
      "execution_count": 0,
      "outputs": []
    },
    {
      "cell_type": "code",
      "metadata": {
        "colab_type": "code",
        "id": "kZgKqqi7FoA0",
        "outputId": "e566458d-0eb0-493f-8887-759afe4d0f67",
        "colab": {
          "base_uri": "https://localhost:8080/",
          "height": 133
        }
      },
      "source": [
        "prediction_final"
      ],
      "execution_count": 0,
      "outputs": [
        {
          "output_type": "execute_result",
          "data": {
            "text/plain": [
              "array([[0.87684404, 0.7798028 ],\n",
              "       [0.85267728, 0.78807911],\n",
              "       [0.87094763, 0.81888294],\n",
              "       ...,\n",
              "       [0.86857399, 0.81512232],\n",
              "       [0.86982417, 0.7933572 ],\n",
              "       [0.8615729 , 0.77379898]])"
            ]
          },
          "metadata": {
            "tags": []
          },
          "execution_count": 294
        }
      ]
    },
    {
      "cell_type": "markdown",
      "metadata": {
        "colab_type": "text",
        "id": "YCJKDpI3i2rm"
      },
      "source": [
        "#### On combining the models Spearman's correlation for short term memory is **0.464** and long term memory is **0.200**"
      ]
    },
    {
      "cell_type": "code",
      "metadata": {
        "colab_type": "code",
        "id": "J635ogqGFqj0",
        "outputId": "478387bc-c5b5-47f8-f4a0-a505d8aea7f7",
        "colab": {
          "base_uri": "https://localhost:8080/",
          "height": 50
        }
      },
      "source": [
        "Get_score(prediction_final,gt_test)"
      ],
      "execution_count": 0,
      "outputs": [
        {
          "output_type": "stream",
          "text": [
            "The Spearman's correlation coefficient is: 0.464\n",
            "The Spearman's correlation coefficient is: 0.200\n"
          ],
          "name": "stdout"
        }
      ]
    },
    {
      "cell_type": "markdown",
      "metadata": {
        "colab_type": "text",
        "id": "K52wYEoAH2gc"
      },
      "source": [
        "## BUILDING FINAL MODEL ON TEST SET"
      ]
    },
    {
      "cell_type": "markdown",
      "metadata": {
        "colab_type": "text",
        "id": "Gt7yPXl5I2Ts"
      },
      "source": [
        "#### Above exploration of featuers, \"Video Captions\" give better results,so my final prediction is based on video captions."
      ]
    },
    {
      "cell_type": "code",
      "metadata": {
        "colab_type": "code",
        "id": "CyNvToOoJQRK",
        "colab": {}
      },
      "source": [
        "ground_truth_test= pd.read_csv(\"Ground-truth/ground-truth.csv\")"
      ],
      "execution_count": 0,
      "outputs": []
    },
    {
      "cell_type": "code",
      "metadata": {
        "colab_type": "code",
        "id": "y1hi1q31KgNP",
        "outputId": "9e625202-4321-4ecb-8b25-326813df5e69",
        "colab": {
          "base_uri": "https://localhost:8080/",
          "height": 197
        }
      },
      "source": [
        "ground_truth_test.head()"
      ],
      "execution_count": 0,
      "outputs": [
        {
          "output_type": "execute_result",
          "data": {
            "text/html": [
              "<div>\n",
              "<style scoped>\n",
              "    .dataframe tbody tr th:only-of-type {\n",
              "        vertical-align: middle;\n",
              "    }\n",
              "\n",
              "    .dataframe tbody tr th {\n",
              "        vertical-align: top;\n",
              "    }\n",
              "\n",
              "    .dataframe thead th {\n",
              "        text-align: right;\n",
              "    }\n",
              "</style>\n",
              "<table border=\"1\" class=\"dataframe\">\n",
              "  <thead>\n",
              "    <tr style=\"text-align: right;\">\n",
              "      <th></th>\n",
              "      <th>video</th>\n",
              "      <th>short-term_memorability</th>\n",
              "      <th>nb_short-term_annotations</th>\n",
              "      <th>long-term_memorability</th>\n",
              "      <th>nb_long-term_annotations</th>\n",
              "    </tr>\n",
              "  </thead>\n",
              "  <tbody>\n",
              "    <tr>\n",
              "      <th>0</th>\n",
              "      <td>video3.webm</td>\n",
              "      <td>0.924</td>\n",
              "      <td>34</td>\n",
              "      <td>0.846</td>\n",
              "      <td>13</td>\n",
              "    </tr>\n",
              "    <tr>\n",
              "      <th>1</th>\n",
              "      <td>video4.webm</td>\n",
              "      <td>0.923</td>\n",
              "      <td>33</td>\n",
              "      <td>0.667</td>\n",
              "      <td>12</td>\n",
              "    </tr>\n",
              "    <tr>\n",
              "      <th>2</th>\n",
              "      <td>video6.webm</td>\n",
              "      <td>0.863</td>\n",
              "      <td>33</td>\n",
              "      <td>0.700</td>\n",
              "      <td>10</td>\n",
              "    </tr>\n",
              "    <tr>\n",
              "      <th>3</th>\n",
              "      <td>video8.webm</td>\n",
              "      <td>0.922</td>\n",
              "      <td>33</td>\n",
              "      <td>0.818</td>\n",
              "      <td>11</td>\n",
              "    </tr>\n",
              "    <tr>\n",
              "      <th>4</th>\n",
              "      <td>video10.webm</td>\n",
              "      <td>0.950</td>\n",
              "      <td>34</td>\n",
              "      <td>0.900</td>\n",
              "      <td>10</td>\n",
              "    </tr>\n",
              "  </tbody>\n",
              "</table>\n",
              "</div>"
            ],
            "text/plain": [
              "          video  ...  nb_long-term_annotations\n",
              "0   video3.webm  ...                        13\n",
              "1   video4.webm  ...                        12\n",
              "2   video6.webm  ...                        10\n",
              "3   video8.webm  ...                        11\n",
              "4  video10.webm  ...                        10\n",
              "\n",
              "[5 rows x 5 columns]"
            ]
          },
          "metadata": {
            "tags": []
          },
          "execution_count": 297
        }
      ]
    },
    {
      "cell_type": "code",
      "metadata": {
        "colab_type": "code",
        "id": "b8qYke4pK1v8",
        "outputId": "48437eb4-0577-4d90-eb17-97fb51cf9f1a",
        "colab": {
          "base_uri": "https://localhost:8080/",
          "height": 197
        }
      },
      "source": [
        "ground_truth_test = ground_truth_test.drop(['nb_short-term_annotations', 'nb_long-term_annotations'],axis=1)\n",
        "ground_truth_test.head()"
      ],
      "execution_count": 0,
      "outputs": [
        {
          "output_type": "execute_result",
          "data": {
            "text/html": [
              "<div>\n",
              "<style scoped>\n",
              "    .dataframe tbody tr th:only-of-type {\n",
              "        vertical-align: middle;\n",
              "    }\n",
              "\n",
              "    .dataframe tbody tr th {\n",
              "        vertical-align: top;\n",
              "    }\n",
              "\n",
              "    .dataframe thead th {\n",
              "        text-align: right;\n",
              "    }\n",
              "</style>\n",
              "<table border=\"1\" class=\"dataframe\">\n",
              "  <thead>\n",
              "    <tr style=\"text-align: right;\">\n",
              "      <th></th>\n",
              "      <th>video</th>\n",
              "      <th>short-term_memorability</th>\n",
              "      <th>long-term_memorability</th>\n",
              "    </tr>\n",
              "  </thead>\n",
              "  <tbody>\n",
              "    <tr>\n",
              "      <th>0</th>\n",
              "      <td>video3.webm</td>\n",
              "      <td>0.924</td>\n",
              "      <td>0.846</td>\n",
              "    </tr>\n",
              "    <tr>\n",
              "      <th>1</th>\n",
              "      <td>video4.webm</td>\n",
              "      <td>0.923</td>\n",
              "      <td>0.667</td>\n",
              "    </tr>\n",
              "    <tr>\n",
              "      <th>2</th>\n",
              "      <td>video6.webm</td>\n",
              "      <td>0.863</td>\n",
              "      <td>0.700</td>\n",
              "    </tr>\n",
              "    <tr>\n",
              "      <th>3</th>\n",
              "      <td>video8.webm</td>\n",
              "      <td>0.922</td>\n",
              "      <td>0.818</td>\n",
              "    </tr>\n",
              "    <tr>\n",
              "      <th>4</th>\n",
              "      <td>video10.webm</td>\n",
              "      <td>0.950</td>\n",
              "      <td>0.900</td>\n",
              "    </tr>\n",
              "  </tbody>\n",
              "</table>\n",
              "</div>"
            ],
            "text/plain": [
              "          video  short-term_memorability  long-term_memorability\n",
              "0   video3.webm                    0.924                   0.846\n",
              "1   video4.webm                    0.923                   0.667\n",
              "2   video6.webm                    0.863                   0.700\n",
              "3   video8.webm                    0.922                   0.818\n",
              "4  video10.webm                    0.950                   0.900"
            ]
          },
          "metadata": {
            "tags": []
          },
          "execution_count": 299
        }
      ]
    },
    {
      "cell_type": "code",
      "metadata": {
        "colab_type": "code",
        "id": "0wuw8GPBLUI9",
        "colab": {}
      },
      "source": [
        "os.chdir(\"/content/drive/My Drive/CA684_Assignment/Test-set\")"
      ],
      "execution_count": 0,
      "outputs": []
    },
    {
      "cell_type": "markdown",
      "metadata": {
        "colab_type": "text",
        "id": "HpP41QTBjqry"
      },
      "source": [
        "#### Reading captions file of test dataset"
      ]
    },
    {
      "cell_type": "code",
      "metadata": {
        "colab_type": "code",
        "id": "2qmaYCe-K893",
        "outputId": "7c50b2f4-544c-4f30-9eae-fc47d8145e0a",
        "colab": {
          "base_uri": "https://localhost:8080/",
          "height": 197
        }
      },
      "source": [
        "captions_test = pd.read_csv(\"Captions_test/test-set-1_video-captions.txt\",delimiter='\\t',names=('video','caption'))\n",
        "captions_test.head()"
      ],
      "execution_count": 0,
      "outputs": [
        {
          "output_type": "execute_result",
          "data": {
            "text/html": [
              "<div>\n",
              "<style scoped>\n",
              "    .dataframe tbody tr th:only-of-type {\n",
              "        vertical-align: middle;\n",
              "    }\n",
              "\n",
              "    .dataframe tbody tr th {\n",
              "        vertical-align: top;\n",
              "    }\n",
              "\n",
              "    .dataframe thead th {\n",
              "        text-align: right;\n",
              "    }\n",
              "</style>\n",
              "<table border=\"1\" class=\"dataframe\">\n",
              "  <thead>\n",
              "    <tr style=\"text-align: right;\">\n",
              "      <th></th>\n",
              "      <th>video</th>\n",
              "      <th>caption</th>\n",
              "    </tr>\n",
              "  </thead>\n",
              "  <tbody>\n",
              "    <tr>\n",
              "      <th>0</th>\n",
              "      <td>video7494.webm</td>\n",
              "      <td>green-jeep-struggling-to-drive-over-huge-rocks</td>\n",
              "    </tr>\n",
              "    <tr>\n",
              "      <th>1</th>\n",
              "      <td>video7495.webm</td>\n",
              "      <td>hiking-woman-tourist-is-walking-forward-in-mou...</td>\n",
              "    </tr>\n",
              "    <tr>\n",
              "      <th>2</th>\n",
              "      <td>video7496.webm</td>\n",
              "      <td>close-up-of-african-american-doctors-hands-usi...</td>\n",
              "    </tr>\n",
              "    <tr>\n",
              "      <th>3</th>\n",
              "      <td>video7497.webm</td>\n",
              "      <td>slow-motion-of-a-man-using-treadmill-in-the-gy...</td>\n",
              "    </tr>\n",
              "    <tr>\n",
              "      <th>4</th>\n",
              "      <td>video7498.webm</td>\n",
              "      <td>slow-motion-of-photographer-in-national-park</td>\n",
              "    </tr>\n",
              "  </tbody>\n",
              "</table>\n",
              "</div>"
            ],
            "text/plain": [
              "            video                                            caption\n",
              "0  video7494.webm     green-jeep-struggling-to-drive-over-huge-rocks\n",
              "1  video7495.webm  hiking-woman-tourist-is-walking-forward-in-mou...\n",
              "2  video7496.webm  close-up-of-african-american-doctors-hands-usi...\n",
              "3  video7497.webm  slow-motion-of-a-man-using-treadmill-in-the-gy...\n",
              "4  video7498.webm       slow-motion-of-photographer-in-national-park"
            ]
          },
          "metadata": {
            "tags": []
          },
          "execution_count": 305
        }
      ]
    },
    {
      "cell_type": "code",
      "metadata": {
        "colab_type": "code",
        "id": "25mzIlPfL04c",
        "colab": {}
      },
      "source": [
        "os.chdir(\"/content/drive/My Drive/CA684_Assignment/Dev-set\")"
      ],
      "execution_count": 0,
      "outputs": []
    },
    {
      "cell_type": "code",
      "metadata": {
        "colab_type": "code",
        "id": "cdb9IHNrLmgb",
        "outputId": "5be6970d-edc9-4f77-8758-0823a3abe284",
        "colab": {
          "base_uri": "https://localhost:8080/",
          "height": 197
        }
      },
      "source": [
        "captions_train = pd.read_csv(\"Captions/dev-set_video-captions.txt\",delimiter='\\t',names=('video','caption'))\n",
        "captions_train.head()"
      ],
      "execution_count": 0,
      "outputs": [
        {
          "output_type": "execute_result",
          "data": {
            "text/html": [
              "<div>\n",
              "<style scoped>\n",
              "    .dataframe tbody tr th:only-of-type {\n",
              "        vertical-align: middle;\n",
              "    }\n",
              "\n",
              "    .dataframe tbody tr th {\n",
              "        vertical-align: top;\n",
              "    }\n",
              "\n",
              "    .dataframe thead th {\n",
              "        text-align: right;\n",
              "    }\n",
              "</style>\n",
              "<table border=\"1\" class=\"dataframe\">\n",
              "  <thead>\n",
              "    <tr style=\"text-align: right;\">\n",
              "      <th></th>\n",
              "      <th>video</th>\n",
              "      <th>caption</th>\n",
              "    </tr>\n",
              "  </thead>\n",
              "  <tbody>\n",
              "    <tr>\n",
              "      <th>0</th>\n",
              "      <td>video3.webm</td>\n",
              "      <td>blonde-woman-is-massaged-tilt-down</td>\n",
              "    </tr>\n",
              "    <tr>\n",
              "      <th>1</th>\n",
              "      <td>video4.webm</td>\n",
              "      <td>roulette-table-spinning-with-ball-in-closeup-shot</td>\n",
              "    </tr>\n",
              "    <tr>\n",
              "      <th>2</th>\n",
              "      <td>video6.webm</td>\n",
              "      <td>khr-gangsters</td>\n",
              "    </tr>\n",
              "    <tr>\n",
              "      <th>3</th>\n",
              "      <td>video8.webm</td>\n",
              "      <td>medical-helicopter-hovers-at-airport</td>\n",
              "    </tr>\n",
              "    <tr>\n",
              "      <th>4</th>\n",
              "      <td>video10.webm</td>\n",
              "      <td>couple-relaxing-on-picnic-crane-shot</td>\n",
              "    </tr>\n",
              "  </tbody>\n",
              "</table>\n",
              "</div>"
            ],
            "text/plain": [
              "          video                                            caption\n",
              "0   video3.webm                 blonde-woman-is-massaged-tilt-down\n",
              "1   video4.webm  roulette-table-spinning-with-ball-in-closeup-shot\n",
              "2   video6.webm                                      khr-gangsters\n",
              "3   video8.webm               medical-helicopter-hovers-at-airport\n",
              "4  video10.webm               couple-relaxing-on-picnic-crane-shot"
            ]
          },
          "metadata": {
            "tags": []
          },
          "execution_count": 303
        }
      ]
    },
    {
      "cell_type": "code",
      "metadata": {
        "colab_type": "code",
        "id": "VnDVzaFWMBQY",
        "colab": {}
      },
      "source": [
        "captions = pd.concat([captions_train, captions_test],ignore_index=True)"
      ],
      "execution_count": 0,
      "outputs": []
    },
    {
      "cell_type": "code",
      "metadata": {
        "colab_type": "code",
        "id": "NY1Gz81xMNBr",
        "outputId": "2dd12006-5d8d-4ce1-ed1e-119df6ee879d",
        "colab": {
          "base_uri": "https://localhost:8080/",
          "height": 197
        }
      },
      "source": [
        "captions.head()"
      ],
      "execution_count": 0,
      "outputs": [
        {
          "output_type": "execute_result",
          "data": {
            "text/html": [
              "<div>\n",
              "<style scoped>\n",
              "    .dataframe tbody tr th:only-of-type {\n",
              "        vertical-align: middle;\n",
              "    }\n",
              "\n",
              "    .dataframe tbody tr th {\n",
              "        vertical-align: top;\n",
              "    }\n",
              "\n",
              "    .dataframe thead th {\n",
              "        text-align: right;\n",
              "    }\n",
              "</style>\n",
              "<table border=\"1\" class=\"dataframe\">\n",
              "  <thead>\n",
              "    <tr style=\"text-align: right;\">\n",
              "      <th></th>\n",
              "      <th>video</th>\n",
              "      <th>caption</th>\n",
              "    </tr>\n",
              "  </thead>\n",
              "  <tbody>\n",
              "    <tr>\n",
              "      <th>0</th>\n",
              "      <td>video3.webm</td>\n",
              "      <td>blonde-woman-is-massaged-tilt-down</td>\n",
              "    </tr>\n",
              "    <tr>\n",
              "      <th>1</th>\n",
              "      <td>video4.webm</td>\n",
              "      <td>roulette-table-spinning-with-ball-in-closeup-shot</td>\n",
              "    </tr>\n",
              "    <tr>\n",
              "      <th>2</th>\n",
              "      <td>video6.webm</td>\n",
              "      <td>khr-gangsters</td>\n",
              "    </tr>\n",
              "    <tr>\n",
              "      <th>3</th>\n",
              "      <td>video8.webm</td>\n",
              "      <td>medical-helicopter-hovers-at-airport</td>\n",
              "    </tr>\n",
              "    <tr>\n",
              "      <th>4</th>\n",
              "      <td>video10.webm</td>\n",
              "      <td>couple-relaxing-on-picnic-crane-shot</td>\n",
              "    </tr>\n",
              "  </tbody>\n",
              "</table>\n",
              "</div>"
            ],
            "text/plain": [
              "          video                                            caption\n",
              "0   video3.webm                 blonde-woman-is-massaged-tilt-down\n",
              "1   video4.webm  roulette-table-spinning-with-ball-in-closeup-shot\n",
              "2   video6.webm                                      khr-gangsters\n",
              "3   video8.webm               medical-helicopter-hovers-at-airport\n",
              "4  video10.webm               couple-relaxing-on-picnic-crane-shot"
            ]
          },
          "metadata": {
            "tags": []
          },
          "execution_count": 309
        }
      ]
    },
    {
      "cell_type": "code",
      "metadata": {
        "colab_type": "code",
        "id": "WOaOf522MQ8Y",
        "outputId": "266f1cb1-7f2d-492f-f224-63d735ad2902",
        "colab": {
          "base_uri": "https://localhost:8080/",
          "height": 197
        }
      },
      "source": [
        "captions.tail()"
      ],
      "execution_count": 0,
      "outputs": [
        {
          "output_type": "execute_result",
          "data": {
            "text/html": [
              "<div>\n",
              "<style scoped>\n",
              "    .dataframe tbody tr th:only-of-type {\n",
              "        vertical-align: middle;\n",
              "    }\n",
              "\n",
              "    .dataframe tbody tr th {\n",
              "        vertical-align: top;\n",
              "    }\n",
              "\n",
              "    .dataframe thead th {\n",
              "        text-align: right;\n",
              "    }\n",
              "</style>\n",
              "<table border=\"1\" class=\"dataframe\">\n",
              "  <thead>\n",
              "    <tr style=\"text-align: right;\">\n",
              "      <th></th>\n",
              "      <th>video</th>\n",
              "      <th>caption</th>\n",
              "    </tr>\n",
              "  </thead>\n",
              "  <tbody>\n",
              "    <tr>\n",
              "      <th>7995</th>\n",
              "      <td>video10004.webm</td>\n",
              "      <td>astronaut-in-outer-space-against-the-backdrop-...</td>\n",
              "    </tr>\n",
              "    <tr>\n",
              "      <th>7996</th>\n",
              "      <td>video10005.webm</td>\n",
              "      <td>young-women-lying-on-sunbed-and-applying-sun-c...</td>\n",
              "    </tr>\n",
              "    <tr>\n",
              "      <th>7997</th>\n",
              "      <td>video10006.webm</td>\n",
              "      <td>doctor-talking-to-patient-using-a-tablet-to-ex...</td>\n",
              "    </tr>\n",
              "    <tr>\n",
              "      <th>7998</th>\n",
              "      <td>video10007.webm</td>\n",
              "      <td>businessman-sitting-on-the-beach-on-inflatable...</td>\n",
              "    </tr>\n",
              "    <tr>\n",
              "      <th>7999</th>\n",
              "      <td>video10008.webm</td>\n",
              "      <td>woman-eating-ice-cream-and-sitting-in-the-stre...</td>\n",
              "    </tr>\n",
              "  </tbody>\n",
              "</table>\n",
              "</div>"
            ],
            "text/plain": [
              "                video                                            caption\n",
              "7995  video10004.webm  astronaut-in-outer-space-against-the-backdrop-...\n",
              "7996  video10005.webm  young-women-lying-on-sunbed-and-applying-sun-c...\n",
              "7997  video10006.webm  doctor-talking-to-patient-using-a-tablet-to-ex...\n",
              "7998  video10007.webm  businessman-sitting-on-the-beach-on-inflatable...\n",
              "7999  video10008.webm  woman-eating-ice-cream-and-sitting-in-the-stre..."
            ]
          },
          "metadata": {
            "tags": []
          },
          "execution_count": 310
        }
      ]
    },
    {
      "cell_type": "code",
      "metadata": {
        "colab_type": "code",
        "id": "SzB53tMeMWN2",
        "colab": {}
      },
      "source": [
        "captions_clean = []\n",
        "for i in range(0, 8000):\n",
        "    captions_tmp = re.sub('[\\W^0-9]', ' ', captions['caption'][i])\n",
        "    captions_tmp = captions_tmp.lower().split()\n",
        "    captions_tmp = [word for word in captions_tmp if not word in set(stopwords.words('english'))]\n",
        "    captions_clean.append(' '.join(captions_tmp))"
      ],
      "execution_count": 0,
      "outputs": []
    },
    {
      "cell_type": "code",
      "metadata": {
        "colab_type": "code",
        "id": "mKNo8hvEM09U",
        "outputId": "44254ee7-76cf-48ea-abac-777bf4f7762e",
        "colab": {
          "base_uri": "https://localhost:8080/",
          "height": 33
        }
      },
      "source": [
        "neg_words = {'mountains':0.10,'sunset':0.11,'trees':0.12,'mountain':0.13,'clouds':0.14,\n",
        "                     'river':0.15,'aerialof':0.16,'lake':0.17,'forest':0.18,'kenya':0.19,'landscape':0.20,\n",
        "                     'valley':0.21,'leaves':0.22,'sun':0.23}\n",
        "pos_words = {'woman':0.51,'eating':0.52,'putting':0.53,'lying':0.54,'girl':0.55,'selfie':0.56,'relaxing':0.57,\n",
        "                    'jellyfish':0.58,'cat':0.59,'super':0.60,'slow':0.61,\n",
        "                    'super':0.62,'american':0.63,'potrait':0.64,'pregnant':0.65,'couple':0.66}\n",
        "positive = []\n",
        "list1=[]\n",
        "negetive = []\n",
        "for i in range(0, 8000):\n",
        "    pw=0\n",
        "    nw=0\n",
        "    text = re.sub('[^a-zA-Z]', ' ', captions['caption'][i])\n",
        "    text = text.lower()\n",
        "    text = text.split()\n",
        "    text = [word for word in text if not word in set(stopwords.words('english'))]\n",
        "#     print(text)\n",
        "    for word in text:\n",
        "        if(word in set(pos_words.keys())):\n",
        "                pw = pw + pos_words[word]\n",
        "        if(word in set(neg_words.keys())):\n",
        "                nw = pw + neg_words[word]\n",
        "    positive.append(pw)\n",
        "    negetive.append(nw)\n",
        "\n",
        "words_df = pd.DataFrame(\n",
        "    {'pos_weights': positive,\n",
        "     'neg_weights': negetive\n",
        "    })\n",
        "words_df.shape"
      ],
      "execution_count": 0,
      "outputs": [
        {
          "output_type": "execute_result",
          "data": {
            "text/plain": [
              "(8000, 2)"
            ]
          },
          "metadata": {
            "tags": []
          },
          "execution_count": 317
        }
      ]
    },
    {
      "cell_type": "code",
      "metadata": {
        "colab_type": "code",
        "id": "RGbqz4b3M75j",
        "colab": {}
      },
      "source": [
        "df = captions_clean\n",
        "counts = Counter()\n",
        "for i, cap in enumerate(df):\n",
        "    counts.update(cap.split())\n",
        "vect = TfidfVectorizer(ngram_range = (1,4)).fit(df)\n",
        "vect_transformed_X_train = vect.transform(df)\n",
        "len_token = len(vect.get_feature_names())\n",
        "len_token = len(counts)\n",
        "len_token1=len_token+2\n",
        "tokenizer = Tokenizer(num_words=len_token)\n",
        "tokenizer.fit_on_texts(list(vect.get_feature_names()))\n",
        "features=tokenizer.texts_to_matrix(list(df),mode='binary')"
      ],
      "execution_count": 0,
      "outputs": []
    },
    {
      "cell_type": "code",
      "metadata": {
        "colab_type": "code",
        "id": "Ak6QGfIeNJLq",
        "outputId": "847981b2-5ca7-453d-ecbd-5a0cd80d88bb",
        "colab": {
          "base_uri": "https://localhost:8080/",
          "height": 33
        }
      },
      "source": [
        "len_token"
      ],
      "execution_count": 0,
      "outputs": [
        {
          "output_type": "execute_result",
          "data": {
            "text/plain": [
              "5773"
            ]
          },
          "metadata": {
            "tags": []
          },
          "execution_count": 319
        }
      ]
    },
    {
      "cell_type": "code",
      "metadata": {
        "colab_type": "code",
        "id": "H6whZPM3NABg",
        "colab": {}
      },
      "source": [
        "caparr = np.concatenate((features, words_df), axis=1)"
      ],
      "execution_count": 0,
      "outputs": []
    },
    {
      "cell_type": "code",
      "metadata": {
        "colab_type": "code",
        "id": "1iE7azTgNvEQ",
        "outputId": "3706bd8b-323c-4773-c22b-68d0f33f4f66",
        "colab": {
          "base_uri": "https://localhost:8080/",
          "height": 33
        }
      },
      "source": [
        "caparr.shape"
      ],
      "execution_count": 0,
      "outputs": [
        {
          "output_type": "execute_result",
          "data": {
            "text/plain": [
              "(8000, 5775)"
            ]
          },
          "metadata": {
            "tags": []
          },
          "execution_count": 321
        }
      ]
    },
    {
      "cell_type": "markdown",
      "metadata": {
        "colab_type": "text",
        "id": "6nasiux6j3ek"
      },
      "source": [
        "Using first 6000 captions for Training and remaining 2000 for testing "
      ]
    },
    {
      "cell_type": "code",
      "metadata": {
        "colab_type": "code",
        "id": "CVq9L9FyNyNK",
        "colab": {}
      },
      "source": [
        "caparr_train = caparr[:6000]"
      ],
      "execution_count": 0,
      "outputs": []
    },
    {
      "cell_type": "code",
      "metadata": {
        "colab_type": "code",
        "id": "xlDUm4SIOR8J",
        "colab": {}
      },
      "source": [
        "caparr_test = caparr[6000:]"
      ],
      "execution_count": 0,
      "outputs": []
    },
    {
      "cell_type": "code",
      "metadata": {
        "colab_type": "code",
        "id": "vs6biSRSOXay",
        "outputId": "6ec82bc3-cec3-43a0-a2f5-3b832f45dda6",
        "colab": {
          "base_uri": "https://localhost:8080/",
          "height": 33
        }
      },
      "source": [
        "caparr_train.shape"
      ],
      "execution_count": 0,
      "outputs": [
        {
          "output_type": "execute_result",
          "data": {
            "text/plain": [
              "(6000, 5775)"
            ]
          },
          "metadata": {
            "tags": []
          },
          "execution_count": 324
        }
      ]
    },
    {
      "cell_type": "code",
      "metadata": {
        "colab_type": "code",
        "id": "PKLjEHFNOebd",
        "outputId": "cb37e81e-61b8-487c-cfc8-f5a6d8723aee",
        "colab": {
          "base_uri": "https://localhost:8080/",
          "height": 33
        }
      },
      "source": [
        "caparr_test.shape"
      ],
      "execution_count": 0,
      "outputs": [
        {
          "output_type": "execute_result",
          "data": {
            "text/plain": [
              "(2000, 5775)"
            ]
          },
          "metadata": {
            "tags": []
          },
          "execution_count": 327
        }
      ]
    },
    {
      "cell_type": "code",
      "metadata": {
        "colab_type": "code",
        "id": "CqcVXKwLOnRO",
        "colab": {}
      },
      "source": [
        "def Get_score(Y_pred,Y_true):   \n",
        "    '''Calculate the Spearmann\"s correlation coefficient'''\n",
        "    Y_pred = np.squeeze(Y_pred)\n",
        "    Y_true = np.squeeze(Y_true)\n",
        "    if Y_pred.shape != Y_true.shape:\n",
        "        print('Input shapes don\\'t match!')\n",
        "    else:\n",
        "        if len(Y_pred.shape) == 1:\n",
        "            Res = pd.DataFrame({'Y_true':Y_true,'Y_pred':Y_pred})\n",
        "            score_mat = Res[['Y_true','Y_pred']].corr(method='spearman',min_periods=1)\n",
        "            print('The Spearman\\'s correlation coefficient is: %.3f' % score_mat.iloc[1][0])\n",
        "        else:\n",
        "            for ii in range(Y_pred.shape[1]):\n",
        "                Get_score(Y_pred[:,ii],Y_true[:,ii])"
      ],
      "execution_count": 0,
      "outputs": []
    },
    {
      "cell_type": "code",
      "metadata": {
        "colab_type": "code",
        "id": "EV5pmG2MO1Hz",
        "colab": {}
      },
      "source": [
        "caption_data = caparr_train\n",
        "gt = ground_truth[['short-term_memorability','long-term_memorability']].values"
      ],
      "execution_count": 0,
      "outputs": []
    },
    {
      "cell_type": "code",
      "metadata": {
        "colab_type": "code",
        "id": "0ooOmc1zOt2n",
        "colab": {}
      },
      "source": [
        "cap_train, cap_test, gt_train, gt_test = train_test_split(caption_data, gt, test_size = 0.20,random_state=42)"
      ],
      "execution_count": 0,
      "outputs": []
    },
    {
      "cell_type": "markdown",
      "metadata": {
        "colab_type": "text",
        "id": "JDkVaN9HPGIW"
      },
      "source": [
        "### RNN"
      ]
    },
    {
      "cell_type": "code",
      "metadata": {
        "colab_type": "code",
        "id": "V6HkxGmyPIs2",
        "outputId": "1dff35fb-671a-4996-eeac-14e15e6995c4",
        "colab": {
          "base_uri": "https://localhost:8080/",
          "height": 700
        }
      },
      "source": [
        "model = Sequential()\n",
        "model.add(layers.Dense(200,activation='softmax',kernel_regularizer=None,input_shape=(len_token1,)))\n",
        "model.add(layers.Dropout(0.1))\n",
        "model.add(layers.Dense(2,activation='relu'))\n",
        "      \n",
        "# compile the model \n",
        "model.compile(optimizer='Adamax',loss='mean_absolute_error',metrics=['cosine_proximity','accuracy','mae'])\n",
        "\n",
        "# training the model \n",
        "history = model.fit(cap_train,gt_train,epochs=20,validation_data=(cap_test,gt_test))"
      ],
      "execution_count": 0,
      "outputs": [
        {
          "output_type": "stream",
          "text": [
            "Train on 4800 samples, validate on 1200 samples\n",
            "Epoch 1/20\n",
            "4800/4800 [==============================] - 2s 512us/step - loss: 0.5288 - cosine_proximity: 0.9823 - accuracy: 0.2996 - mae: 0.5288 - val_loss: 0.2455 - val_cosine_proximity: 0.9935 - val_accuracy: 0.2950 - val_mae: 0.2455\n",
            "Epoch 2/20\n",
            "4800/4800 [==============================] - 2s 467us/step - loss: 0.1214 - cosine_proximity: 0.9951 - accuracy: 0.6973 - mae: 0.1214 - val_loss: 0.0880 - val_cosine_proximity: 0.9951 - val_accuracy: 0.7100 - val_mae: 0.0880\n",
            "Epoch 3/20\n",
            "4800/4800 [==============================] - 2s 480us/step - loss: 0.0880 - cosine_proximity: 0.9954 - accuracy: 0.7035 - mae: 0.0880 - val_loss: 0.0878 - val_cosine_proximity: 0.9951 - val_accuracy: 0.7100 - val_mae: 0.0878\n",
            "Epoch 4/20\n",
            "4800/4800 [==============================] - 2s 479us/step - loss: 0.0874 - cosine_proximity: 0.9954 - accuracy: 0.7035 - mae: 0.0874 - val_loss: 0.0875 - val_cosine_proximity: 0.9952 - val_accuracy: 0.7100 - val_mae: 0.0875\n",
            "Epoch 5/20\n",
            "4800/4800 [==============================] - 2s 477us/step - loss: 0.0870 - cosine_proximity: 0.9954 - accuracy: 0.7035 - mae: 0.0870 - val_loss: 0.0874 - val_cosine_proximity: 0.9952 - val_accuracy: 0.7100 - val_mae: 0.0874\n",
            "Epoch 6/20\n",
            "4800/4800 [==============================] - 2s 481us/step - loss: 0.0867 - cosine_proximity: 0.9954 - accuracy: 0.7035 - mae: 0.0867 - val_loss: 0.0871 - val_cosine_proximity: 0.9951 - val_accuracy: 0.7100 - val_mae: 0.0871\n",
            "Epoch 7/20\n",
            "4800/4800 [==============================] - 3s 552us/step - loss: 0.0861 - cosine_proximity: 0.9954 - accuracy: 0.7035 - mae: 0.0861 - val_loss: 0.0870 - val_cosine_proximity: 0.9952 - val_accuracy: 0.7100 - val_mae: 0.0870\n",
            "Epoch 8/20\n",
            "4800/4800 [==============================] - 2s 518us/step - loss: 0.0856 - cosine_proximity: 0.9955 - accuracy: 0.7035 - mae: 0.0856 - val_loss: 0.0868 - val_cosine_proximity: 0.9952 - val_accuracy: 0.7100 - val_mae: 0.0868\n",
            "Epoch 9/20\n",
            "4800/4800 [==============================] - 2s 482us/step - loss: 0.0851 - cosine_proximity: 0.9955 - accuracy: 0.7035 - mae: 0.0851 - val_loss: 0.0864 - val_cosine_proximity: 0.9951 - val_accuracy: 0.7100 - val_mae: 0.0864\n",
            "Epoch 10/20\n",
            "4800/4800 [==============================] - 2s 482us/step - loss: 0.0843 - cosine_proximity: 0.9955 - accuracy: 0.7035 - mae: 0.0843 - val_loss: 0.0862 - val_cosine_proximity: 0.9952 - val_accuracy: 0.7100 - val_mae: 0.0862\n",
            "Epoch 11/20\n",
            "4800/4800 [==============================] - 2s 487us/step - loss: 0.0836 - cosine_proximity: 0.9955 - accuracy: 0.7035 - mae: 0.0836 - val_loss: 0.0859 - val_cosine_proximity: 0.9952 - val_accuracy: 0.7100 - val_mae: 0.0859\n",
            "Epoch 12/20\n",
            "4800/4800 [==============================] - 2s 482us/step - loss: 0.0829 - cosine_proximity: 0.9955 - accuracy: 0.7035 - mae: 0.0829 - val_loss: 0.0859 - val_cosine_proximity: 0.9952 - val_accuracy: 0.7100 - val_mae: 0.0859\n",
            "Epoch 13/20\n",
            "4800/4800 [==============================] - 2s 491us/step - loss: 0.0819 - cosine_proximity: 0.9955 - accuracy: 0.7038 - mae: 0.0819 - val_loss: 0.0857 - val_cosine_proximity: 0.9952 - val_accuracy: 0.7100 - val_mae: 0.0857\n",
            "Epoch 14/20\n",
            "4800/4800 [==============================] - 2s 473us/step - loss: 0.0814 - cosine_proximity: 0.9956 - accuracy: 0.7040 - mae: 0.0814 - val_loss: 0.0855 - val_cosine_proximity: 0.9951 - val_accuracy: 0.7100 - val_mae: 0.0855\n",
            "Epoch 15/20\n",
            "4800/4800 [==============================] - 2s 482us/step - loss: 0.0806 - cosine_proximity: 0.9956 - accuracy: 0.7040 - mae: 0.0806 - val_loss: 0.0856 - val_cosine_proximity: 0.9952 - val_accuracy: 0.7100 - val_mae: 0.0856\n",
            "Epoch 16/20\n",
            "4800/4800 [==============================] - 3s 572us/step - loss: 0.0797 - cosine_proximity: 0.9956 - accuracy: 0.7044 - mae: 0.0797 - val_loss: 0.0855 - val_cosine_proximity: 0.9951 - val_accuracy: 0.7100 - val_mae: 0.0855\n",
            "Epoch 17/20\n",
            "4800/4800 [==============================] - 2s 485us/step - loss: 0.0790 - cosine_proximity: 0.9957 - accuracy: 0.7044 - mae: 0.0790 - val_loss: 0.0855 - val_cosine_proximity: 0.9951 - val_accuracy: 0.7092 - val_mae: 0.0855\n",
            "Epoch 18/20\n",
            "4800/4800 [==============================] - 2s 473us/step - loss: 0.0783 - cosine_proximity: 0.9957 - accuracy: 0.7058 - mae: 0.0783 - val_loss: 0.0856 - val_cosine_proximity: 0.9951 - val_accuracy: 0.7100 - val_mae: 0.0856\n",
            "Epoch 19/20\n",
            "4800/4800 [==============================] - 2s 484us/step - loss: 0.0775 - cosine_proximity: 0.9957 - accuracy: 0.7065 - mae: 0.0775 - val_loss: 0.0855 - val_cosine_proximity: 0.9951 - val_accuracy: 0.7092 - val_mae: 0.0855\n",
            "Epoch 20/20\n",
            "4800/4800 [==============================] - 2s 474us/step - loss: 0.0767 - cosine_proximity: 0.9957 - accuracy: 0.7067 - mae: 0.0767 - val_loss: 0.0856 - val_cosine_proximity: 0.9950 - val_accuracy: 0.7100 - val_mae: 0.0856\n"
          ],
          "name": "stdout"
        }
      ]
    },
    {
      "cell_type": "code",
      "metadata": {
        "colab_type": "code",
        "id": "vrmiaFKPPYFs",
        "outputId": "dc1d0a9f-5554-48a1-ccdd-7208db0093c0",
        "colab": {
          "base_uri": "https://localhost:8080/",
          "height": 133
        }
      },
      "source": [
        "predictions_caption_RNN = model.predict(cap_test)\n",
        "predictions_caption_RNN"
      ],
      "execution_count": 0,
      "outputs": [
        {
          "output_type": "execute_result",
          "data": {
            "text/plain": [
              "array([[0.8794448 , 0.7913675 ],\n",
              "       [0.85636014, 0.8091594 ],\n",
              "       [0.8685889 , 0.8177536 ],\n",
              "       ...,\n",
              "       [0.8708757 , 0.82016   ],\n",
              "       [0.8602319 , 0.8009609 ],\n",
              "       [0.8648951 , 0.77805007]], dtype=float32)"
            ]
          },
          "metadata": {
            "tags": []
          },
          "execution_count": 333
        }
      ]
    },
    {
      "cell_type": "code",
      "metadata": {
        "colab_type": "code",
        "id": "WmCgjPqhPbKX",
        "outputId": "eaa7753c-445d-49dd-8cb8-e0c6eeac7ee0",
        "colab": {
          "base_uri": "https://localhost:8080/",
          "height": 50
        }
      },
      "source": [
        "Get_score(predictions_caption_RNN, gt_test)"
      ],
      "execution_count": 0,
      "outputs": [
        {
          "output_type": "stream",
          "text": [
            "The Spearman's correlation coefficient is: 0.442\n",
            "The Spearman's correlation coefficient is: 0.174\n"
          ],
          "name": "stdout"
        }
      ]
    },
    {
      "cell_type": "markdown",
      "metadata": {
        "colab_type": "text",
        "id": "EhWTXLGYP_Kf"
      },
      "source": [
        "#### Prediction on testset data"
      ]
    },
    {
      "cell_type": "code",
      "metadata": {
        "colab_type": "code",
        "id": "AW6wQMwRS2BC",
        "colab": {}
      },
      "source": [
        "cap_testing = caparr_test"
      ],
      "execution_count": 0,
      "outputs": []
    },
    {
      "cell_type": "code",
      "metadata": {
        "colab_type": "code",
        "id": "KchZZSH_TNwx",
        "outputId": "64c69256-8515-4d4c-8866-2b168eaae2a9",
        "colab": {
          "base_uri": "https://localhost:8080/",
          "height": 33
        }
      },
      "source": [
        "cap_testing.shape"
      ],
      "execution_count": 0,
      "outputs": [
        {
          "output_type": "execute_result",
          "data": {
            "text/plain": [
              "(2000, 5775)"
            ]
          },
          "metadata": {
            "tags": []
          },
          "execution_count": 336
        }
      ]
    },
    {
      "cell_type": "code",
      "metadata": {
        "colab_type": "code",
        "id": "aSHdxp8iTREE",
        "colab": {}
      },
      "source": [
        "test_set_prediction_RNN = model.predict(cap_testing)"
      ],
      "execution_count": 0,
      "outputs": []
    },
    {
      "cell_type": "code",
      "metadata": {
        "colab_type": "code",
        "id": "L7AYRGNzTnj5",
        "outputId": "7d43576c-9c74-480f-afa3-1d5586cc5e0e",
        "colab": {
          "base_uri": "https://localhost:8080/",
          "height": 133
        }
      },
      "source": [
        "test_set_prediction_RNN"
      ],
      "execution_count": 0,
      "outputs": [
        {
          "output_type": "execute_result",
          "data": {
            "text/plain": [
              "array([[0.8306441 , 0.74598336],\n",
              "       [0.74059033, 0.7206248 ],\n",
              "       [0.9264922 , 0.8527399 ],\n",
              "       ...,\n",
              "       [0.87468505, 0.8063689 ],\n",
              "       [0.89148927, 0.8431802 ],\n",
              "       [0.92039406, 0.85536194]], dtype=float32)"
            ]
          },
          "metadata": {
            "tags": []
          },
          "execution_count": 339
        }
      ]
    },
    {
      "cell_type": "markdown",
      "metadata": {
        "colab_type": "text",
        "id": "Ycw3ZgdwTrBq"
      },
      "source": [
        "### SVR"
      ]
    },
    {
      "cell_type": "code",
      "metadata": {
        "colab_type": "code",
        "id": "kjSPtZUZTvsd",
        "colab": {}
      },
      "source": [
        "gt_short = ground_truth[['short-term_memorability']].values\n",
        "cap_train, cap_test, gt_train_short, gt_test_short = train_test_split(caption_data,gt_short, test_size=0.2, random_state=42)"
      ],
      "execution_count": 0,
      "outputs": []
    },
    {
      "cell_type": "code",
      "metadata": {
        "colab_type": "code",
        "id": "n-ZxI9A5UJPz",
        "outputId": "fbacb0d1-687e-4028-90ef-70748d9f9464",
        "colab": {
          "base_uri": "https://localhost:8080/",
          "height": 50
        }
      },
      "source": [
        "from sklearn.svm import SVR\n",
        "model_short = SVR(C=100).fit(cap_train,gt_train_short)"
      ],
      "execution_count": 0,
      "outputs": [
        {
          "output_type": "stream",
          "text": [
            "/usr/local/lib/python3.6/dist-packages/sklearn/utils/validation.py:760: DataConversionWarning: A column-vector y was passed when a 1d array was expected. Please change the shape of y to (n_samples, ), for example using ravel().\n",
            "  y = column_or_1d(y, warn=True)\n"
          ],
          "name": "stderr"
        }
      ]
    },
    {
      "cell_type": "code",
      "metadata": {
        "colab_type": "code",
        "id": "foLfg7NwUMUn",
        "outputId": "f52cae20-52d1-4e57-c88c-b7383e56bba3",
        "colab": {
          "base_uri": "https://localhost:8080/",
          "height": 33
        }
      },
      "source": [
        "predictions_caption_svm_short = model_short.predict(cap_test)\n",
        "Get_score(predictions_caption_svm_short,gt_test_short)"
      ],
      "execution_count": 0,
      "outputs": [
        {
          "output_type": "stream",
          "text": [
            "The Spearman's correlation coefficient is: 0.427\n"
          ],
          "name": "stdout"
        }
      ]
    },
    {
      "cell_type": "code",
      "metadata": {
        "colab_type": "code",
        "id": "lvOSSE4fUO0l",
        "outputId": "1c84fadf-1143-4cea-d9fd-cf1a03705afe",
        "colab": {
          "base_uri": "https://localhost:8080/",
          "height": 50
        }
      },
      "source": [
        "gt_long = ground_truth[['long-term_memorability']].values\n",
        "cap_train, cap_test, gt_train_long, gt_test_long = train_test_split(caption_data,gt_long, test_size=0.2, random_state=42)\n",
        "from sklearn.svm import SVR\n",
        "model_long = SVR(C=100).fit(cap_train,gt_train_long)"
      ],
      "execution_count": 0,
      "outputs": [
        {
          "output_type": "stream",
          "text": [
            "/usr/local/lib/python3.6/dist-packages/sklearn/utils/validation.py:760: DataConversionWarning: A column-vector y was passed when a 1d array was expected. Please change the shape of y to (n_samples, ), for example using ravel().\n",
            "  y = column_or_1d(y, warn=True)\n"
          ],
          "name": "stderr"
        }
      ]
    },
    {
      "cell_type": "code",
      "metadata": {
        "colab_type": "code",
        "id": "yrxYLRNSURGi",
        "outputId": "f77711ff-0149-4583-808e-be5073fe9c90",
        "colab": {
          "base_uri": "https://localhost:8080/",
          "height": 33
        }
      },
      "source": [
        "predictions_caption_svm_long = model_long.predict(cap_test)\n",
        "Get_score(predictions_caption_svm_long,gt_test_long)"
      ],
      "execution_count": 0,
      "outputs": [
        {
          "output_type": "stream",
          "text": [
            "The Spearman's correlation coefficient is: 0.179\n"
          ],
          "name": "stdout"
        }
      ]
    },
    {
      "cell_type": "code",
      "metadata": {
        "colab_type": "code",
        "id": "TOvuM-lvY2rj",
        "colab": {}
      },
      "source": [
        "prediction_caption_SVR=np.column_stack((predictions_caption_svm_short,predictions_caption_svm_long))"
      ],
      "execution_count": 0,
      "outputs": []
    },
    {
      "cell_type": "code",
      "metadata": {
        "colab_type": "code",
        "id": "MT-E2sp9ZRs0",
        "outputId": "a7d99816-6c8f-410c-ed16-76c2690248f1",
        "colab": {
          "base_uri": "https://localhost:8080/",
          "height": 50
        }
      },
      "source": [
        "Get_score(prediction_caption_SVR,gt_test)"
      ],
      "execution_count": 0,
      "outputs": [
        {
          "output_type": "stream",
          "text": [
            "The Spearman's correlation coefficient is: 0.427\n",
            "The Spearman's correlation coefficient is: 0.179\n"
          ],
          "name": "stdout"
        }
      ]
    },
    {
      "cell_type": "markdown",
      "metadata": {
        "colab_type": "text",
        "id": "cFuDcSIMUT9a"
      },
      "source": [
        "#### Prediction on Test data"
      ]
    },
    {
      "cell_type": "code",
      "metadata": {
        "colab_type": "code",
        "id": "tDK17DUUXt4F",
        "colab": {}
      },
      "source": [
        "test_set_prediction_SVR_short = model_short.predict(cap_testing)"
      ],
      "execution_count": 0,
      "outputs": []
    },
    {
      "cell_type": "code",
      "metadata": {
        "colab_type": "code",
        "id": "8jPOfRdLZW1h",
        "colab": {}
      },
      "source": [
        "test_set_prediction_SVR_long = model_long.predict(cap_testing)"
      ],
      "execution_count": 0,
      "outputs": []
    },
    {
      "cell_type": "code",
      "metadata": {
        "colab_type": "code",
        "id": "O0oICZ-WYRsl",
        "colab": {}
      },
      "source": [
        "test_set_prediction_SVR = np.column_stack((test_set_prediction_SVR_short,test_set_prediction_SVR_long))"
      ],
      "execution_count": 0,
      "outputs": []
    },
    {
      "cell_type": "code",
      "metadata": {
        "colab_type": "code",
        "id": "pFr29bVOZr9O",
        "outputId": "83290631-f2eb-43fb-bb38-f7e4ab5a190b",
        "colab": {
          "base_uri": "https://localhost:8080/",
          "height": 133
        }
      },
      "source": [
        "test_set_prediction_SVR"
      ],
      "execution_count": 0,
      "outputs": [
        {
          "output_type": "execute_result",
          "data": {
            "text/plain": [
              "array([[0.82129788, 0.71540641],\n",
              "       [0.81503072, 0.78536855],\n",
              "       [0.8697876 , 0.81172157],\n",
              "       ...,\n",
              "       [0.87694846, 0.75610471],\n",
              "       [0.86746851, 0.85490839],\n",
              "       [0.87003825, 0.77606437]])"
            ]
          },
          "metadata": {
            "tags": []
          },
          "execution_count": 357
        }
      ]
    },
    {
      "cell_type": "markdown",
      "metadata": {
        "colab_type": "text",
        "id": "sEwga4lQZwbI"
      },
      "source": [
        "### Random Forest"
      ]
    },
    {
      "cell_type": "code",
      "metadata": {
        "colab_type": "code",
        "id": "WbIWzEGvZ066",
        "outputId": "9c243792-48a6-4038-af68-c774f0ebe29f",
        "colab": {
          "base_uri": "https://localhost:8080/",
          "height": 133
        }
      },
      "source": [
        "from sklearn.ensemble import RandomForestRegressor\n",
        "RFregressor = RandomForestRegressor(n_estimators = 150)\n",
        "RFregressor.fit(cap_train, gt_train)"
      ],
      "execution_count": 0,
      "outputs": [
        {
          "output_type": "execute_result",
          "data": {
            "text/plain": [
              "RandomForestRegressor(bootstrap=True, ccp_alpha=0.0, criterion='mse',\n",
              "                      max_depth=None, max_features='auto', max_leaf_nodes=None,\n",
              "                      max_samples=None, min_impurity_decrease=0.0,\n",
              "                      min_impurity_split=None, min_samples_leaf=1,\n",
              "                      min_samples_split=2, min_weight_fraction_leaf=0.0,\n",
              "                      n_estimators=150, n_jobs=None, oob_score=False,\n",
              "                      random_state=None, verbose=0, warm_start=False)"
            ]
          },
          "metadata": {
            "tags": []
          },
          "execution_count": 358
        }
      ]
    },
    {
      "cell_type": "code",
      "metadata": {
        "colab_type": "code",
        "id": "JL7gH2R9Z1ws",
        "outputId": "d01ed306-2e1e-4fd3-f972-6e6612ad5111",
        "colab": {
          "base_uri": "https://localhost:8080/",
          "height": 50
        }
      },
      "source": [
        "predictions_caption_RF=RFregressor.predict(cap_test)\n",
        "Get_score(predictions_caption_RF,gt_test)"
      ],
      "execution_count": 0,
      "outputs": [
        {
          "output_type": "stream",
          "text": [
            "The Spearman's correlation coefficient is: 0.419\n",
            "The Spearman's correlation coefficient is: 0.171\n"
          ],
          "name": "stdout"
        }
      ]
    },
    {
      "cell_type": "markdown",
      "metadata": {
        "colab_type": "text",
        "id": "E12FWzZJaDxd"
      },
      "source": [
        "#### Prediction on Test Data "
      ]
    },
    {
      "cell_type": "code",
      "metadata": {
        "colab_type": "code",
        "id": "cMPP3VtVaGfR",
        "colab": {}
      },
      "source": [
        "test_set_prediction_RF=RFregressor.predict(cap_testing)"
      ],
      "execution_count": 0,
      "outputs": []
    },
    {
      "cell_type": "code",
      "metadata": {
        "colab_type": "code",
        "id": "nbgj1UZQfKjn",
        "outputId": "2f983b3f-45aa-41f4-f3f0-13e53b15b13f",
        "colab": {
          "base_uri": "https://localhost:8080/",
          "height": 133
        }
      },
      "source": [
        "test_set_prediction_RF"
      ],
      "execution_count": 0,
      "outputs": [
        {
          "output_type": "execute_result",
          "data": {
            "text/plain": [
              "array([[0.88916099, 0.73031111],\n",
              "       [0.76617745, 0.77332945],\n",
              "       [0.90467979, 0.81487702],\n",
              "       ...,\n",
              "       [0.88826667, 0.81107333],\n",
              "       [0.91619533, 0.85302   ],\n",
              "       [0.90700222, 0.79932   ]])"
            ]
          },
          "metadata": {
            "tags": []
          },
          "execution_count": 361
        }
      ]
    },
    {
      "cell_type": "markdown",
      "metadata": {
        "colab_type": "text",
        "id": "QwpScDEcfOfh"
      },
      "source": [
        "#### Ensembled approach (caption)"
      ]
    },
    {
      "cell_type": "code",
      "metadata": {
        "colab_type": "code",
        "id": "kBc_sDC-kr6E",
        "colab": {}
      },
      "source": [
        "Weighted average ensemble approach to increase the accuracy [60% of RNN , 30% of SVR and 10% of Random forest model]"
      ],
      "execution_count": 0,
      "outputs": []
    },
    {
      "cell_type": "code",
      "metadata": {
        "colab_type": "code",
        "id": "xVS_QT0vfWqN",
        "colab": {}
      },
      "source": [
        "prediction_final = 0.60*predictions_caption_RNN + 0.30*prediction_caption_SVR+ 0.10*predictions_caption_RF"
      ],
      "execution_count": 0,
      "outputs": []
    },
    {
      "cell_type": "code",
      "metadata": {
        "colab_type": "code",
        "id": "bD14vKNafw0z",
        "outputId": "fcd8f0ab-5267-4f17-bf33-c03e2cacff80",
        "colab": {
          "base_uri": "https://localhost:8080/",
          "height": 133
        }
      },
      "source": [
        "prediction_final"
      ],
      "execution_count": 0,
      "outputs": [
        {
          "output_type": "execute_result",
          "data": {
            "text/plain": [
              "array([[0.86777181, 0.78123573],\n",
              "       [0.85426839, 0.79169124],\n",
              "       [0.86604982, 0.82380032],\n",
              "       ...,\n",
              "       [0.86541347, 0.82203646],\n",
              "       [0.86447995, 0.79700418],\n",
              "       [0.85823015, 0.77710893]])"
            ]
          },
          "metadata": {
            "tags": []
          },
          "execution_count": 368
        }
      ]
    },
    {
      "cell_type": "markdown",
      "metadata": {
        "id": "5as0rT93wZz2",
        "colab_type": "text"
      },
      "source": [
        "### On combining the models Spearman's correlation for short term memory is 0.464 and long term memory is 0.200"
      ]
    },
    {
      "cell_type": "code",
      "metadata": {
        "colab_type": "code",
        "id": "UI1TnKqFf2YV",
        "outputId": "68f62da1-7e6c-4d48-aff2-2e689d0369fd",
        "scrolled": true,
        "colab": {
          "base_uri": "https://localhost:8080/",
          "height": 50
        }
      },
      "source": [
        "Get_score(prediction_final,gt_test)"
      ],
      "execution_count": 0,
      "outputs": [
        {
          "output_type": "stream",
          "text": [
            "The Spearman's correlation coefficient is: 0.464\n",
            "The Spearman's correlation coefficient is: 0.200\n"
          ],
          "name": "stdout"
        }
      ]
    },
    {
      "cell_type": "markdown",
      "metadata": {
        "colab_type": "text",
        "id": "05yewrDdf4Jy"
      },
      "source": [
        "#### Prediction on test data (ensembled approach -weighted average)"
      ]
    },
    {
      "cell_type": "code",
      "metadata": {
        "colab_type": "code",
        "id": "rkeYuRuPgGwM",
        "colab": {}
      },
      "source": [
        "test_prediction_final = 0.60*test_set_prediction_RNN + 0.30*test_set_prediction_SVR + 0.10*test_set_prediction_RF"
      ],
      "execution_count": 0,
      "outputs": []
    },
    {
      "cell_type": "code",
      "metadata": {
        "colab_type": "code",
        "collapsed": true,
        "id": "SbtJU6vlgnFX",
        "outputId": "e0c1d929-4013-4d54-b011-4b3683d3839b",
        "colab": {
          "base_uri": "https://localhost:8080/",
          "height": 133
        }
      },
      "source": [
        "test_prediction_final"
      ],
      "execution_count": 0,
      "outputs": [
        {
          "output_type": "execute_result",
          "data": {
            "text/plain": [
              "array([[0.83369193, 0.73524306],\n",
              "       [0.76548117, 0.74531841],\n",
              "       [0.90729959, 0.83664812],\n",
              "       ...,\n",
              "       [0.87672223, 0.79176011],\n",
              "       [0.88675366, 0.84768265],\n",
              "       [0.90394814, 0.82596852]])"
            ]
          },
          "metadata": {
            "tags": []
          },
          "execution_count": 370
        }
      ]
    },
    {
      "cell_type": "code",
      "metadata": {
        "colab_type": "code",
        "id": "X0d3T8XGg0TS",
        "colab": {}
      },
      "source": [
        "os.chdir(\"/content/drive/My Drive/CA684_Assignment/Test-set\")"
      ],
      "execution_count": 0,
      "outputs": []
    },
    {
      "cell_type": "code",
      "metadata": {
        "colab_type": "code",
        "id": "eKj37zMIg9ck",
        "outputId": "f75656ce-7833-4a6d-f6c0-1c6b9061f740",
        "colab": {
          "base_uri": "https://localhost:8080/",
          "height": 197
        }
      },
      "source": [
        "test_ground_truth = pd.read_csv(\"Ground-truth_test/ground_truth_template.csv\")\n",
        "test_ground_truth.head()"
      ],
      "execution_count": 0,
      "outputs": [
        {
          "output_type": "execute_result",
          "data": {
            "text/html": [
              "<div>\n",
              "<style scoped>\n",
              "    .dataframe tbody tr th:only-of-type {\n",
              "        vertical-align: middle;\n",
              "    }\n",
              "\n",
              "    .dataframe tbody tr th {\n",
              "        vertical-align: top;\n",
              "    }\n",
              "\n",
              "    .dataframe thead th {\n",
              "        text-align: right;\n",
              "    }\n",
              "</style>\n",
              "<table border=\"1\" class=\"dataframe\">\n",
              "  <thead>\n",
              "    <tr style=\"text-align: right;\">\n",
              "      <th></th>\n",
              "      <th>video</th>\n",
              "      <th>short-term_memorability</th>\n",
              "      <th>nb_short-term_annotations</th>\n",
              "      <th>long-term_memorability</th>\n",
              "      <th>nb_long-term_annotations</th>\n",
              "    </tr>\n",
              "  </thead>\n",
              "  <tbody>\n",
              "    <tr>\n",
              "      <th>0</th>\n",
              "      <td>7494</td>\n",
              "      <td>NaN</td>\n",
              "      <td>33</td>\n",
              "      <td>NaN</td>\n",
              "      <td>12</td>\n",
              "    </tr>\n",
              "    <tr>\n",
              "      <th>1</th>\n",
              "      <td>7495</td>\n",
              "      <td>NaN</td>\n",
              "      <td>34</td>\n",
              "      <td>NaN</td>\n",
              "      <td>10</td>\n",
              "    </tr>\n",
              "    <tr>\n",
              "      <th>2</th>\n",
              "      <td>7496</td>\n",
              "      <td>NaN</td>\n",
              "      <td>32</td>\n",
              "      <td>NaN</td>\n",
              "      <td>13</td>\n",
              "    </tr>\n",
              "    <tr>\n",
              "      <th>3</th>\n",
              "      <td>7497</td>\n",
              "      <td>NaN</td>\n",
              "      <td>33</td>\n",
              "      <td>NaN</td>\n",
              "      <td>10</td>\n",
              "    </tr>\n",
              "    <tr>\n",
              "      <th>4</th>\n",
              "      <td>7498</td>\n",
              "      <td>NaN</td>\n",
              "      <td>33</td>\n",
              "      <td>NaN</td>\n",
              "      <td>10</td>\n",
              "    </tr>\n",
              "  </tbody>\n",
              "</table>\n",
              "</div>"
            ],
            "text/plain": [
              "   video  ...  nb_long-term_annotations\n",
              "0   7494  ...                        12\n",
              "1   7495  ...                        10\n",
              "2   7496  ...                        13\n",
              "3   7497  ...                        10\n",
              "4   7498  ...                        10\n",
              "\n",
              "[5 rows x 5 columns]"
            ]
          },
          "metadata": {
            "tags": []
          },
          "execution_count": 377
        }
      ]
    },
    {
      "cell_type": "code",
      "metadata": {
        "colab_type": "code",
        "id": "2mezTBIliNtj",
        "colab": {}
      },
      "source": [
        "test_ground_truth = test_ground_truth.drop(columns=['long-term_memorability','short-term_memorability'])"
      ],
      "execution_count": 0,
      "outputs": []
    },
    {
      "cell_type": "code",
      "metadata": {
        "colab_type": "code",
        "id": "ViZLkHktiaRS",
        "colab": {}
      },
      "source": [
        "test_ground_truth_df = test_ground_truth.copy()"
      ],
      "execution_count": 0,
      "outputs": []
    },
    {
      "cell_type": "code",
      "metadata": {
        "colab_type": "code",
        "id": "fHn61sf8j0l_",
        "colab": {}
      },
      "source": [
        "test_ground_truth_df['short-term_memorability'] = test_prediction_final[:,0]"
      ],
      "execution_count": 0,
      "outputs": []
    },
    {
      "cell_type": "code",
      "metadata": {
        "colab_type": "code",
        "id": "_iBCfGt-kwjG",
        "colab": {}
      },
      "source": [
        "test_ground_truth_df['long-term_memorability'] = test_prediction_final[:,1]"
      ],
      "execution_count": 0,
      "outputs": []
    },
    {
      "cell_type": "code",
      "metadata": {
        "colab_type": "code",
        "id": "F26spRRWk5Mx",
        "outputId": "da8b5416-c9c5-45f0-dc70-41c78970c056",
        "colab": {
          "base_uri": "https://localhost:8080/",
          "height": 406
        }
      },
      "source": [
        "test_ground_truth_df"
      ],
      "execution_count": 0,
      "outputs": [
        {
          "output_type": "execute_result",
          "data": {
            "text/html": [
              "<div>\n",
              "<style scoped>\n",
              "    .dataframe tbody tr th:only-of-type {\n",
              "        vertical-align: middle;\n",
              "    }\n",
              "\n",
              "    .dataframe tbody tr th {\n",
              "        vertical-align: top;\n",
              "    }\n",
              "\n",
              "    .dataframe thead th {\n",
              "        text-align: right;\n",
              "    }\n",
              "</style>\n",
              "<table border=\"1\" class=\"dataframe\">\n",
              "  <thead>\n",
              "    <tr style=\"text-align: right;\">\n",
              "      <th></th>\n",
              "      <th>video</th>\n",
              "      <th>short-term_memorability</th>\n",
              "      <th>nb_short-term_annotations</th>\n",
              "      <th>long-term_memorability</th>\n",
              "      <th>nb_long-term_annotations</th>\n",
              "    </tr>\n",
              "  </thead>\n",
              "  <tbody>\n",
              "    <tr>\n",
              "      <th>0</th>\n",
              "      <td>7494</td>\n",
              "      <td>0.833692</td>\n",
              "      <td>33</td>\n",
              "      <td>0.735243</td>\n",
              "      <td>12</td>\n",
              "    </tr>\n",
              "    <tr>\n",
              "      <th>1</th>\n",
              "      <td>7495</td>\n",
              "      <td>0.765481</td>\n",
              "      <td>34</td>\n",
              "      <td>0.745318</td>\n",
              "      <td>10</td>\n",
              "    </tr>\n",
              "    <tr>\n",
              "      <th>2</th>\n",
              "      <td>7496</td>\n",
              "      <td>0.907300</td>\n",
              "      <td>32</td>\n",
              "      <td>0.836648</td>\n",
              "      <td>13</td>\n",
              "    </tr>\n",
              "    <tr>\n",
              "      <th>3</th>\n",
              "      <td>7497</td>\n",
              "      <td>0.869259</td>\n",
              "      <td>33</td>\n",
              "      <td>0.775988</td>\n",
              "      <td>10</td>\n",
              "    </tr>\n",
              "    <tr>\n",
              "      <th>4</th>\n",
              "      <td>7498</td>\n",
              "      <td>0.816555</td>\n",
              "      <td>33</td>\n",
              "      <td>0.723792</td>\n",
              "      <td>10</td>\n",
              "    </tr>\n",
              "    <tr>\n",
              "      <th>...</th>\n",
              "      <td>...</td>\n",
              "      <td>...</td>\n",
              "      <td>...</td>\n",
              "      <td>...</td>\n",
              "      <td>...</td>\n",
              "    </tr>\n",
              "    <tr>\n",
              "      <th>1995</th>\n",
              "      <td>10004</td>\n",
              "      <td>0.901625</td>\n",
              "      <td>34</td>\n",
              "      <td>0.835653</td>\n",
              "      <td>17</td>\n",
              "    </tr>\n",
              "    <tr>\n",
              "      <th>1996</th>\n",
              "      <td>10005</td>\n",
              "      <td>0.870022</td>\n",
              "      <td>34</td>\n",
              "      <td>0.791313</td>\n",
              "      <td>9</td>\n",
              "    </tr>\n",
              "    <tr>\n",
              "      <th>1997</th>\n",
              "      <td>10006</td>\n",
              "      <td>0.876722</td>\n",
              "      <td>34</td>\n",
              "      <td>0.791760</td>\n",
              "      <td>12</td>\n",
              "    </tr>\n",
              "    <tr>\n",
              "      <th>1998</th>\n",
              "      <td>10007</td>\n",
              "      <td>0.886754</td>\n",
              "      <td>34</td>\n",
              "      <td>0.847683</td>\n",
              "      <td>12</td>\n",
              "    </tr>\n",
              "    <tr>\n",
              "      <th>1999</th>\n",
              "      <td>10008</td>\n",
              "      <td>0.903948</td>\n",
              "      <td>33</td>\n",
              "      <td>0.825969</td>\n",
              "      <td>10</td>\n",
              "    </tr>\n",
              "  </tbody>\n",
              "</table>\n",
              "<p>2000 rows × 5 columns</p>\n",
              "</div>"
            ],
            "text/plain": [
              "      video  ...  nb_long-term_annotations\n",
              "0      7494  ...                        12\n",
              "1      7495  ...                        10\n",
              "2      7496  ...                        13\n",
              "3      7497  ...                        10\n",
              "4      7498  ...                        10\n",
              "...     ...  ...                       ...\n",
              "1995  10004  ...                        17\n",
              "1996  10005  ...                         9\n",
              "1997  10006  ...                        12\n",
              "1998  10007  ...                        12\n",
              "1999  10008  ...                        10\n",
              "\n",
              "[2000 rows x 5 columns]"
            ]
          },
          "metadata": {
            "tags": []
          },
          "execution_count": 388
        }
      ]
    },
    {
      "cell_type": "code",
      "metadata": {
        "colab_type": "code",
        "id": "rpTQx4NWk9Mk",
        "outputId": "2a87b61d-8aac-4d9f-b46d-abd28279e868",
        "colab": {
          "base_uri": "https://localhost:8080/",
          "height": 33
        }
      },
      "source": [
        "drive.mount('/content/drive/', force_remount=True)"
      ],
      "execution_count": 0,
      "outputs": [
        {
          "output_type": "stream",
          "text": [
            "Mounted at /content/drive/\n"
          ],
          "name": "stdout"
        }
      ]
    },
    {
      "cell_type": "code",
      "metadata": {
        "colab_type": "code",
        "id": "gVowPADelEb8",
        "colab": {}
      },
      "source": [
        "os.chdir(\"/content/drive/My Drive/\")"
      ],
      "execution_count": 0,
      "outputs": []
    },
    {
      "cell_type": "code",
      "metadata": {
        "colab_type": "code",
        "id": "I1iEoFeulUVb",
        "outputId": "ba10c48f-ea43-40df-8d5b-f98c08459710",
        "colab": {
          "base_uri": "https://localhost:8080/",
          "height": 33
        }
      },
      "source": [
        "!pwd"
      ],
      "execution_count": 0,
      "outputs": [
        {
          "output_type": "stream",
          "text": [
            "/content/drive/My Drive\n"
          ],
          "name": "stdout"
        }
      ]
    },
    {
      "cell_type": "code",
      "metadata": {
        "colab_type": "code",
        "id": "Tmgr8WYclWjB",
        "colab": {}
      },
      "source": [
        "test_ground_truth_df.to_csv('test_set_memorability.csv')"
      ],
      "execution_count": 0,
      "outputs": []
    }
  ]
}